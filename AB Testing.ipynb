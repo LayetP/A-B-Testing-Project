{
 "cells": [
  {
   "cell_type": "markdown",
   "metadata": {
    "toc": true
   },
   "source": [
    "<h1>Table of Contents<span class=\"tocSkip\"></span></h1>\n",
    "<div class=\"toc\"><ul class=\"toc-item\"><li><span><a href=\"#Introduction\" data-toc-modified-id=\"Introduction-1\"><span class=\"toc-item-num\">1&nbsp;&nbsp;</span>Introduction</a></span></li><li><span><a href=\"#Libraries\" data-toc-modified-id=\"Libraries-2\"><span class=\"toc-item-num\">2&nbsp;&nbsp;</span>Libraries</a></span></li><li><span><a href=\"#Data\" data-toc-modified-id=\"Data-3\"><span class=\"toc-item-num\">3&nbsp;&nbsp;</span>Data</a></span></li><li><span><a href=\"#Data-Optimization\" data-toc-modified-id=\"Data-Optimization-4\"><span class=\"toc-item-num\">4&nbsp;&nbsp;</span>Data Optimization</a></span><ul class=\"toc-item\"><li><span><a href=\"#Marketing-events\" data-toc-modified-id=\"Marketing-events-4.1\"><span class=\"toc-item-num\">4.1&nbsp;&nbsp;</span>Marketing events</a></span></li><li><span><a href=\"#Users\" data-toc-modified-id=\"Users-4.2\"><span class=\"toc-item-num\">4.2&nbsp;&nbsp;</span>Users</a></span></li><li><span><a href=\"#Participants\" data-toc-modified-id=\"Participants-4.3\"><span class=\"toc-item-num\">4.3&nbsp;&nbsp;</span>Participants</a></span></li><li><span><a href=\"#User-events\" data-toc-modified-id=\"User-events-4.4\"><span class=\"toc-item-num\">4.4&nbsp;&nbsp;</span>User events</a></span></li></ul></li><li><span><a href=\"#EDA\" data-toc-modified-id=\"EDA-5\"><span class=\"toc-item-num\">5&nbsp;&nbsp;</span>EDA</a></span><ul class=\"toc-item\"><li><span><a href=\"#Funnels\" data-toc-modified-id=\"Funnels-5.1\"><span class=\"toc-item-num\">5.1&nbsp;&nbsp;</span>Funnels</a></span></li><li><span><a href=\"#Number-of-events\" data-toc-modified-id=\"Number-of-events-5.2\"><span class=\"toc-item-num\">5.2&nbsp;&nbsp;</span>Number of events</a></span></li><li><span><a href=\"#Distribution-of-events-over-time.\" data-toc-modified-id=\"Distribution-of-events-over-time.-5.3\"><span class=\"toc-item-num\">5.3&nbsp;&nbsp;</span>Distribution of events over time.</a></span></li></ul></li><li><span><a href=\"#A/B-Test\" data-toc-modified-id=\"A/B-Test-6\"><span class=\"toc-item-num\">6&nbsp;&nbsp;</span>A/B Test</a></span></li><li><span><a href=\"#Conclutions\" data-toc-modified-id=\"Conclutions-7\"><span class=\"toc-item-num\">7&nbsp;&nbsp;</span>Conclutions</a></span></li></ul></div>"
   ]
  },
  {
   "cell_type": "markdown",
   "metadata": {},
   "source": [
    "# A/B Teting - Final Project \n"
   ]
  },
  {
   "cell_type": "markdown",
   "metadata": {},
   "source": [
    "# Recommender System Test\n"
   ]
  },
  {
   "cell_type": "markdown",
   "metadata": {},
   "source": [
    "## Introduction\n"
   ]
  },
  {
   "cell_type": "markdown",
   "metadata": {},
   "source": [
    "Sometimes we need to pick up where others left off :)  \n",
    "\n",
    "In this project I will be exploring and A/B testing data from and online store. \n",
    "\n",
    "The goal of the test is to check the changes in conversion after inroduction of a new recommentadion system. \n",
    "\n",
    "The expectaion is to see an increase of 10% at least in conversion for the test participants at each stage of the funnel:\n",
    "product page -> product card -> purchase, within 14 days of signing up.   \n",
    "\n",
    "The data for the test was collected between 7.12.20 and 1.1.21.  \n",
    "\n",
    "Test subjects - 15% of new users from EU region.  \n",
    "\n",
    "The cutoff date for signing up was 21.12.20.  \n",
    "\n",
    "Expected number of test paticipants is 6000. \n",
    "\n",
    "---\n",
    "\n",
    "The project will include the following steps:   \n",
    "\n",
    "1. General data exploration and optimization:   \n",
    "- Does it need converting types?  \n",
    "- Are there any missing or duplicate values? If so, what's their nature?  \n",
    "\n",
    "2. EDA:   \n",
    "- Study conversion at different funnel stages.  \n",
    "- Is the number of events per user distributed equally in the samples?   \n",
    "- Are there users who entered both samples?   \n",
    "- How is the number of events distributed by days?  \n",
    "- Think of the possible details in the data that you have to take into account before starting the A/B test?   \n",
    "\n",
    "3. A/B testing:\n",
    "- Using the z-criterion to check the statistical difference between the proportions. \n",
    "- Analysis of the test results.  \n",
    "\n",
    "4. Conclusions.  \n"
   ]
  },
  {
   "cell_type": "markdown",
   "metadata": {},
   "source": [
    "## Libraries\n"
   ]
  },
  {
   "cell_type": "code",
   "execution_count": 1,
   "metadata": {},
   "outputs": [],
   "source": [
    "import pandas as pd\n",
    "\n",
    "import numpy as np\n",
    "\n",
    "import datetime as dt\n",
    "\n",
    "import matplotlib.pyplot as plt\n",
    "\n",
    "import seaborn as sns\n",
    "\n",
    "import plotly.express as px\n",
    "\n",
    "from plotly import graph_objects as go\n",
    "\n",
    "import scipy.stats as stats\n",
    "\n",
    "from statsmodels.stats.proportion import proportions_ztest\n",
    "\n",
    "from scipy import stats as st\n",
    "\n",
    "import sys\n",
    "import warnings\n",
    "if not sys.warnoptions:\n",
    "    warnings.simplefilter(\"ignore\");\n"
   ]
  },
  {
   "cell_type": "markdown",
   "metadata": {},
   "source": [
    "## Data \n"
   ]
  },
  {
   "cell_type": "code",
   "execution_count": 2,
   "metadata": {},
   "outputs": [],
   "source": [
    "try:\n",
    "    marketing_events = pd.read_csv('/datasets/ab_project_marketing_events_us.csv')\n",
    "except:\n",
    "    marketing_events = pd.read_csv('C:\\\\Users\\\\Layet\\\\Desktop\\\\Projects\\\\AB Test - Final Project/ab_project_marketing_events_us.csv')\n",
    "    \n",
    "try:\n",
    "    users = pd.read_csv('/datasets/final_ab_new_users_upd_us.csv')\n",
    "except:\n",
    "    users = pd.read_csv('C:/Users/Layet/Desktop/Projects/AB Test - Final Project/final_ab_new_users_upd_us.csv')\n",
    "    \n",
    "try:\n",
    "    user_events = pd.read_csv('/datasets/final_ab_events_upd_us.csv')\n",
    "except:\n",
    "    user_events = pd.read_csv('C:/Users/Layet/Desktop/Projects/AB Test - Final Project/final_ab_events_upd_us.csv')\n",
    "    \n",
    "try:\n",
    "    participants = pd.read_csv('/datasets/final_ab_participants_upd_us.csv')\n",
    "except:\n",
    "    participants = pd.read_csv('C:/Users/Layet/Desktop/Projects/AB Test - Final Project/final_ab_participants_upd_us.csv')\n"
   ]
  },
  {
   "cell_type": "markdown",
   "metadata": {},
   "source": [
    "## Data Optimization\n"
   ]
  },
  {
   "cell_type": "markdown",
   "metadata": {},
   "source": [
    "### Marketing events\n"
   ]
  },
  {
   "cell_type": "code",
   "execution_count": 3,
   "metadata": {},
   "outputs": [
    {
     "name": "stdout",
     "output_type": "stream",
     "text": [
      "<class 'pandas.core.frame.DataFrame'>\n",
      "RangeIndex: 14 entries, 0 to 13\n",
      "Data columns (total 4 columns):\n",
      " #   Column     Non-Null Count  Dtype \n",
      "---  ------     --------------  ----- \n",
      " 0   name       14 non-null     object\n",
      " 1   regions    14 non-null     object\n",
      " 2   start_dt   14 non-null     object\n",
      " 3   finish_dt  14 non-null     object\n",
      "dtypes: object(4)\n",
      "memory usage: 576.0+ bytes\n"
     ]
    }
   ],
   "source": [
    "marketing_events.info()"
   ]
  },
  {
   "cell_type": "markdown",
   "metadata": {},
   "source": [
    "There are 14 marketing events listed. The dates are in an incorrect format. This will be changed. \n"
   ]
  },
  {
   "cell_type": "code",
   "execution_count": 4,
   "metadata": {},
   "outputs": [
    {
     "data": {
      "text/html": [
       "<div>\n",
       "<style scoped>\n",
       "    .dataframe tbody tr th:only-of-type {\n",
       "        vertical-align: middle;\n",
       "    }\n",
       "\n",
       "    .dataframe tbody tr th {\n",
       "        vertical-align: top;\n",
       "    }\n",
       "\n",
       "    .dataframe thead th {\n",
       "        text-align: right;\n",
       "    }\n",
       "</style>\n",
       "<table border=\"1\" class=\"dataframe\">\n",
       "  <thead>\n",
       "    <tr style=\"text-align: right;\">\n",
       "      <th></th>\n",
       "      <th>name</th>\n",
       "      <th>regions</th>\n",
       "      <th>start_dt</th>\n",
       "      <th>finish_dt</th>\n",
       "    </tr>\n",
       "  </thead>\n",
       "  <tbody>\n",
       "    <tr>\n",
       "      <th>count</th>\n",
       "      <td>14</td>\n",
       "      <td>14</td>\n",
       "      <td>14</td>\n",
       "      <td>14</td>\n",
       "    </tr>\n",
       "    <tr>\n",
       "      <th>unique</th>\n",
       "      <td>14</td>\n",
       "      <td>6</td>\n",
       "      <td>14</td>\n",
       "      <td>14</td>\n",
       "    </tr>\n",
       "    <tr>\n",
       "      <th>top</th>\n",
       "      <td>Christmas&amp;New Year Promo</td>\n",
       "      <td>APAC</td>\n",
       "      <td>2020-12-25</td>\n",
       "      <td>2021-01-03</td>\n",
       "    </tr>\n",
       "    <tr>\n",
       "      <th>freq</th>\n",
       "      <td>1</td>\n",
       "      <td>4</td>\n",
       "      <td>1</td>\n",
       "      <td>1</td>\n",
       "    </tr>\n",
       "  </tbody>\n",
       "</table>\n",
       "</div>"
      ],
      "text/plain": [
       "                            name regions    start_dt   finish_dt\n",
       "count                         14      14          14          14\n",
       "unique                        14       6          14          14\n",
       "top     Christmas&New Year Promo    APAC  2020-12-25  2021-01-03\n",
       "freq                           1       4           1           1"
      ]
     },
     "execution_count": 4,
     "metadata": {},
     "output_type": "execute_result"
    }
   ],
   "source": [
    "marketing_events.describe()"
   ]
  },
  {
   "cell_type": "markdown",
   "metadata": {},
   "source": [
    "There are 6 unique regions. \n"
   ]
  },
  {
   "cell_type": "code",
   "execution_count": 5,
   "metadata": {},
   "outputs": [],
   "source": [
    "marketing_events['start_dt'] = pd.to_datetime(marketing_events['start_dt']).apply(lambda x:x.strftime('%d-%m-%Y'))\n",
    "marketing_events['finish_dt'] = pd.to_datetime(marketing_events['finish_dt']).apply(lambda x:x.strftime('%d-%m-%Y'))"
   ]
  },
  {
   "cell_type": "markdown",
   "metadata": {},
   "source": [
    "Both start dt and finish dt columns were changed to datetime format. \n"
   ]
  },
  {
   "cell_type": "code",
   "execution_count": 6,
   "metadata": {},
   "outputs": [
    {
     "data": {
      "text/html": [
       "<div>\n",
       "<style scoped>\n",
       "    .dataframe tbody tr th:only-of-type {\n",
       "        vertical-align: middle;\n",
       "    }\n",
       "\n",
       "    .dataframe tbody tr th {\n",
       "        vertical-align: top;\n",
       "    }\n",
       "\n",
       "    .dataframe thead th {\n",
       "        text-align: right;\n",
       "    }\n",
       "</style>\n",
       "<table border=\"1\" class=\"dataframe\">\n",
       "  <thead>\n",
       "    <tr style=\"text-align: right;\">\n",
       "      <th></th>\n",
       "      <th>name</th>\n",
       "      <th>regions</th>\n",
       "      <th>start_dt</th>\n",
       "      <th>finish_dt</th>\n",
       "    </tr>\n",
       "  </thead>\n",
       "  <tbody>\n",
       "    <tr>\n",
       "      <th>0</th>\n",
       "      <td>Christmas&amp;New Year Promo</td>\n",
       "      <td>EU, N.America</td>\n",
       "      <td>25-12-2020</td>\n",
       "      <td>03-01-2021</td>\n",
       "    </tr>\n",
       "    <tr>\n",
       "      <th>1</th>\n",
       "      <td>St. Valentine's Day Giveaway</td>\n",
       "      <td>EU, CIS, APAC, N.America</td>\n",
       "      <td>14-02-2020</td>\n",
       "      <td>16-02-2020</td>\n",
       "    </tr>\n",
       "    <tr>\n",
       "      <th>2</th>\n",
       "      <td>St. Patric's Day Promo</td>\n",
       "      <td>EU, N.America</td>\n",
       "      <td>17-03-2020</td>\n",
       "      <td>19-03-2020</td>\n",
       "    </tr>\n",
       "    <tr>\n",
       "      <th>3</th>\n",
       "      <td>Easter Promo</td>\n",
       "      <td>EU, CIS, APAC, N.America</td>\n",
       "      <td>12-04-2020</td>\n",
       "      <td>19-04-2020</td>\n",
       "    </tr>\n",
       "    <tr>\n",
       "      <th>4</th>\n",
       "      <td>4th of July Promo</td>\n",
       "      <td>N.America</td>\n",
       "      <td>04-07-2020</td>\n",
       "      <td>11-07-2020</td>\n",
       "    </tr>\n",
       "    <tr>\n",
       "      <th>5</th>\n",
       "      <td>Black Friday Ads Campaign</td>\n",
       "      <td>EU, CIS, APAC, N.America</td>\n",
       "      <td>26-11-2020</td>\n",
       "      <td>01-12-2020</td>\n",
       "    </tr>\n",
       "    <tr>\n",
       "      <th>6</th>\n",
       "      <td>Chinese New Year Promo</td>\n",
       "      <td>APAC</td>\n",
       "      <td>25-01-2020</td>\n",
       "      <td>07-02-2020</td>\n",
       "    </tr>\n",
       "    <tr>\n",
       "      <th>7</th>\n",
       "      <td>Labor day (May 1st) Ads Campaign</td>\n",
       "      <td>EU, CIS, APAC</td>\n",
       "      <td>01-05-2020</td>\n",
       "      <td>03-05-2020</td>\n",
       "    </tr>\n",
       "    <tr>\n",
       "      <th>8</th>\n",
       "      <td>International Women's Day Promo</td>\n",
       "      <td>EU, CIS, APAC</td>\n",
       "      <td>08-03-2020</td>\n",
       "      <td>10-03-2020</td>\n",
       "    </tr>\n",
       "    <tr>\n",
       "      <th>9</th>\n",
       "      <td>Victory Day CIS (May 9th) Event</td>\n",
       "      <td>CIS</td>\n",
       "      <td>09-05-2020</td>\n",
       "      <td>11-05-2020</td>\n",
       "    </tr>\n",
       "    <tr>\n",
       "      <th>10</th>\n",
       "      <td>CIS New Year Gift Lottery</td>\n",
       "      <td>CIS</td>\n",
       "      <td>30-12-2020</td>\n",
       "      <td>07-01-2021</td>\n",
       "    </tr>\n",
       "    <tr>\n",
       "      <th>11</th>\n",
       "      <td>Dragon Boat Festival Giveaway</td>\n",
       "      <td>APAC</td>\n",
       "      <td>25-06-2020</td>\n",
       "      <td>01-07-2020</td>\n",
       "    </tr>\n",
       "    <tr>\n",
       "      <th>12</th>\n",
       "      <td>Single's Day Gift Promo</td>\n",
       "      <td>APAC</td>\n",
       "      <td>11-11-2020</td>\n",
       "      <td>12-11-2020</td>\n",
       "    </tr>\n",
       "    <tr>\n",
       "      <th>13</th>\n",
       "      <td>Chinese Moon Festival</td>\n",
       "      <td>APAC</td>\n",
       "      <td>01-10-2020</td>\n",
       "      <td>07-10-2020</td>\n",
       "    </tr>\n",
       "  </tbody>\n",
       "</table>\n",
       "</div>"
      ],
      "text/plain": [
       "                                name                   regions    start_dt  \\\n",
       "0           Christmas&New Year Promo             EU, N.America  25-12-2020   \n",
       "1       St. Valentine's Day Giveaway  EU, CIS, APAC, N.America  14-02-2020   \n",
       "2             St. Patric's Day Promo             EU, N.America  17-03-2020   \n",
       "3                       Easter Promo  EU, CIS, APAC, N.America  12-04-2020   \n",
       "4                  4th of July Promo                 N.America  04-07-2020   \n",
       "5          Black Friday Ads Campaign  EU, CIS, APAC, N.America  26-11-2020   \n",
       "6             Chinese New Year Promo                      APAC  25-01-2020   \n",
       "7   Labor day (May 1st) Ads Campaign             EU, CIS, APAC  01-05-2020   \n",
       "8    International Women's Day Promo             EU, CIS, APAC  08-03-2020   \n",
       "9    Victory Day CIS (May 9th) Event                       CIS  09-05-2020   \n",
       "10         CIS New Year Gift Lottery                       CIS  30-12-2020   \n",
       "11     Dragon Boat Festival Giveaway                      APAC  25-06-2020   \n",
       "12           Single's Day Gift Promo                      APAC  11-11-2020   \n",
       "13             Chinese Moon Festival                      APAC  01-10-2020   \n",
       "\n",
       "     finish_dt  \n",
       "0   03-01-2021  \n",
       "1   16-02-2020  \n",
       "2   19-03-2020  \n",
       "3   19-04-2020  \n",
       "4   11-07-2020  \n",
       "5   01-12-2020  \n",
       "6   07-02-2020  \n",
       "7   03-05-2020  \n",
       "8   10-03-2020  \n",
       "9   11-05-2020  \n",
       "10  07-01-2021  \n",
       "11  01-07-2020  \n",
       "12  12-11-2020  \n",
       "13  07-10-2020  "
      ]
     },
     "execution_count": 6,
     "metadata": {},
     "output_type": "execute_result"
    }
   ],
   "source": [
    "marketing_events"
   ]
  },
  {
   "cell_type": "markdown",
   "metadata": {},
   "source": [
    "There was a promotional event during the last week of the data collection in the relevant region.  \n",
    "The data for this week might be inaccurate, as promotions bring sales and the data collected, might not reflect correctly the usual behavior of users. \n"
   ]
  },
  {
   "cell_type": "markdown",
   "metadata": {},
   "source": [
    "There are no missing or duplicated values. \n"
   ]
  },
  {
   "cell_type": "markdown",
   "metadata": {},
   "source": [
    "### Users\n"
   ]
  },
  {
   "cell_type": "code",
   "execution_count": 7,
   "metadata": {},
   "outputs": [
    {
     "name": "stdout",
     "output_type": "stream",
     "text": [
      "<class 'pandas.core.frame.DataFrame'>\n",
      "RangeIndex: 58703 entries, 0 to 58702\n",
      "Data columns (total 4 columns):\n",
      " #   Column      Non-Null Count  Dtype \n",
      "---  ------      --------------  ----- \n",
      " 0   user_id     58703 non-null  object\n",
      " 1   first_date  58703 non-null  object\n",
      " 2   region      58703 non-null  object\n",
      " 3   device      58703 non-null  object\n",
      "dtypes: object(4)\n",
      "memory usage: 1.8+ MB\n"
     ]
    }
   ],
   "source": [
    "users.info()"
   ]
  },
  {
   "cell_type": "markdown",
   "metadata": {},
   "source": [
    "It looks like there are no missing values.  \n",
    "The first date column is incorrect type. This will be changed. \n"
   ]
  },
  {
   "cell_type": "code",
   "execution_count": 8,
   "metadata": {},
   "outputs": [
    {
     "data": {
      "text/html": [
       "<div>\n",
       "<style scoped>\n",
       "    .dataframe tbody tr th:only-of-type {\n",
       "        vertical-align: middle;\n",
       "    }\n",
       "\n",
       "    .dataframe tbody tr th {\n",
       "        vertical-align: top;\n",
       "    }\n",
       "\n",
       "    .dataframe thead th {\n",
       "        text-align: right;\n",
       "    }\n",
       "</style>\n",
       "<table border=\"1\" class=\"dataframe\">\n",
       "  <thead>\n",
       "    <tr style=\"text-align: right;\">\n",
       "      <th></th>\n",
       "      <th>user_id</th>\n",
       "      <th>first_date</th>\n",
       "      <th>region</th>\n",
       "      <th>device</th>\n",
       "    </tr>\n",
       "  </thead>\n",
       "  <tbody>\n",
       "    <tr>\n",
       "      <th>count</th>\n",
       "      <td>58703</td>\n",
       "      <td>58703</td>\n",
       "      <td>58703</td>\n",
       "      <td>58703</td>\n",
       "    </tr>\n",
       "    <tr>\n",
       "      <th>unique</th>\n",
       "      <td>58703</td>\n",
       "      <td>17</td>\n",
       "      <td>4</td>\n",
       "      <td>4</td>\n",
       "    </tr>\n",
       "    <tr>\n",
       "      <th>top</th>\n",
       "      <td>D72A72121175D8BE</td>\n",
       "      <td>2020-12-21</td>\n",
       "      <td>EU</td>\n",
       "      <td>Android</td>\n",
       "    </tr>\n",
       "    <tr>\n",
       "      <th>freq</th>\n",
       "      <td>1</td>\n",
       "      <td>6077</td>\n",
       "      <td>43396</td>\n",
       "      <td>26159</td>\n",
       "    </tr>\n",
       "  </tbody>\n",
       "</table>\n",
       "</div>"
      ],
      "text/plain": [
       "                 user_id  first_date region   device\n",
       "count              58703       58703  58703    58703\n",
       "unique             58703          17      4        4\n",
       "top     D72A72121175D8BE  2020-12-21     EU  Android\n",
       "freq                   1        6077  43396    26159"
      ]
     },
     "execution_count": 8,
     "metadata": {},
     "output_type": "execute_result"
    }
   ],
   "source": [
    "users.describe()"
   ]
  },
  {
   "cell_type": "markdown",
   "metadata": {},
   "source": [
    "There are 58703 unique users from 4 regions, using 4 different device types.  \n",
    "There are 17 sign-up dates. Those will need to be checked. Technical description of the test stated that last user sign up was before 21.12.20. \n"
   ]
  },
  {
   "cell_type": "code",
   "execution_count": 9,
   "metadata": {},
   "outputs": [],
   "source": [
    "users['region'] = users['region'].str.lower()\n",
    "users['device'] = users['device'].str.lower()"
   ]
  },
  {
   "cell_type": "code",
   "execution_count": 10,
   "metadata": {},
   "outputs": [
    {
     "name": "stdout",
     "output_type": "stream",
     "text": [
      "07-12-2020\n",
      "23-12-2020\n"
     ]
    }
   ],
   "source": [
    "users['first_date'] = pd.to_datetime(users['first_date']).apply(lambda x:x.strftime('%d-%m-%Y'))\n",
    "print(users['first_date'].min())\n",
    "print(users['first_date'].max())"
   ]
  },
  {
   "cell_type": "code",
   "execution_count": 11,
   "metadata": {},
   "outputs": [
    {
     "data": {
      "text/plain": [
       "user_id       11340\n",
       "first_date    11340\n",
       "region        11340\n",
       "device        11340\n",
       "dtype: int64"
      ]
     },
     "execution_count": 11,
     "metadata": {},
     "output_type": "execute_result"
    }
   ],
   "source": [
    "users[users['first_date'] >= '21-12-2020'].count()"
   ]
  },
  {
   "cell_type": "markdown",
   "metadata": {},
   "source": [
    "There are 11340 users who signed up after the last sign up date. \n"
   ]
  },
  {
   "cell_type": "code",
   "execution_count": 12,
   "metadata": {},
   "outputs": [
    {
     "data": {
      "text/html": [
       "<div>\n",
       "<style scoped>\n",
       "    .dataframe tbody tr th:only-of-type {\n",
       "        vertical-align: middle;\n",
       "    }\n",
       "\n",
       "    .dataframe tbody tr th {\n",
       "        vertical-align: top;\n",
       "    }\n",
       "\n",
       "    .dataframe thead th {\n",
       "        text-align: right;\n",
       "    }\n",
       "</style>\n",
       "<table border=\"1\" class=\"dataframe\">\n",
       "  <thead>\n",
       "    <tr style=\"text-align: right;\">\n",
       "      <th></th>\n",
       "      <th>user_id</th>\n",
       "      <th>first_date</th>\n",
       "      <th>region</th>\n",
       "      <th>device</th>\n",
       "    </tr>\n",
       "  </thead>\n",
       "  <tbody>\n",
       "    <tr>\n",
       "      <th>10739</th>\n",
       "      <td>F8EFEFE5300E7AA6</td>\n",
       "      <td>21-12-2020</td>\n",
       "      <td>eu</td>\n",
       "      <td>pc</td>\n",
       "    </tr>\n",
       "    <tr>\n",
       "      <th>10741</th>\n",
       "      <td>8B280E35A960399E</td>\n",
       "      <td>21-12-2020</td>\n",
       "      <td>eu</td>\n",
       "      <td>pc</td>\n",
       "    </tr>\n",
       "    <tr>\n",
       "      <th>10742</th>\n",
       "      <td>88FD5CFFDBA32E32</td>\n",
       "      <td>21-12-2020</td>\n",
       "      <td>eu</td>\n",
       "      <td>iphone</td>\n",
       "    </tr>\n",
       "    <tr>\n",
       "      <th>10743</th>\n",
       "      <td>31FFA5EE2B84061B</td>\n",
       "      <td>21-12-2020</td>\n",
       "      <td>eu</td>\n",
       "      <td>iphone</td>\n",
       "    </tr>\n",
       "    <tr>\n",
       "      <th>10744</th>\n",
       "      <td>3783ABB36B76FC02</td>\n",
       "      <td>21-12-2020</td>\n",
       "      <td>eu</td>\n",
       "      <td>android</td>\n",
       "    </tr>\n",
       "    <tr>\n",
       "      <th>...</th>\n",
       "      <td>...</td>\n",
       "      <td>...</td>\n",
       "      <td>...</td>\n",
       "      <td>...</td>\n",
       "    </tr>\n",
       "    <tr>\n",
       "      <th>32118</th>\n",
       "      <td>165AFCBF42C043F8</td>\n",
       "      <td>23-12-2020</td>\n",
       "      <td>eu</td>\n",
       "      <td>pc</td>\n",
       "    </tr>\n",
       "    <tr>\n",
       "      <th>32119</th>\n",
       "      <td>54E7F36C0E976E24</td>\n",
       "      <td>23-12-2020</td>\n",
       "      <td>eu</td>\n",
       "      <td>android</td>\n",
       "    </tr>\n",
       "    <tr>\n",
       "      <th>32120</th>\n",
       "      <td>7E43EB2E03A33E78</td>\n",
       "      <td>23-12-2020</td>\n",
       "      <td>eu</td>\n",
       "      <td>pc</td>\n",
       "    </tr>\n",
       "    <tr>\n",
       "      <th>32121</th>\n",
       "      <td>B8B679DEE9F2CA06</td>\n",
       "      <td>23-12-2020</td>\n",
       "      <td>eu</td>\n",
       "      <td>pc</td>\n",
       "    </tr>\n",
       "    <tr>\n",
       "      <th>32122</th>\n",
       "      <td>BE595EE3E9D59FB9</td>\n",
       "      <td>23-12-2020</td>\n",
       "      <td>eu</td>\n",
       "      <td>pc</td>\n",
       "    </tr>\n",
       "  </tbody>\n",
       "</table>\n",
       "<p>8378 rows × 4 columns</p>\n",
       "</div>"
      ],
      "text/plain": [
       "                user_id  first_date region   device\n",
       "10739  F8EFEFE5300E7AA6  21-12-2020     eu       pc\n",
       "10741  8B280E35A960399E  21-12-2020     eu       pc\n",
       "10742  88FD5CFFDBA32E32  21-12-2020     eu   iphone\n",
       "10743  31FFA5EE2B84061B  21-12-2020     eu   iphone\n",
       "10744  3783ABB36B76FC02  21-12-2020     eu  android\n",
       "...                 ...         ...    ...      ...\n",
       "32118  165AFCBF42C043F8  23-12-2020     eu       pc\n",
       "32119  54E7F36C0E976E24  23-12-2020     eu  android\n",
       "32120  7E43EB2E03A33E78  23-12-2020     eu       pc\n",
       "32121  B8B679DEE9F2CA06  23-12-2020     eu       pc\n",
       "32122  BE595EE3E9D59FB9  23-12-2020     eu       pc\n",
       "\n",
       "[8378 rows x 4 columns]"
      ]
     },
     "execution_count": 12,
     "metadata": {},
     "output_type": "execute_result"
    }
   ],
   "source": [
    "users.loc[(users['first_date'] >= '21-12-2020') & (users['region'] == 'eu')]"
   ]
  },
  {
   "cell_type": "markdown",
   "metadata": {},
   "source": [
    "Out of them 8378 from the EU. \n"
   ]
  },
  {
   "cell_type": "code",
   "execution_count": 13,
   "metadata": {},
   "outputs": [
    {
     "data": {
      "text/plain": [
       "user_id       43396\n",
       "first_date    43396\n",
       "region        43396\n",
       "device        43396\n",
       "dtype: int64"
      ]
     },
     "execution_count": 13,
     "metadata": {},
     "output_type": "execute_result"
    }
   ],
   "source": [
    "users[users['region'] == 'eu'].count()"
   ]
  },
  {
   "cell_type": "markdown",
   "metadata": {},
   "source": [
    "There are 43396 unique users from the EU. As per the technical description of the test, the test participants are 15% of the EU users. As user behavior can be greatly affected by users background, because of different cultures, customs, holidays and habbits, comparing test subjects to a coltrol group from another region will not yield an accurate result.   Users from other regions will be dropped.  \n"
   ]
  },
  {
   "cell_type": "code",
   "execution_count": 14,
   "metadata": {},
   "outputs": [
    {
     "name": "stdout",
     "output_type": "stream",
     "text": [
      "35018\n",
      "5.17975650513249\n"
     ]
    }
   ],
   "source": [
    "print(len(users[users['region'] == 'eu']) - len(users.loc[(users['first_date'] >= '21-12-2020') & (users['region'] == 'eu')]))\n",
    "print(len(users[users['region'] == 'eu']) / len(users.loc[(users['first_date'] >= '21-12-2020') & (users['region'] == 'eu')]))"
   ]
  },
  {
   "cell_type": "markdown",
   "metadata": {},
   "source": [
    "The users who do not meet the condition of being from the EU and signing up before the deadline are a little over 5% of the total. After removing them I will have 35018 users left. \n"
   ]
  },
  {
   "cell_type": "code",
   "execution_count": 15,
   "metadata": {},
   "outputs": [
    {
     "data": {
      "text/plain": [
       "0"
      ]
     },
     "execution_count": 15,
     "metadata": {},
     "output_type": "execute_result"
    }
   ],
   "source": [
    "users.duplicated().sum()"
   ]
  },
  {
   "cell_type": "markdown",
   "metadata": {},
   "source": [
    "There are no duplicated values.\n"
   ]
  },
  {
   "cell_type": "code",
   "execution_count": 16,
   "metadata": {},
   "outputs": [
    {
     "data": {
      "text/plain": [
       "user_id       0\n",
       "first_date    0\n",
       "region        0\n",
       "device        0\n",
       "dtype: int64"
      ]
     },
     "execution_count": 16,
     "metadata": {},
     "output_type": "execute_result"
    }
   ],
   "source": [
    "users.isnull().sum()"
   ]
  },
  {
   "cell_type": "markdown",
   "metadata": {},
   "source": [
    "There are no missing values. \n"
   ]
  },
  {
   "cell_type": "code",
   "execution_count": 17,
   "metadata": {},
   "outputs": [
    {
     "name": "stdout",
     "output_type": "stream",
     "text": [
      "<class 'pandas.core.frame.DataFrame'>\n",
      "Int64Index: 35018 entries, 0 to 58702\n",
      "Data columns (total 4 columns):\n",
      " #   Column      Non-Null Count  Dtype \n",
      "---  ------      --------------  ----- \n",
      " 0   user_id     35018 non-null  object\n",
      " 1   first_date  35018 non-null  object\n",
      " 2   region      35018 non-null  object\n",
      " 3   device      35018 non-null  object\n",
      "dtypes: object(4)\n",
      "memory usage: 1.3+ MB\n",
      "None\n",
      "            user_id  first_date region   device\n",
      "0  D72A72121175D8BE  07-12-2020     eu       pc\n",
      "2  2E1BF1D4C37EA01F  07-12-2020     eu       pc\n",
      "3  50734A22C0C63768  07-12-2020     eu   iphone\n",
      "7  8942E64218C9A1ED  07-12-2020     eu       pc\n",
      "9  FFCEA1179C253104  07-12-2020     eu  android\n"
     ]
    }
   ],
   "source": [
    "users_eu = users.query('region == \"eu\" and first_date < \"21-12-2020\" ')\n",
    "print(users_eu.info())\n",
    "print(users_eu.head())"
   ]
  },
  {
   "cell_type": "markdown",
   "metadata": {},
   "source": [
    "The approplriate users were weeded out of the original df. \n"
   ]
  },
  {
   "cell_type": "markdown",
   "metadata": {},
   "source": [
    "### Participants\n"
   ]
  },
  {
   "cell_type": "code",
   "execution_count": 18,
   "metadata": {},
   "outputs": [
    {
     "name": "stdout",
     "output_type": "stream",
     "text": [
      "<class 'pandas.core.frame.DataFrame'>\n",
      "RangeIndex: 14525 entries, 0 to 14524\n",
      "Data columns (total 3 columns):\n",
      " #   Column   Non-Null Count  Dtype \n",
      "---  ------   --------------  ----- \n",
      " 0   user_id  14525 non-null  object\n",
      " 1   group    14525 non-null  object\n",
      " 2   ab_test  14525 non-null  object\n",
      "dtypes: object(3)\n",
      "memory usage: 340.6+ KB\n"
     ]
    }
   ],
   "source": [
    "participants.info()"
   ]
  },
  {
   "cell_type": "markdown",
   "metadata": {},
   "source": [
    "It looks like there are no missing values.   \n"
   ]
  },
  {
   "cell_type": "code",
   "execution_count": 19,
   "metadata": {},
   "outputs": [
    {
     "data": {
      "text/html": [
       "<div>\n",
       "<style scoped>\n",
       "    .dataframe tbody tr th:only-of-type {\n",
       "        vertical-align: middle;\n",
       "    }\n",
       "\n",
       "    .dataframe tbody tr th {\n",
       "        vertical-align: top;\n",
       "    }\n",
       "\n",
       "    .dataframe thead th {\n",
       "        text-align: right;\n",
       "    }\n",
       "</style>\n",
       "<table border=\"1\" class=\"dataframe\">\n",
       "  <thead>\n",
       "    <tr style=\"text-align: right;\">\n",
       "      <th></th>\n",
       "      <th>user_id</th>\n",
       "      <th>group</th>\n",
       "      <th>ab_test</th>\n",
       "    </tr>\n",
       "  </thead>\n",
       "  <tbody>\n",
       "    <tr>\n",
       "      <th>count</th>\n",
       "      <td>14525</td>\n",
       "      <td>14525</td>\n",
       "      <td>14525</td>\n",
       "    </tr>\n",
       "    <tr>\n",
       "      <th>unique</th>\n",
       "      <td>13638</td>\n",
       "      <td>2</td>\n",
       "      <td>2</td>\n",
       "    </tr>\n",
       "    <tr>\n",
       "      <th>top</th>\n",
       "      <td>307C06C0E6F09B93</td>\n",
       "      <td>A</td>\n",
       "      <td>interface_eu_test</td>\n",
       "    </tr>\n",
       "    <tr>\n",
       "      <th>freq</th>\n",
       "      <td>2</td>\n",
       "      <td>8214</td>\n",
       "      <td>10850</td>\n",
       "    </tr>\n",
       "  </tbody>\n",
       "</table>\n",
       "</div>"
      ],
      "text/plain": [
       "                 user_id  group            ab_test\n",
       "count              14525  14525              14525\n",
       "unique             13638      2                  2\n",
       "top     307C06C0E6F09B93      A  interface_eu_test\n",
       "freq                   2   8214              10850"
      ]
     },
     "execution_count": 19,
     "metadata": {},
     "output_type": "execute_result"
    }
   ],
   "source": [
    "participants.describe()"
   ]
  },
  {
   "cell_type": "markdown",
   "metadata": {},
   "source": [
    "It looks like there are some duplicates in the data as unique user ids are less than the count. Also, it looks like there are two test names. I will look into this and try to identify if it is an register problem or something else.  \n"
   ]
  },
  {
   "cell_type": "code",
   "execution_count": 20,
   "metadata": {},
   "outputs": [
    {
     "data": {
      "text/html": [
       "<div>\n",
       "<style scoped>\n",
       "    .dataframe tbody tr th:only-of-type {\n",
       "        vertical-align: middle;\n",
       "    }\n",
       "\n",
       "    .dataframe tbody tr th {\n",
       "        vertical-align: top;\n",
       "    }\n",
       "\n",
       "    .dataframe thead th {\n",
       "        text-align: right;\n",
       "    }\n",
       "</style>\n",
       "<table border=\"1\" class=\"dataframe\">\n",
       "  <thead>\n",
       "    <tr style=\"text-align: right;\">\n",
       "      <th></th>\n",
       "      <th>user_id</th>\n",
       "      <th>group</th>\n",
       "      <th>ab_test</th>\n",
       "    </tr>\n",
       "  </thead>\n",
       "  <tbody>\n",
       "    <tr>\n",
       "      <th>0</th>\n",
       "      <td>D1ABA3E2887B6A73</td>\n",
       "      <td>A</td>\n",
       "      <td>recommender_system_test</td>\n",
       "    </tr>\n",
       "    <tr>\n",
       "      <th>1</th>\n",
       "      <td>A7A3664BD6242119</td>\n",
       "      <td>A</td>\n",
       "      <td>recommender_system_test</td>\n",
       "    </tr>\n",
       "    <tr>\n",
       "      <th>2</th>\n",
       "      <td>DABC14FDDFADD29E</td>\n",
       "      <td>A</td>\n",
       "      <td>recommender_system_test</td>\n",
       "    </tr>\n",
       "    <tr>\n",
       "      <th>3</th>\n",
       "      <td>04988C5DF189632E</td>\n",
       "      <td>A</td>\n",
       "      <td>recommender_system_test</td>\n",
       "    </tr>\n",
       "    <tr>\n",
       "      <th>4</th>\n",
       "      <td>4FF2998A348C484F</td>\n",
       "      <td>A</td>\n",
       "      <td>recommender_system_test</td>\n",
       "    </tr>\n",
       "  </tbody>\n",
       "</table>\n",
       "</div>"
      ],
      "text/plain": [
       "            user_id group                  ab_test\n",
       "0  D1ABA3E2887B6A73     A  recommender_system_test\n",
       "1  A7A3664BD6242119     A  recommender_system_test\n",
       "2  DABC14FDDFADD29E     A  recommender_system_test\n",
       "3  04988C5DF189632E     A  recommender_system_test\n",
       "4  4FF2998A348C484F     A  recommender_system_test"
      ]
     },
     "execution_count": 20,
     "metadata": {},
     "output_type": "execute_result"
    }
   ],
   "source": [
    "participants.head()"
   ]
  },
  {
   "cell_type": "code",
   "execution_count": 21,
   "metadata": {},
   "outputs": [
    {
     "data": {
      "text/plain": [
       "interface_eu_test          10850\n",
       "recommender_system_test     3675\n",
       "Name: ab_test, dtype: int64"
      ]
     },
     "execution_count": 21,
     "metadata": {},
     "output_type": "execute_result"
    }
   ],
   "source": [
    "participants['ab_test'].value_counts()"
   ]
  },
  {
   "cell_type": "markdown",
   "metadata": {},
   "source": [
    "There are indeed two different tests in the data. This is a problem for the testing as we cannot know what change to the system affected the user behavior. So all users that had partaken in two test need to be removed for accurate test results.  \n",
    "Another problem is that we have only 3675 user who have been part of the test I am conducting. This is before checking if there are users that belong to both groups or both tests. The expected number was 6000. This is a very small sample that might not yield trustworthy results. \n"
   ]
  },
  {
   "cell_type": "code",
   "execution_count": 22,
   "metadata": {},
   "outputs": [
    {
     "data": {
      "text/html": [
       "<div>\n",
       "<style scoped>\n",
       "    .dataframe tbody tr th:only-of-type {\n",
       "        vertical-align: middle;\n",
       "    }\n",
       "\n",
       "    .dataframe tbody tr th {\n",
       "        vertical-align: top;\n",
       "    }\n",
       "\n",
       "    .dataframe thead th {\n",
       "        text-align: right;\n",
       "    }\n",
       "</style>\n",
       "<table border=\"1\" class=\"dataframe\">\n",
       "  <thead>\n",
       "    <tr style=\"text-align: right;\">\n",
       "      <th></th>\n",
       "      <th>user_id</th>\n",
       "      <th>group</th>\n",
       "      <th>ab_test</th>\n",
       "    </tr>\n",
       "  </thead>\n",
       "  <tbody>\n",
       "    <tr>\n",
       "      <th>1</th>\n",
       "      <td>001064FEAAB631A1</td>\n",
       "      <td>1</td>\n",
       "      <td>2</td>\n",
       "    </tr>\n",
       "    <tr>\n",
       "      <th>8</th>\n",
       "      <td>00341D8401F0F665</td>\n",
       "      <td>1</td>\n",
       "      <td>2</td>\n",
       "    </tr>\n",
       "    <tr>\n",
       "      <th>23</th>\n",
       "      <td>0082295A41A867B5</td>\n",
       "      <td>2</td>\n",
       "      <td>2</td>\n",
       "    </tr>\n",
       "    <tr>\n",
       "      <th>38</th>\n",
       "      <td>00E68F103C66C1F7</td>\n",
       "      <td>2</td>\n",
       "      <td>2</td>\n",
       "    </tr>\n",
       "    <tr>\n",
       "      <th>41</th>\n",
       "      <td>00EFA157F7B6E1C4</td>\n",
       "      <td>1</td>\n",
       "      <td>2</td>\n",
       "    </tr>\n",
       "    <tr>\n",
       "      <th>...</th>\n",
       "      <td>...</td>\n",
       "      <td>...</td>\n",
       "      <td>...</td>\n",
       "    </tr>\n",
       "    <tr>\n",
       "      <th>13576</th>\n",
       "      <td>FEA0C585A53E7027</td>\n",
       "      <td>2</td>\n",
       "      <td>2</td>\n",
       "    </tr>\n",
       "    <tr>\n",
       "      <th>13582</th>\n",
       "      <td>FEC0BCA6C323872F</td>\n",
       "      <td>2</td>\n",
       "      <td>2</td>\n",
       "    </tr>\n",
       "    <tr>\n",
       "      <th>13605</th>\n",
       "      <td>FF2174A1AA0EAD20</td>\n",
       "      <td>1</td>\n",
       "      <td>2</td>\n",
       "    </tr>\n",
       "    <tr>\n",
       "      <th>13610</th>\n",
       "      <td>FF44696E39039D29</td>\n",
       "      <td>1</td>\n",
       "      <td>2</td>\n",
       "    </tr>\n",
       "    <tr>\n",
       "      <th>13636</th>\n",
       "      <td>FFF28D02B1EACBE1</td>\n",
       "      <td>2</td>\n",
       "      <td>2</td>\n",
       "    </tr>\n",
       "  </tbody>\n",
       "</table>\n",
       "<p>887 rows × 3 columns</p>\n",
       "</div>"
      ],
      "text/plain": [
       "                user_id  group  ab_test\n",
       "1      001064FEAAB631A1      1        2\n",
       "8      00341D8401F0F665      1        2\n",
       "23     0082295A41A867B5      2        2\n",
       "38     00E68F103C66C1F7      2        2\n",
       "41     00EFA157F7B6E1C4      1        2\n",
       "...                 ...    ...      ...\n",
       "13576  FEA0C585A53E7027      2        2\n",
       "13582  FEC0BCA6C323872F      2        2\n",
       "13605  FF2174A1AA0EAD20      1        2\n",
       "13610  FF44696E39039D29      1        2\n",
       "13636  FFF28D02B1EACBE1      2        2\n",
       "\n",
       "[887 rows x 3 columns]"
      ]
     },
     "execution_count": 22,
     "metadata": {},
     "output_type": "execute_result"
    }
   ],
   "source": [
    "doubles = participants.groupby(['user_id'])['group', 'ab_test'].nunique().reset_index().query('group > 1 or ab_test > 1')\n",
    "doubles"
   ]
  },
  {
   "cell_type": "markdown",
   "metadata": {},
   "source": [
    "There are 887 users who either belong to both groups or both tests. \n"
   ]
  },
  {
   "cell_type": "code",
   "execution_count": 23,
   "metadata": {},
   "outputs": [
    {
     "data": {
      "text/html": [
       "<div>\n",
       "<style scoped>\n",
       "    .dataframe tbody tr th:only-of-type {\n",
       "        vertical-align: middle;\n",
       "    }\n",
       "\n",
       "    .dataframe tbody tr th {\n",
       "        vertical-align: top;\n",
       "    }\n",
       "\n",
       "    .dataframe thead th {\n",
       "        text-align: right;\n",
       "    }\n",
       "</style>\n",
       "<table border=\"1\" class=\"dataframe\">\n",
       "  <thead>\n",
       "    <tr style=\"text-align: right;\">\n",
       "      <th></th>\n",
       "      <th>user_id</th>\n",
       "      <th>group</th>\n",
       "      <th>ab_test</th>\n",
       "    </tr>\n",
       "  </thead>\n",
       "  <tbody>\n",
       "    <tr>\n",
       "      <th>1</th>\n",
       "      <td>001064FEAAB631A1</td>\n",
       "      <td>1</td>\n",
       "      <td>2</td>\n",
       "    </tr>\n",
       "    <tr>\n",
       "      <th>8</th>\n",
       "      <td>00341D8401F0F665</td>\n",
       "      <td>1</td>\n",
       "      <td>2</td>\n",
       "    </tr>\n",
       "    <tr>\n",
       "      <th>41</th>\n",
       "      <td>00EFA157F7B6E1C4</td>\n",
       "      <td>1</td>\n",
       "      <td>2</td>\n",
       "    </tr>\n",
       "    <tr>\n",
       "      <th>81</th>\n",
       "      <td>01B9975CAE144B78</td>\n",
       "      <td>1</td>\n",
       "      <td>2</td>\n",
       "    </tr>\n",
       "    <tr>\n",
       "      <th>94</th>\n",
       "      <td>020A95B66F363AFB</td>\n",
       "      <td>1</td>\n",
       "      <td>2</td>\n",
       "    </tr>\n",
       "    <tr>\n",
       "      <th>...</th>\n",
       "      <td>...</td>\n",
       "      <td>...</td>\n",
       "      <td>...</td>\n",
       "    </tr>\n",
       "    <tr>\n",
       "      <th>13446</th>\n",
       "      <td>FC37CBE8211E02A8</td>\n",
       "      <td>1</td>\n",
       "      <td>2</td>\n",
       "    </tr>\n",
       "    <tr>\n",
       "      <th>13480</th>\n",
       "      <td>FCF70F6E1871BD78</td>\n",
       "      <td>1</td>\n",
       "      <td>2</td>\n",
       "    </tr>\n",
       "    <tr>\n",
       "      <th>13567</th>\n",
       "      <td>FE82D7FC50D4155B</td>\n",
       "      <td>1</td>\n",
       "      <td>2</td>\n",
       "    </tr>\n",
       "    <tr>\n",
       "      <th>13605</th>\n",
       "      <td>FF2174A1AA0EAD20</td>\n",
       "      <td>1</td>\n",
       "      <td>2</td>\n",
       "    </tr>\n",
       "    <tr>\n",
       "      <th>13610</th>\n",
       "      <td>FF44696E39039D29</td>\n",
       "      <td>1</td>\n",
       "      <td>2</td>\n",
       "    </tr>\n",
       "  </tbody>\n",
       "</table>\n",
       "<p>446 rows × 3 columns</p>\n",
       "</div>"
      ],
      "text/plain": [
       "                user_id  group  ab_test\n",
       "1      001064FEAAB631A1      1        2\n",
       "8      00341D8401F0F665      1        2\n",
       "41     00EFA157F7B6E1C4      1        2\n",
       "81     01B9975CAE144B78      1        2\n",
       "94     020A95B66F363AFB      1        2\n",
       "...                 ...    ...      ...\n",
       "13446  FC37CBE8211E02A8      1        2\n",
       "13480  FCF70F6E1871BD78      1        2\n",
       "13567  FE82D7FC50D4155B      1        2\n",
       "13605  FF2174A1AA0EAD20      1        2\n",
       "13610  FF44696E39039D29      1        2\n",
       "\n",
       "[446 rows x 3 columns]"
      ]
     },
     "execution_count": 23,
     "metadata": {},
     "output_type": "execute_result"
    }
   ],
   "source": [
    "one_group_doubles = doubles.query('group == 1 and ab_test == 2')\n",
    "one_group_doubles"
   ]
  },
  {
   "cell_type": "markdown",
   "metadata": {},
   "source": [
    "Out of 887, 446 users belong only to one group, but to two tests. I might use the ones belonging to group A as A is the control group and by definition this group did not experince any changes with the interface or the recommender sytem. \n"
   ]
  },
  {
   "cell_type": "code",
   "execution_count": 24,
   "metadata": {},
   "outputs": [
    {
     "name": "stdout",
     "output_type": "stream",
     "text": [
      "                user_id group                  ab_test\n",
      "2      DABC14FDDFADD29E     A  recommender_system_test\n",
      "3      04988C5DF189632E     A  recommender_system_test\n",
      "8      B3A2485649E4A012     A  recommender_system_test\n",
      "17     5D5E6EE92AF6E9E0     B  recommender_system_test\n",
      "19     0F1FF07B3788976D     A  recommender_system_test\n",
      "...                 ...   ...                      ...\n",
      "14412  C7D1A5A6F6BAD476     A        interface_eu_test\n",
      "14433  7DF21AEB1AA231F9     B        interface_eu_test\n",
      "14445  EA6EA431FF84563B     B        interface_eu_test\n",
      "14470  70BF82527E6ED9C3     A        interface_eu_test\n",
      "14487  EF2E4FAF26951358     A        interface_eu_test\n",
      "\n",
      "[892 rows x 3 columns]\n",
      "A    680\n",
      "B    212\n",
      "Name: group, dtype: int64\n",
      "recommender_system_test    446\n",
      "interface_eu_test          446\n",
      "Name: ab_test, dtype: int64\n",
      "               user_id group                  ab_test\n",
      "2     DABC14FDDFADD29E     A  recommender_system_test\n",
      "3     04988C5DF189632E     A  recommender_system_test\n",
      "8     B3A2485649E4A012     A  recommender_system_test\n",
      "19    0F1FF07B3788976D     A  recommender_system_test\n",
      "20    03FBDF999D5B81B8     A  recommender_system_test\n",
      "...                ...   ...                      ...\n",
      "3450  1D6A02B0987CD71A     A  recommender_system_test\n",
      "3456  FCF70F6E1871BD78     A  recommender_system_test\n",
      "3461  A0BAE4190D41A285     A  recommender_system_test\n",
      "3462  28F165B39D160BC5     A  recommender_system_test\n",
      "3474  FA86D8DFAD3ADADE     A  recommender_system_test\n",
      "\n",
      "[340 rows x 3 columns]\n"
     ]
    }
   ],
   "source": [
    "check_dbls = participants[participants['user_id'].isin(one_group_doubles['user_id'])]\n",
    "print(check_dbls)\n",
    "print(check_dbls['group'].value_counts())\n",
    "print(check_dbls['ab_test'].value_counts())\n",
    "print(check_dbls.query('group == \"A\" and ab_test == \"recommender_system_test\" '))"
   ]
  },
  {
   "cell_type": "markdown",
   "metadata": {},
   "source": [
    "There are 340 users with the correct test in group A. \n"
   ]
  },
  {
   "cell_type": "code",
   "execution_count": 25,
   "metadata": {},
   "outputs": [],
   "source": [
    "check_dbls_clean = check_dbls.query('group == \"A\" and ab_test == \"recommender_system_test\" ')"
   ]
  },
  {
   "cell_type": "markdown",
   "metadata": {},
   "source": [
    "I created a df with users from group A that took part in the correct test.\n"
   ]
  },
  {
   "cell_type": "code",
   "execution_count": 26,
   "metadata": {},
   "outputs": [],
   "source": [
    "doubles_clean = doubles[~doubles['user_id'].isin(check_dbls_clean['user_id'])]"
   ]
  },
  {
   "cell_type": "markdown",
   "metadata": {},
   "source": [
    "Removed them from the doubles df.\n"
   ]
  },
  {
   "cell_type": "code",
   "execution_count": 27,
   "metadata": {},
   "outputs": [],
   "source": [
    "participants_new = participants[~participants['user_id'].isin(doubles_clean['user_id'])]"
   ]
  },
  {
   "cell_type": "markdown",
   "metadata": {},
   "source": [
    "Removed the problematic users from the original df.\n"
   ]
  },
  {
   "cell_type": "code",
   "execution_count": 28,
   "metadata": {},
   "outputs": [
    {
     "name": "stdout",
     "output_type": "stream",
     "text": [
      "            user_id group                  ab_test\n",
      "0  D1ABA3E2887B6A73     A  recommender_system_test\n",
      "1  A7A3664BD6242119     A  recommender_system_test\n",
      "2  DABC14FDDFADD29E     A  recommender_system_test\n",
      "3  04988C5DF189632E     A  recommender_system_test\n",
      "4  4FF2998A348C484F     A  recommender_system_test\n",
      "A    2422\n",
      "B     706\n",
      "Name: group, dtype: int64\n"
     ]
    }
   ],
   "source": [
    "ab_test_par = participants_new.query('ab_test == \"recommender_system_test\"')\n",
    "print(ab_test_par.head())\n",
    "print(ab_test_par['group'].value_counts())"
   ]
  },
  {
   "cell_type": "markdown",
   "metadata": {},
   "source": [
    "Final stage in preparing the test df is to remove the participants in the second test. \n"
   ]
  },
  {
   "cell_type": "code",
   "execution_count": 29,
   "metadata": {},
   "outputs": [
    {
     "name": "stdout",
     "output_type": "stream",
     "text": [
      "user_id    0\n",
      "group      0\n",
      "ab_test    0\n",
      "dtype: int64\n",
      "0\n"
     ]
    }
   ],
   "source": [
    "print(ab_test_par.isnull().sum())\n",
    "print(ab_test_par.duplicated().sum())"
   ]
  },
  {
   "cell_type": "markdown",
   "metadata": {},
   "source": [
    "There are no missing or duplicated values.  \n",
    "The numbers I have for the test after cleaning the data are 2422 uses in group A and 706 users in group B."
   ]
  },
  {
   "cell_type": "code",
   "execution_count": 30,
   "metadata": {},
   "outputs": [
    {
     "data": {
      "text/plain": [
       "A    1932\n",
       "B     593\n",
       "Name: group, dtype: int64"
      ]
     },
     "execution_count": 30,
     "metadata": {},
     "output_type": "execute_result"
    }
   ],
   "source": [
    "ab_test_par = ab_test_par[ab_test_par['user_id'].isin(users_eu['user_id'])]\n",
    "ab_test_par['group'].value_counts()                      "
   ]
  },
  {
   "cell_type": "markdown",
   "metadata": {},
   "source": [
    "After excluding non-EU users, I have 1932 users in group A and 593 users in group B."
   ]
  },
  {
   "cell_type": "markdown",
   "metadata": {},
   "source": [
    "### User events\n"
   ]
  },
  {
   "cell_type": "code",
   "execution_count": 31,
   "metadata": {},
   "outputs": [
    {
     "name": "stdout",
     "output_type": "stream",
     "text": [
      "<class 'pandas.core.frame.DataFrame'>\n",
      "RangeIndex: 423761 entries, 0 to 423760\n",
      "Data columns (total 4 columns):\n",
      " #   Column      Non-Null Count   Dtype  \n",
      "---  ------      --------------   -----  \n",
      " 0   user_id     423761 non-null  object \n",
      " 1   event_dt    423761 non-null  object \n",
      " 2   event_name  423761 non-null  object \n",
      " 3   details     60314 non-null   float64\n",
      "dtypes: float64(1), object(3)\n",
      "memory usage: 12.9+ MB\n"
     ]
    }
   ],
   "source": [
    "user_events.info()"
   ]
  },
  {
   "cell_type": "markdown",
   "metadata": {},
   "source": [
    "It looks like there are some missing values in the details column. The event dt column is in incorrect format. \n"
   ]
  },
  {
   "cell_type": "code",
   "execution_count": 32,
   "metadata": {},
   "outputs": [
    {
     "data": {
      "text/html": [
       "<div>\n",
       "<style scoped>\n",
       "    .dataframe tbody tr th:only-of-type {\n",
       "        vertical-align: middle;\n",
       "    }\n",
       "\n",
       "    .dataframe tbody tr th {\n",
       "        vertical-align: top;\n",
       "    }\n",
       "\n",
       "    .dataframe thead th {\n",
       "        text-align: right;\n",
       "    }\n",
       "</style>\n",
       "<table border=\"1\" class=\"dataframe\">\n",
       "  <thead>\n",
       "    <tr style=\"text-align: right;\">\n",
       "      <th></th>\n",
       "      <th>details</th>\n",
       "    </tr>\n",
       "  </thead>\n",
       "  <tbody>\n",
       "    <tr>\n",
       "      <th>count</th>\n",
       "      <td>60314.000000</td>\n",
       "    </tr>\n",
       "    <tr>\n",
       "      <th>mean</th>\n",
       "      <td>23.881219</td>\n",
       "    </tr>\n",
       "    <tr>\n",
       "      <th>std</th>\n",
       "      <td>72.228884</td>\n",
       "    </tr>\n",
       "    <tr>\n",
       "      <th>min</th>\n",
       "      <td>4.990000</td>\n",
       "    </tr>\n",
       "    <tr>\n",
       "      <th>25%</th>\n",
       "      <td>4.990000</td>\n",
       "    </tr>\n",
       "    <tr>\n",
       "      <th>50%</th>\n",
       "      <td>4.990000</td>\n",
       "    </tr>\n",
       "    <tr>\n",
       "      <th>75%</th>\n",
       "      <td>9.990000</td>\n",
       "    </tr>\n",
       "    <tr>\n",
       "      <th>max</th>\n",
       "      <td>499.990000</td>\n",
       "    </tr>\n",
       "  </tbody>\n",
       "</table>\n",
       "</div>"
      ],
      "text/plain": [
       "            details\n",
       "count  60314.000000\n",
       "mean      23.881219\n",
       "std       72.228884\n",
       "min        4.990000\n",
       "25%        4.990000\n",
       "50%        4.990000\n",
       "75%        9.990000\n",
       "max      499.990000"
      ]
     },
     "execution_count": 32,
     "metadata": {},
     "output_type": "execute_result"
    }
   ],
   "source": [
    "user_events.describe()"
   ]
  },
  {
   "cell_type": "markdown",
   "metadata": {},
   "source": [
    "The mean is higher than the median, so the distribution is skewed to the right. The max is significantly higher than the Q3 value, so I expect to find some outliers. \n"
   ]
  },
  {
   "cell_type": "code",
   "execution_count": 33,
   "metadata": {},
   "outputs": [
    {
     "data": {
      "text/html": [
       "<div>\n",
       "<style scoped>\n",
       "    .dataframe tbody tr th:only-of-type {\n",
       "        vertical-align: middle;\n",
       "    }\n",
       "\n",
       "    .dataframe tbody tr th {\n",
       "        vertical-align: top;\n",
       "    }\n",
       "\n",
       "    .dataframe thead th {\n",
       "        text-align: right;\n",
       "    }\n",
       "</style>\n",
       "<table border=\"1\" class=\"dataframe\">\n",
       "  <thead>\n",
       "    <tr style=\"text-align: right;\">\n",
       "      <th></th>\n",
       "      <th>user_id</th>\n",
       "      <th>event_dt</th>\n",
       "      <th>event_name</th>\n",
       "    </tr>\n",
       "  </thead>\n",
       "  <tbody>\n",
       "    <tr>\n",
       "      <th>count</th>\n",
       "      <td>423761</td>\n",
       "      <td>423761</td>\n",
       "      <td>423761</td>\n",
       "    </tr>\n",
       "    <tr>\n",
       "      <th>unique</th>\n",
       "      <td>58703</td>\n",
       "      <td>257138</td>\n",
       "      <td>4</td>\n",
       "    </tr>\n",
       "    <tr>\n",
       "      <th>top</th>\n",
       "      <td>A3917F81482141F2</td>\n",
       "      <td>2020-12-14 18:54:55</td>\n",
       "      <td>login</td>\n",
       "    </tr>\n",
       "    <tr>\n",
       "      <th>freq</th>\n",
       "      <td>36</td>\n",
       "      <td>10</td>\n",
       "      <td>182465</td>\n",
       "    </tr>\n",
       "  </tbody>\n",
       "</table>\n",
       "</div>"
      ],
      "text/plain": [
       "                 user_id             event_dt event_name\n",
       "count             423761               423761     423761\n",
       "unique             58703               257138          4\n",
       "top     A3917F81482141F2  2020-12-14 18:54:55      login\n",
       "freq                  36                   10     182465"
      ]
     },
     "execution_count": 33,
     "metadata": {},
     "output_type": "execute_result"
    }
   ],
   "source": [
    "user_events.describe(include=[object])"
   ]
  },
  {
   "cell_type": "markdown",
   "metadata": {},
   "source": [
    "There are 4 different types of events. \n"
   ]
  },
  {
   "cell_type": "code",
   "execution_count": 34,
   "metadata": {},
   "outputs": [
    {
     "data": {
      "text/html": [
       "<div>\n",
       "<style scoped>\n",
       "    .dataframe tbody tr th:only-of-type {\n",
       "        vertical-align: middle;\n",
       "    }\n",
       "\n",
       "    .dataframe tbody tr th {\n",
       "        vertical-align: top;\n",
       "    }\n",
       "\n",
       "    .dataframe thead th {\n",
       "        text-align: right;\n",
       "    }\n",
       "</style>\n",
       "<table border=\"1\" class=\"dataframe\">\n",
       "  <thead>\n",
       "    <tr style=\"text-align: right;\">\n",
       "      <th></th>\n",
       "      <th>user_id</th>\n",
       "      <th>event_dt</th>\n",
       "      <th>event_name</th>\n",
       "      <th>details</th>\n",
       "    </tr>\n",
       "  </thead>\n",
       "  <tbody>\n",
       "    <tr>\n",
       "      <th>0</th>\n",
       "      <td>E1BDDCE0DAFA2679</td>\n",
       "      <td>2020-12-07 20:22:03</td>\n",
       "      <td>purchase</td>\n",
       "      <td>99.99</td>\n",
       "    </tr>\n",
       "    <tr>\n",
       "      <th>1</th>\n",
       "      <td>7B6452F081F49504</td>\n",
       "      <td>2020-12-07 09:22:53</td>\n",
       "      <td>purchase</td>\n",
       "      <td>9.99</td>\n",
       "    </tr>\n",
       "    <tr>\n",
       "      <th>2</th>\n",
       "      <td>9CD9F34546DF254C</td>\n",
       "      <td>2020-12-07 12:59:29</td>\n",
       "      <td>purchase</td>\n",
       "      <td>4.99</td>\n",
       "    </tr>\n",
       "    <tr>\n",
       "      <th>3</th>\n",
       "      <td>96F27A054B191457</td>\n",
       "      <td>2020-12-07 04:02:40</td>\n",
       "      <td>purchase</td>\n",
       "      <td>4.99</td>\n",
       "    </tr>\n",
       "    <tr>\n",
       "      <th>4</th>\n",
       "      <td>1FD7660FDF94CA1F</td>\n",
       "      <td>2020-12-07 10:15:09</td>\n",
       "      <td>purchase</td>\n",
       "      <td>4.99</td>\n",
       "    </tr>\n",
       "  </tbody>\n",
       "</table>\n",
       "</div>"
      ],
      "text/plain": [
       "            user_id             event_dt event_name  details\n",
       "0  E1BDDCE0DAFA2679  2020-12-07 20:22:03   purchase    99.99\n",
       "1  7B6452F081F49504  2020-12-07 09:22:53   purchase     9.99\n",
       "2  9CD9F34546DF254C  2020-12-07 12:59:29   purchase     4.99\n",
       "3  96F27A054B191457  2020-12-07 04:02:40   purchase     4.99\n",
       "4  1FD7660FDF94CA1F  2020-12-07 10:15:09   purchase     4.99"
      ]
     },
     "execution_count": 34,
     "metadata": {},
     "output_type": "execute_result"
    }
   ],
   "source": [
    "user_events.head()"
   ]
  },
  {
   "cell_type": "code",
   "execution_count": 35,
   "metadata": {},
   "outputs": [],
   "source": [
    "user_events['event_dt'] = pd.to_datetime(user_events['event_dt'])"
   ]
  },
  {
   "cell_type": "markdown",
   "metadata": {},
   "source": [
    "User events column transfored to the appropriate type. \n"
   ]
  },
  {
   "cell_type": "code",
   "execution_count": 36,
   "metadata": {},
   "outputs": [
    {
     "name": "stdout",
     "output_type": "stream",
     "text": [
      "<class 'pandas.core.frame.DataFrame'>\n",
      "RangeIndex: 16887 entries, 0 to 16886\n",
      "Data columns (total 5 columns):\n",
      " #   Column      Non-Null Count  Dtype         \n",
      "---  ------      --------------  -----         \n",
      " 0   index       16887 non-null  int64         \n",
      " 1   user_id     16887 non-null  object        \n",
      " 2   event_dt    16887 non-null  datetime64[ns]\n",
      " 3   event_name  16887 non-null  object        \n",
      " 4   details     2280 non-null   float64       \n",
      "dtypes: datetime64[ns](1), float64(1), int64(1), object(2)\n",
      "memory usage: 659.8+ KB\n"
     ]
    }
   ],
   "source": [
    "user_events_eu = user_events[user_events['user_id'].isin(ab_test_par['user_id'])].reset_index()\n",
    "user_events_eu.info()"
   ]
  },
  {
   "cell_type": "markdown",
   "metadata": {},
   "source": [
    "Filtering the df - to include only participants of the test and the control group. \n"
   ]
  },
  {
   "cell_type": "code",
   "execution_count": 37,
   "metadata": {},
   "outputs": [
    {
     "name": "stdout",
     "output_type": "stream",
     "text": [
      "index             0\n",
      "user_id           0\n",
      "event_dt          0\n",
      "event_name        0\n",
      "details       14607\n",
      "dtype: int64\n",
      "0\n"
     ]
    }
   ],
   "source": [
    "print(user_events_eu.isnull().sum())\n",
    "print(user_events_eu.duplicated().sum())"
   ]
  },
  {
   "cell_type": "markdown",
   "metadata": {},
   "source": [
    "There are no duplicates.  \n",
    "Missing values only in the details column. \n"
   ]
  },
  {
   "cell_type": "code",
   "execution_count": 38,
   "metadata": {},
   "outputs": [
    {
     "name": "stdout",
     "output_type": "stream",
     "text": [
      "4\n",
      "4.99      1687\n",
      "9.99       350\n",
      "99.99      210\n",
      "499.99      33\n",
      "Name: details, dtype: int64\n"
     ]
    }
   ],
   "source": [
    "print(user_events_eu['details'].nunique())\n",
    "print(user_events_eu['details'].value_counts())"
   ]
  },
  {
   "cell_type": "markdown",
   "metadata": {},
   "source": [
    "It looks like the details column has only prices.  \n"
   ]
  },
  {
   "cell_type": "code",
   "execution_count": 39,
   "metadata": {},
   "outputs": [
    {
     "data": {
      "text/html": [
       "<div>\n",
       "<style scoped>\n",
       "    .dataframe tbody tr th:only-of-type {\n",
       "        vertical-align: middle;\n",
       "    }\n",
       "\n",
       "    .dataframe tbody tr th {\n",
       "        vertical-align: top;\n",
       "    }\n",
       "\n",
       "    .dataframe thead th {\n",
       "        text-align: right;\n",
       "    }\n",
       "</style>\n",
       "<table border=\"1\" class=\"dataframe\">\n",
       "  <thead>\n",
       "    <tr style=\"text-align: right;\">\n",
       "      <th></th>\n",
       "      <th>index</th>\n",
       "      <th>user_id</th>\n",
       "      <th>event_dt</th>\n",
       "      <th>event_name</th>\n",
       "      <th>details</th>\n",
       "    </tr>\n",
       "  </thead>\n",
       "  <tbody>\n",
       "    <tr>\n",
       "      <th>5762</th>\n",
       "      <td>154961</td>\n",
       "      <td>A8C69B602A3D4A32</td>\n",
       "      <td>2020-12-14 12:44:31</td>\n",
       "      <td>product_page</td>\n",
       "      <td>NaN</td>\n",
       "    </tr>\n",
       "    <tr>\n",
       "      <th>596</th>\n",
       "      <td>19238</td>\n",
       "      <td>F138DA14130E06EA</td>\n",
       "      <td>2020-12-15 09:17:42</td>\n",
       "      <td>purchase</td>\n",
       "      <td>9.99</td>\n",
       "    </tr>\n",
       "    <tr>\n",
       "      <th>3793</th>\n",
       "      <td>95342</td>\n",
       "      <td>55212FE14BE9ACF4</td>\n",
       "      <td>2020-12-20 00:53:16</td>\n",
       "      <td>product_cart</td>\n",
       "      <td>NaN</td>\n",
       "    </tr>\n",
       "    <tr>\n",
       "      <th>6588</th>\n",
       "      <td>173036</td>\n",
       "      <td>1FC5EFE587A74381</td>\n",
       "      <td>2020-12-17 09:43:51</td>\n",
       "      <td>product_page</td>\n",
       "      <td>NaN</td>\n",
       "    </tr>\n",
       "    <tr>\n",
       "      <th>11263</th>\n",
       "      <td>292282</td>\n",
       "      <td>F2A7DA882BF8ECD6</td>\n",
       "      <td>2020-12-14 16:34:06</td>\n",
       "      <td>login</td>\n",
       "      <td>NaN</td>\n",
       "    </tr>\n",
       "  </tbody>\n",
       "</table>\n",
       "</div>"
      ],
      "text/plain": [
       "        index           user_id            event_dt    event_name  details\n",
       "5762   154961  A8C69B602A3D4A32 2020-12-14 12:44:31  product_page      NaN\n",
       "596     19238  F138DA14130E06EA 2020-12-15 09:17:42      purchase     9.99\n",
       "3793    95342  55212FE14BE9ACF4 2020-12-20 00:53:16  product_cart      NaN\n",
       "6588   173036  1FC5EFE587A74381 2020-12-17 09:43:51  product_page      NaN\n",
       "11263  292282  F2A7DA882BF8ECD6 2020-12-14 16:34:06         login      NaN"
      ]
     },
     "execution_count": 39,
     "metadata": {},
     "output_type": "execute_result"
    }
   ],
   "source": [
    "user_events_eu.sample(5)"
   ]
  },
  {
   "cell_type": "markdown",
   "metadata": {},
   "source": [
    "After looking at several samples, I noticed that only the purchase event has values in the details column, which is logical if there are only prices found in this column. \n"
   ]
  },
  {
   "cell_type": "code",
   "execution_count": 40,
   "metadata": {},
   "outputs": [
    {
     "name": "stdout",
     "output_type": "stream",
     "text": [
      "14607\n",
      "index             0\n",
      "user_id           0\n",
      "event_dt          0\n",
      "event_name        0\n",
      "details       14607\n",
      "dtype: int64\n"
     ]
    }
   ],
   "source": [
    "detailes_check = user_events_eu[user_events_eu['event_name'] != 'purchase']\n",
    "print(len(detailes_check))\n",
    "print(detailes_check.isnull().sum())"
   ]
  },
  {
   "cell_type": "markdown",
   "metadata": {},
   "source": [
    "Wanted to make sure that none of the other events have values in the details column. \n"
   ]
  },
  {
   "cell_type": "code",
   "execution_count": 41,
   "metadata": {},
   "outputs": [
    {
     "name": "stdout",
     "output_type": "stream",
     "text": [
      "<class 'pandas.core.frame.DataFrame'>\n",
      "RangeIndex: 16887 entries, 0 to 16886\n",
      "Data columns (total 5 columns):\n",
      " #   Column      Non-Null Count  Dtype         \n",
      "---  ------      --------------  -----         \n",
      " 0   index       16887 non-null  int64         \n",
      " 1   user_id     16887 non-null  object        \n",
      " 2   event_dt    16887 non-null  datetime64[ns]\n",
      " 3   event_name  16887 non-null  object        \n",
      " 4   total       16887 non-null  float64       \n",
      "dtypes: datetime64[ns](1), float64(1), int64(1), object(2)\n",
      "memory usage: 659.8+ KB\n"
     ]
    }
   ],
   "source": [
    "user_events_eu.columns = user_events_eu.columns.str.replace('details', 'total')\n",
    "user_events_eu['total'] = user_events_eu['total'].fillna(0.00)\n",
    "user_events_eu.info()"
   ]
  },
  {
   "cell_type": "markdown",
   "metadata": {},
   "source": [
    "The column was renamed. Missing values filled with 0. Df is ready for the last stage. \n"
   ]
  },
  {
   "cell_type": "code",
   "execution_count": 42,
   "metadata": {},
   "outputs": [
    {
     "name": "stdout",
     "output_type": "stream",
     "text": [
      "<class 'pandas.core.frame.DataFrame'>\n",
      "Int64Index: 16887 entries, 0 to 16886\n",
      "Data columns (total 7 columns):\n",
      " #   Column      Non-Null Count  Dtype         \n",
      "---  ------      --------------  -----         \n",
      " 0   index       16887 non-null  int64         \n",
      " 1   user_id     16887 non-null  object        \n",
      " 2   event_dt    16887 non-null  datetime64[ns]\n",
      " 3   event_name  16887 non-null  object        \n",
      " 4   total       16887 non-null  float64       \n",
      " 5   group       16887 non-null  object        \n",
      " 6   ab_test     16887 non-null  object        \n",
      "dtypes: datetime64[ns](1), float64(1), int64(1), object(4)\n",
      "memory usage: 1.0+ MB\n",
      "None\n",
      "   index           user_id            event_dt    event_name  total group  \\\n",
      "0      5  831887FE7F2D6CBA 2020-12-07 06:50:29      purchase   4.99     A   \n",
      "1   3382  831887FE7F2D6CBA 2020-12-09 02:19:17      purchase  99.99     A   \n",
      "2  60320  831887FE7F2D6CBA 2020-12-07 06:50:30  product_cart   0.00     A   \n",
      "3  61897  831887FE7F2D6CBA 2020-12-08 10:52:27  product_cart   0.00     A   \n",
      "4  63642  831887FE7F2D6CBA 2020-12-09 02:19:17  product_cart   0.00     A   \n",
      "\n",
      "                   ab_test  \n",
      "0  recommender_system_test  \n",
      "1  recommender_system_test  \n",
      "2  recommender_system_test  \n",
      "3  recommender_system_test  \n",
      "4  recommender_system_test  \n"
     ]
    }
   ],
   "source": [
    "user_events_tests = pd.merge(user_events_eu, ab_test_par, on='user_id')\n",
    "print(user_events_tests.info())\n",
    "print(user_events_tests.head())"
   ]
  },
  {
   "cell_type": "markdown",
   "metadata": {},
   "source": [
    "User events table was merged with the A/B test table.   \n",
    "After the cleaning of the data, I have 16887 rows left.  \n",
    "The data is prepared for analysis.  "
   ]
  },
  {
   "cell_type": "markdown",
   "metadata": {},
   "source": [
    "## EDA\n"
   ]
  },
  {
   "cell_type": "code",
   "execution_count": 43,
   "metadata": {},
   "outputs": [
    {
     "data": {
      "text/html": [
       "<div>\n",
       "<style scoped>\n",
       "    .dataframe tbody tr th:only-of-type {\n",
       "        vertical-align: middle;\n",
       "    }\n",
       "\n",
       "    .dataframe tbody tr th {\n",
       "        vertical-align: top;\n",
       "    }\n",
       "\n",
       "    .dataframe thead th {\n",
       "        text-align: right;\n",
       "    }\n",
       "</style>\n",
       "<table border=\"1\" class=\"dataframe\">\n",
       "  <thead>\n",
       "    <tr style=\"text-align: right;\">\n",
       "      <th></th>\n",
       "      <th>first_date</th>\n",
       "      <th>user_id</th>\n",
       "      <th>region</th>\n",
       "      <th>device</th>\n",
       "    </tr>\n",
       "  </thead>\n",
       "  <tbody>\n",
       "    <tr>\n",
       "      <th>0</th>\n",
       "      <td>07-12-2020</td>\n",
       "      <td>3918</td>\n",
       "      <td>3918</td>\n",
       "      <td>3918</td>\n",
       "    </tr>\n",
       "    <tr>\n",
       "      <th>1</th>\n",
       "      <td>08-12-2020</td>\n",
       "      <td>2212</td>\n",
       "      <td>2212</td>\n",
       "      <td>2212</td>\n",
       "    </tr>\n",
       "    <tr>\n",
       "      <th>2</th>\n",
       "      <td>09-12-2020</td>\n",
       "      <td>1521</td>\n",
       "      <td>1521</td>\n",
       "      <td>1521</td>\n",
       "    </tr>\n",
       "    <tr>\n",
       "      <th>3</th>\n",
       "      <td>10-12-2020</td>\n",
       "      <td>2074</td>\n",
       "      <td>2074</td>\n",
       "      <td>2074</td>\n",
       "    </tr>\n",
       "    <tr>\n",
       "      <th>4</th>\n",
       "      <td>11-12-2020</td>\n",
       "      <td>1647</td>\n",
       "      <td>1647</td>\n",
       "      <td>1647</td>\n",
       "    </tr>\n",
       "    <tr>\n",
       "      <th>5</th>\n",
       "      <td>12-12-2020</td>\n",
       "      <td>2629</td>\n",
       "      <td>2629</td>\n",
       "      <td>2629</td>\n",
       "    </tr>\n",
       "    <tr>\n",
       "      <th>6</th>\n",
       "      <td>13-12-2020</td>\n",
       "      <td>3026</td>\n",
       "      <td>3026</td>\n",
       "      <td>3026</td>\n",
       "    </tr>\n",
       "    <tr>\n",
       "      <th>7</th>\n",
       "      <td>14-12-2020</td>\n",
       "      <td>4048</td>\n",
       "      <td>4048</td>\n",
       "      <td>4048</td>\n",
       "    </tr>\n",
       "    <tr>\n",
       "      <th>8</th>\n",
       "      <td>15-12-2020</td>\n",
       "      <td>2173</td>\n",
       "      <td>2173</td>\n",
       "      <td>2173</td>\n",
       "    </tr>\n",
       "    <tr>\n",
       "      <th>9</th>\n",
       "      <td>16-12-2020</td>\n",
       "      <td>1565</td>\n",
       "      <td>1565</td>\n",
       "      <td>1565</td>\n",
       "    </tr>\n",
       "    <tr>\n",
       "      <th>10</th>\n",
       "      <td>17-12-2020</td>\n",
       "      <td>2171</td>\n",
       "      <td>2171</td>\n",
       "      <td>2171</td>\n",
       "    </tr>\n",
       "    <tr>\n",
       "      <th>11</th>\n",
       "      <td>18-12-2020</td>\n",
       "      <td>2422</td>\n",
       "      <td>2422</td>\n",
       "      <td>2422</td>\n",
       "    </tr>\n",
       "    <tr>\n",
       "      <th>12</th>\n",
       "      <td>19-12-2020</td>\n",
       "      <td>2527</td>\n",
       "      <td>2527</td>\n",
       "      <td>2527</td>\n",
       "    </tr>\n",
       "    <tr>\n",
       "      <th>13</th>\n",
       "      <td>20-12-2020</td>\n",
       "      <td>3085</td>\n",
       "      <td>3085</td>\n",
       "      <td>3085</td>\n",
       "    </tr>\n",
       "  </tbody>\n",
       "</table>\n",
       "</div>"
      ],
      "text/plain": [
       "    first_date  user_id  region  device\n",
       "0   07-12-2020     3918    3918    3918\n",
       "1   08-12-2020     2212    2212    2212\n",
       "2   09-12-2020     1521    1521    1521\n",
       "3   10-12-2020     2074    2074    2074\n",
       "4   11-12-2020     1647    1647    1647\n",
       "5   12-12-2020     2629    2629    2629\n",
       "6   13-12-2020     3026    3026    3026\n",
       "7   14-12-2020     4048    4048    4048\n",
       "8   15-12-2020     2173    2173    2173\n",
       "9   16-12-2020     1565    1565    1565\n",
       "10  17-12-2020     2171    2171    2171\n",
       "11  18-12-2020     2422    2422    2422\n",
       "12  19-12-2020     2527    2527    2527\n",
       "13  20-12-2020     3085    3085    3085"
      ]
     },
     "execution_count": 43,
     "metadata": {},
     "output_type": "execute_result"
    }
   ],
   "source": [
    "first_date = users_eu.groupby(['first_date']).count().reset_index()\n",
    "first_date"
   ]
  },
  {
   "cell_type": "code",
   "execution_count": 44,
   "metadata": {},
   "outputs": [
    {
     "data": {
      "text/html": [
       "<div>\n",
       "<style scoped>\n",
       "    .dataframe tbody tr th:only-of-type {\n",
       "        vertical-align: middle;\n",
       "    }\n",
       "\n",
       "    .dataframe tbody tr th {\n",
       "        vertical-align: top;\n",
       "    }\n",
       "\n",
       "    .dataframe thead th {\n",
       "        text-align: right;\n",
       "    }\n",
       "</style>\n",
       "<table border=\"1\" class=\"dataframe\">\n",
       "  <thead>\n",
       "    <tr style=\"text-align: right;\">\n",
       "      <th></th>\n",
       "      <th>index</th>\n",
       "      <th>user_id</th>\n",
       "      <th>event_dt</th>\n",
       "      <th>event_name</th>\n",
       "      <th>total</th>\n",
       "      <th>group</th>\n",
       "      <th>ab_test</th>\n",
       "      <th>first_date</th>\n",
       "      <th>region</th>\n",
       "      <th>device</th>\n",
       "    </tr>\n",
       "  </thead>\n",
       "  <tbody>\n",
       "    <tr>\n",
       "      <th>0</th>\n",
       "      <td>5</td>\n",
       "      <td>831887FE7F2D6CBA</td>\n",
       "      <td>2020-12-07 06:50:29</td>\n",
       "      <td>purchase</td>\n",
       "      <td>4.99</td>\n",
       "      <td>A</td>\n",
       "      <td>recommender_system_test</td>\n",
       "      <td>07-12-2020</td>\n",
       "      <td>eu</td>\n",
       "      <td>android</td>\n",
       "    </tr>\n",
       "    <tr>\n",
       "      <th>1</th>\n",
       "      <td>3382</td>\n",
       "      <td>831887FE7F2D6CBA</td>\n",
       "      <td>2020-12-09 02:19:17</td>\n",
       "      <td>purchase</td>\n",
       "      <td>99.99</td>\n",
       "      <td>A</td>\n",
       "      <td>recommender_system_test</td>\n",
       "      <td>07-12-2020</td>\n",
       "      <td>eu</td>\n",
       "      <td>android</td>\n",
       "    </tr>\n",
       "    <tr>\n",
       "      <th>2</th>\n",
       "      <td>60320</td>\n",
       "      <td>831887FE7F2D6CBA</td>\n",
       "      <td>2020-12-07 06:50:30</td>\n",
       "      <td>product_cart</td>\n",
       "      <td>0.00</td>\n",
       "      <td>A</td>\n",
       "      <td>recommender_system_test</td>\n",
       "      <td>07-12-2020</td>\n",
       "      <td>eu</td>\n",
       "      <td>android</td>\n",
       "    </tr>\n",
       "    <tr>\n",
       "      <th>3</th>\n",
       "      <td>61897</td>\n",
       "      <td>831887FE7F2D6CBA</td>\n",
       "      <td>2020-12-08 10:52:27</td>\n",
       "      <td>product_cart</td>\n",
       "      <td>0.00</td>\n",
       "      <td>A</td>\n",
       "      <td>recommender_system_test</td>\n",
       "      <td>07-12-2020</td>\n",
       "      <td>eu</td>\n",
       "      <td>android</td>\n",
       "    </tr>\n",
       "    <tr>\n",
       "      <th>4</th>\n",
       "      <td>63642</td>\n",
       "      <td>831887FE7F2D6CBA</td>\n",
       "      <td>2020-12-09 02:19:17</td>\n",
       "      <td>product_cart</td>\n",
       "      <td>0.00</td>\n",
       "      <td>A</td>\n",
       "      <td>recommender_system_test</td>\n",
       "      <td>07-12-2020</td>\n",
       "      <td>eu</td>\n",
       "      <td>android</td>\n",
       "    </tr>\n",
       "    <tr>\n",
       "      <th>...</th>\n",
       "      <td>...</td>\n",
       "      <td>...</td>\n",
       "      <td>...</td>\n",
       "      <td>...</td>\n",
       "      <td>...</td>\n",
       "      <td>...</td>\n",
       "      <td>...</td>\n",
       "      <td>...</td>\n",
       "      <td>...</td>\n",
       "      <td>...</td>\n",
       "    </tr>\n",
       "    <tr>\n",
       "      <th>16882</th>\n",
       "      <td>356731</td>\n",
       "      <td>FD83244D94C592DB</td>\n",
       "      <td>2020-12-20 09:37:08</td>\n",
       "      <td>login</td>\n",
       "      <td>0.00</td>\n",
       "      <td>A</td>\n",
       "      <td>recommender_system_test</td>\n",
       "      <td>20-12-2020</td>\n",
       "      <td>eu</td>\n",
       "      <td>pc</td>\n",
       "    </tr>\n",
       "    <tr>\n",
       "      <th>16883</th>\n",
       "      <td>414572</td>\n",
       "      <td>FD83244D94C592DB</td>\n",
       "      <td>2020-12-27 08:32:12</td>\n",
       "      <td>login</td>\n",
       "      <td>0.00</td>\n",
       "      <td>A</td>\n",
       "      <td>recommender_system_test</td>\n",
       "      <td>20-12-2020</td>\n",
       "      <td>eu</td>\n",
       "      <td>pc</td>\n",
       "    </tr>\n",
       "    <tr>\n",
       "      <th>16884</th>\n",
       "      <td>356850</td>\n",
       "      <td>0F7D49FC184EDCDE</td>\n",
       "      <td>2020-12-20 04:04:27</td>\n",
       "      <td>login</td>\n",
       "      <td>0.00</td>\n",
       "      <td>A</td>\n",
       "      <td>recommender_system_test</td>\n",
       "      <td>20-12-2020</td>\n",
       "      <td>eu</td>\n",
       "      <td>pc</td>\n",
       "    </tr>\n",
       "    <tr>\n",
       "      <th>16885</th>\n",
       "      <td>370911</td>\n",
       "      <td>0F7D49FC184EDCDE</td>\n",
       "      <td>2020-12-21 04:26:57</td>\n",
       "      <td>login</td>\n",
       "      <td>0.00</td>\n",
       "      <td>A</td>\n",
       "      <td>recommender_system_test</td>\n",
       "      <td>20-12-2020</td>\n",
       "      <td>eu</td>\n",
       "      <td>pc</td>\n",
       "    </tr>\n",
       "    <tr>\n",
       "      <th>16886</th>\n",
       "      <td>383589</td>\n",
       "      <td>0F7D49FC184EDCDE</td>\n",
       "      <td>2020-12-22 18:02:26</td>\n",
       "      <td>login</td>\n",
       "      <td>0.00</td>\n",
       "      <td>A</td>\n",
       "      <td>recommender_system_test</td>\n",
       "      <td>20-12-2020</td>\n",
       "      <td>eu</td>\n",
       "      <td>pc</td>\n",
       "    </tr>\n",
       "  </tbody>\n",
       "</table>\n",
       "<p>16887 rows × 10 columns</p>\n",
       "</div>"
      ],
      "text/plain": [
       "        index           user_id            event_dt    event_name  total  \\\n",
       "0           5  831887FE7F2D6CBA 2020-12-07 06:50:29      purchase   4.99   \n",
       "1        3382  831887FE7F2D6CBA 2020-12-09 02:19:17      purchase  99.99   \n",
       "2       60320  831887FE7F2D6CBA 2020-12-07 06:50:30  product_cart   0.00   \n",
       "3       61897  831887FE7F2D6CBA 2020-12-08 10:52:27  product_cart   0.00   \n",
       "4       63642  831887FE7F2D6CBA 2020-12-09 02:19:17  product_cart   0.00   \n",
       "...       ...               ...                 ...           ...    ...   \n",
       "16882  356731  FD83244D94C592DB 2020-12-20 09:37:08         login   0.00   \n",
       "16883  414572  FD83244D94C592DB 2020-12-27 08:32:12         login   0.00   \n",
       "16884  356850  0F7D49FC184EDCDE 2020-12-20 04:04:27         login   0.00   \n",
       "16885  370911  0F7D49FC184EDCDE 2020-12-21 04:26:57         login   0.00   \n",
       "16886  383589  0F7D49FC184EDCDE 2020-12-22 18:02:26         login   0.00   \n",
       "\n",
       "      group                  ab_test  first_date region   device  \n",
       "0         A  recommender_system_test  07-12-2020     eu  android  \n",
       "1         A  recommender_system_test  07-12-2020     eu  android  \n",
       "2         A  recommender_system_test  07-12-2020     eu  android  \n",
       "3         A  recommender_system_test  07-12-2020     eu  android  \n",
       "4         A  recommender_system_test  07-12-2020     eu  android  \n",
       "...     ...                      ...         ...    ...      ...  \n",
       "16882     A  recommender_system_test  20-12-2020     eu       pc  \n",
       "16883     A  recommender_system_test  20-12-2020     eu       pc  \n",
       "16884     A  recommender_system_test  20-12-2020     eu       pc  \n",
       "16885     A  recommender_system_test  20-12-2020     eu       pc  \n",
       "16886     A  recommender_system_test  20-12-2020     eu       pc  \n",
       "\n",
       "[16887 rows x 10 columns]"
      ]
     },
     "execution_count": 44,
     "metadata": {},
     "output_type": "execute_result"
    }
   ],
   "source": [
    "user_events_tests = pd.merge(user_events_tests, users_eu, on='user_id')\n",
    "user_events_tests"
   ]
  },
  {
   "cell_type": "code",
   "execution_count": 45,
   "metadata": {},
   "outputs": [
    {
     "data": {
      "text/html": [
       "<div>\n",
       "<style scoped>\n",
       "    .dataframe tbody tr th:only-of-type {\n",
       "        vertical-align: middle;\n",
       "    }\n",
       "\n",
       "    .dataframe tbody tr th {\n",
       "        vertical-align: top;\n",
       "    }\n",
       "\n",
       "    .dataframe thead th {\n",
       "        text-align: right;\n",
       "    }\n",
       "</style>\n",
       "<table border=\"1\" class=\"dataframe\">\n",
       "  <thead>\n",
       "    <tr style=\"text-align: right;\">\n",
       "      <th></th>\n",
       "      <th>index</th>\n",
       "      <th>user_id</th>\n",
       "      <th>event_dt</th>\n",
       "      <th>event_name</th>\n",
       "      <th>total</th>\n",
       "      <th>group</th>\n",
       "      <th>ab_test</th>\n",
       "      <th>first_date</th>\n",
       "      <th>region</th>\n",
       "      <th>device</th>\n",
       "      <th>event_date</th>\n",
       "    </tr>\n",
       "  </thead>\n",
       "  <tbody>\n",
       "    <tr>\n",
       "      <th>5603</th>\n",
       "      <td>101887</td>\n",
       "      <td>3E6222A7C0D4CFC0</td>\n",
       "      <td>2020-12-21 04:37:14</td>\n",
       "      <td>product_cart</td>\n",
       "      <td>0.0</td>\n",
       "      <td>A</td>\n",
       "      <td>recommender_system_test</td>\n",
       "      <td>19-12-2020</td>\n",
       "      <td>eu</td>\n",
       "      <td>iphone</td>\n",
       "      <td>21-12-2020</td>\n",
       "    </tr>\n",
       "  </tbody>\n",
       "</table>\n",
       "</div>"
      ],
      "text/plain": [
       "       index           user_id            event_dt    event_name  total group  \\\n",
       "5603  101887  3E6222A7C0D4CFC0 2020-12-21 04:37:14  product_cart    0.0     A   \n",
       "\n",
       "                      ab_test  first_date region  device  event_date  \n",
       "5603  recommender_system_test  19-12-2020     eu  iphone  21-12-2020  "
      ]
     },
     "execution_count": 45,
     "metadata": {},
     "output_type": "execute_result"
    }
   ],
   "source": [
    "user_events_tests['event_date'] = user_events_tests['event_dt'].apply(lambda x:x.strftime('%d-%m-%Y'))\n",
    "user_events_tests.sample()"
   ]
  },
  {
   "cell_type": "code",
   "execution_count": 46,
   "metadata": {},
   "outputs": [
    {
     "name": "stdout",
     "output_type": "stream",
     "text": [
      "<class 'pandas.core.frame.DataFrame'>\n",
      "Int64Index: 16887 entries, 0 to 16886\n",
      "Data columns (total 11 columns):\n",
      " #   Column      Non-Null Count  Dtype         \n",
      "---  ------      --------------  -----         \n",
      " 0   index       16887 non-null  int64         \n",
      " 1   user_id     16887 non-null  object        \n",
      " 2   event_dt    16887 non-null  datetime64[ns]\n",
      " 3   event_name  16887 non-null  object        \n",
      " 4   total       16887 non-null  float64       \n",
      " 5   group       16887 non-null  object        \n",
      " 6   ab_test     16887 non-null  object        \n",
      " 7   first_date  16887 non-null  object        \n",
      " 8   region      16887 non-null  object        \n",
      " 9   device      16887 non-null  object        \n",
      " 10  event_date  16887 non-null  object        \n",
      "dtypes: datetime64[ns](1), float64(1), int64(1), object(8)\n",
      "memory usage: 1.5+ MB\n"
     ]
    }
   ],
   "source": [
    "user_events_tests.info()"
   ]
  },
  {
   "cell_type": "code",
   "execution_count": 47,
   "metadata": {},
   "outputs": [],
   "source": [
    "user_events_tests['event_date'] = pd.to_datetime(user_events_tests['event_date'])\n",
    "user_events_tests['first_date'] = pd.to_datetime(user_events_tests['first_date'])"
   ]
  },
  {
   "cell_type": "code",
   "execution_count": 48,
   "metadata": {},
   "outputs": [],
   "source": [
    "user_events_tests = user_events_tests[((user_events_tests['event_date'] - user_events_tests['first_date']).astype('timedelta64[D]'))<=14]"
   ]
  },
  {
   "cell_type": "code",
   "execution_count": 49,
   "metadata": {},
   "outputs": [
    {
     "name": "stdout",
     "output_type": "stream",
     "text": [
      "<class 'pandas.core.frame.DataFrame'>\n",
      "Int64Index: 13870 entries, 0 to 16886\n",
      "Data columns (total 11 columns):\n",
      " #   Column      Non-Null Count  Dtype         \n",
      "---  ------      --------------  -----         \n",
      " 0   index       13870 non-null  int64         \n",
      " 1   user_id     13870 non-null  object        \n",
      " 2   event_dt    13870 non-null  datetime64[ns]\n",
      " 3   event_name  13870 non-null  object        \n",
      " 4   total       13870 non-null  float64       \n",
      " 5   group       13870 non-null  object        \n",
      " 6   ab_test     13870 non-null  object        \n",
      " 7   first_date  13870 non-null  datetime64[ns]\n",
      " 8   region      13870 non-null  object        \n",
      " 9   device      13870 non-null  object        \n",
      " 10  event_date  13870 non-null  datetime64[ns]\n",
      "dtypes: datetime64[ns](3), float64(1), int64(1), object(6)\n",
      "memory usage: 1.3+ MB\n"
     ]
    }
   ],
   "source": [
    "user_events_tests.info()"
   ]
  },
  {
   "cell_type": "code",
   "execution_count": 50,
   "metadata": {},
   "outputs": [
    {
     "data": {
      "text/html": [
       "<div>\n",
       "<style scoped>\n",
       "    .dataframe tbody tr th:only-of-type {\n",
       "        vertical-align: middle;\n",
       "    }\n",
       "\n",
       "    .dataframe tbody tr th {\n",
       "        vertical-align: top;\n",
       "    }\n",
       "\n",
       "    .dataframe thead th {\n",
       "        text-align: right;\n",
       "    }\n",
       "</style>\n",
       "<table border=\"1\" class=\"dataframe\">\n",
       "  <thead>\n",
       "    <tr style=\"text-align: right;\">\n",
       "      <th></th>\n",
       "      <th>user_id</th>\n",
       "    </tr>\n",
       "    <tr>\n",
       "      <th>group</th>\n",
       "      <th></th>\n",
       "    </tr>\n",
       "  </thead>\n",
       "  <tbody>\n",
       "    <tr>\n",
       "      <th>A</th>\n",
       "      <td>1926</td>\n",
       "    </tr>\n",
       "    <tr>\n",
       "      <th>B</th>\n",
       "      <td>587</td>\n",
       "    </tr>\n",
       "  </tbody>\n",
       "</table>\n",
       "</div>"
      ],
      "text/plain": [
       "       user_id\n",
       "group         \n",
       "A         1926\n",
       "B          587"
      ]
     },
     "execution_count": 50,
     "metadata": {},
     "output_type": "execute_result"
    }
   ],
   "source": [
    "user_events_tests.groupby(['group']).agg({'user_id':'nunique'})"
   ]
  },
  {
   "cell_type": "markdown",
   "metadata": {},
   "source": [
    "After excluding users that had their event more than 14 days after sign up, I have 1926 users in group A and 587 users in group B.  \n",
    "Previous numbers were 1932 users in group A and 593 users in group B.  \n"
   ]
  },
  {
   "cell_type": "code",
   "execution_count": 51,
   "metadata": {},
   "outputs": [
    {
     "data": {
      "text/plain": [
       "0.07176309326632017"
      ]
     },
     "execution_count": 51,
     "metadata": {},
     "output_type": "execute_result"
    }
   ],
   "source": [
    "user_events_tests['user_id'].nunique() / users_eu['user_id'].nunique()"
   ]
  },
  {
   "cell_type": "markdown",
   "metadata": {},
   "source": [
    "Yet another problem with this data set. Test subjects are supposed to be 15% out of new users in EU. They are a bit over 7%. \n"
   ]
  },
  {
   "cell_type": "markdown",
   "metadata": {},
   "source": [
    "### Funnels \n"
   ]
  },
  {
   "cell_type": "code",
   "execution_count": 52,
   "metadata": {},
   "outputs": [
    {
     "data": {
      "text/html": [
       "<div>\n",
       "<style scoped>\n",
       "    .dataframe tbody tr th:only-of-type {\n",
       "        vertical-align: middle;\n",
       "    }\n",
       "\n",
       "    .dataframe tbody tr th {\n",
       "        vertical-align: top;\n",
       "    }\n",
       "\n",
       "    .dataframe thead th {\n",
       "        text-align: right;\n",
       "    }\n",
       "</style>\n",
       "<table border=\"1\" class=\"dataframe\">\n",
       "  <thead>\n",
       "    <tr style=\"text-align: right;\">\n",
       "      <th></th>\n",
       "      <th>index</th>\n",
       "      <th>user_id</th>\n",
       "      <th>event_dt</th>\n",
       "      <th>event_name</th>\n",
       "      <th>total</th>\n",
       "      <th>group</th>\n",
       "      <th>ab_test</th>\n",
       "      <th>first_date</th>\n",
       "      <th>region</th>\n",
       "      <th>device</th>\n",
       "      <th>event_date</th>\n",
       "    </tr>\n",
       "  </thead>\n",
       "  <tbody>\n",
       "    <tr>\n",
       "      <th>13237</th>\n",
       "      <td>190579</td>\n",
       "      <td>AC07099C53E86F19</td>\n",
       "      <td>2020-12-20 00:57:11</td>\n",
       "      <td>product_page</td>\n",
       "      <td>0.00</td>\n",
       "      <td>A</td>\n",
       "      <td>recommender_system_test</td>\n",
       "      <td>2020-12-15</td>\n",
       "      <td>eu</td>\n",
       "      <td>android</td>\n",
       "      <td>2020-12-20</td>\n",
       "    </tr>\n",
       "    <tr>\n",
       "      <th>4085</th>\n",
       "      <td>23853</td>\n",
       "      <td>3EFC6AF8B370AD88</td>\n",
       "      <td>2020-12-16 23:32:33</td>\n",
       "      <td>purchase</td>\n",
       "      <td>9.99</td>\n",
       "      <td>B</td>\n",
       "      <td>recommender_system_test</td>\n",
       "      <td>2020-12-16</td>\n",
       "      <td>eu</td>\n",
       "      <td>android</td>\n",
       "      <td>2020-12-16</td>\n",
       "    </tr>\n",
       "    <tr>\n",
       "      <th>3453</th>\n",
       "      <td>202125</td>\n",
       "      <td>86E5AC06DAA6521E</td>\n",
       "      <td>2020-12-21 03:53:54</td>\n",
       "      <td>product_page</td>\n",
       "      <td>0.00</td>\n",
       "      <td>A</td>\n",
       "      <td>recommender_system_test</td>\n",
       "      <td>2020-12-15</td>\n",
       "      <td>eu</td>\n",
       "      <td>pc</td>\n",
       "      <td>2020-12-21</td>\n",
       "    </tr>\n",
       "    <tr>\n",
       "      <th>14359</th>\n",
       "      <td>180694</td>\n",
       "      <td>E4111A6C304075D8</td>\n",
       "      <td>2020-12-18 03:00:38</td>\n",
       "      <td>product_page</td>\n",
       "      <td>0.00</td>\n",
       "      <td>A</td>\n",
       "      <td>recommender_system_test</td>\n",
       "      <td>2020-12-18</td>\n",
       "      <td>eu</td>\n",
       "      <td>android</td>\n",
       "      <td>2020-12-18</td>\n",
       "    </tr>\n",
       "    <tr>\n",
       "      <th>6240</th>\n",
       "      <td>118845</td>\n",
       "      <td>4FF2998A348C484F</td>\n",
       "      <td>2020-12-28 20:00:24</td>\n",
       "      <td>product_cart</td>\n",
       "      <td>0.00</td>\n",
       "      <td>A</td>\n",
       "      <td>recommender_system_test</td>\n",
       "      <td>2020-12-20</td>\n",
       "      <td>eu</td>\n",
       "      <td>mac</td>\n",
       "      <td>2020-12-28</td>\n",
       "    </tr>\n",
       "  </tbody>\n",
       "</table>\n",
       "</div>"
      ],
      "text/plain": [
       "        index           user_id            event_dt    event_name  total  \\\n",
       "13237  190579  AC07099C53E86F19 2020-12-20 00:57:11  product_page   0.00   \n",
       "4085    23853  3EFC6AF8B370AD88 2020-12-16 23:32:33      purchase   9.99   \n",
       "3453   202125  86E5AC06DAA6521E 2020-12-21 03:53:54  product_page   0.00   \n",
       "14359  180694  E4111A6C304075D8 2020-12-18 03:00:38  product_page   0.00   \n",
       "6240   118845  4FF2998A348C484F 2020-12-28 20:00:24  product_cart   0.00   \n",
       "\n",
       "      group                  ab_test first_date region   device event_date  \n",
       "13237     A  recommender_system_test 2020-12-15     eu  android 2020-12-20  \n",
       "4085      B  recommender_system_test 2020-12-16     eu  android 2020-12-16  \n",
       "3453      A  recommender_system_test 2020-12-15     eu       pc 2020-12-21  \n",
       "14359     A  recommender_system_test 2020-12-18     eu  android 2020-12-18  \n",
       "6240      A  recommender_system_test 2020-12-20     eu      mac 2020-12-28  "
      ]
     },
     "execution_count": 52,
     "metadata": {},
     "output_type": "execute_result"
    }
   ],
   "source": [
    "user_events_tests.sample(5)"
   ]
  },
  {
   "cell_type": "code",
   "execution_count": 53,
   "metadata": {},
   "outputs": [
    {
     "data": {
      "text/html": [
       "<div>\n",
       "<style scoped>\n",
       "    .dataframe tbody tr th:only-of-type {\n",
       "        vertical-align: middle;\n",
       "    }\n",
       "\n",
       "    .dataframe tbody tr th {\n",
       "        vertical-align: top;\n",
       "    }\n",
       "\n",
       "    .dataframe thead th {\n",
       "        text-align: right;\n",
       "    }\n",
       "</style>\n",
       "<table border=\"1\" class=\"dataframe\">\n",
       "  <thead>\n",
       "    <tr style=\"text-align: right;\">\n",
       "      <th></th>\n",
       "      <th>index</th>\n",
       "      <th>user_id</th>\n",
       "      <th>event_dt</th>\n",
       "      <th>event_name</th>\n",
       "      <th>total</th>\n",
       "      <th>group</th>\n",
       "      <th>ab_test</th>\n",
       "      <th>first_date</th>\n",
       "      <th>region</th>\n",
       "      <th>device</th>\n",
       "      <th>event_date</th>\n",
       "    </tr>\n",
       "  </thead>\n",
       "  <tbody>\n",
       "    <tr>\n",
       "      <th>4894</th>\n",
       "      <td>29798</td>\n",
       "      <td>EE24621F3C564C74</td>\n",
       "      <td>2020-12-18 00:32:22</td>\n",
       "      <td>purchase</td>\n",
       "      <td>4.99</td>\n",
       "      <td>A</td>\n",
       "      <td>recommender_system_test</td>\n",
       "      <td>2020-12-18</td>\n",
       "      <td>eu</td>\n",
       "      <td>mac</td>\n",
       "      <td>2020-12-18</td>\n",
       "    </tr>\n",
       "    <tr>\n",
       "      <th>4895</th>\n",
       "      <td>32550</td>\n",
       "      <td>EE24621F3C564C74</td>\n",
       "      <td>2020-12-19 07:50:58</td>\n",
       "      <td>purchase</td>\n",
       "      <td>4.99</td>\n",
       "      <td>A</td>\n",
       "      <td>recommender_system_test</td>\n",
       "      <td>2020-12-18</td>\n",
       "      <td>eu</td>\n",
       "      <td>mac</td>\n",
       "      <td>2020-12-19</td>\n",
       "    </tr>\n",
       "    <tr>\n",
       "      <th>4896</th>\n",
       "      <td>89991</td>\n",
       "      <td>EE24621F3C564C74</td>\n",
       "      <td>2020-12-18 00:32:22</td>\n",
       "      <td>product_cart</td>\n",
       "      <td>0.00</td>\n",
       "      <td>A</td>\n",
       "      <td>recommender_system_test</td>\n",
       "      <td>2020-12-18</td>\n",
       "      <td>eu</td>\n",
       "      <td>mac</td>\n",
       "      <td>2020-12-18</td>\n",
       "    </tr>\n",
       "    <tr>\n",
       "      <th>4897</th>\n",
       "      <td>92797</td>\n",
       "      <td>EE24621F3C564C74</td>\n",
       "      <td>2020-12-19 07:51:01</td>\n",
       "      <td>product_cart</td>\n",
       "      <td>0.00</td>\n",
       "      <td>A</td>\n",
       "      <td>recommender_system_test</td>\n",
       "      <td>2020-12-18</td>\n",
       "      <td>eu</td>\n",
       "      <td>mac</td>\n",
       "      <td>2020-12-19</td>\n",
       "    </tr>\n",
       "    <tr>\n",
       "      <th>4898</th>\n",
       "      <td>180308</td>\n",
       "      <td>EE24621F3C564C74</td>\n",
       "      <td>2020-12-18 00:32:22</td>\n",
       "      <td>product_page</td>\n",
       "      <td>0.00</td>\n",
       "      <td>A</td>\n",
       "      <td>recommender_system_test</td>\n",
       "      <td>2020-12-18</td>\n",
       "      <td>eu</td>\n",
       "      <td>mac</td>\n",
       "      <td>2020-12-18</td>\n",
       "    </tr>\n",
       "    <tr>\n",
       "      <th>4899</th>\n",
       "      <td>185788</td>\n",
       "      <td>EE24621F3C564C74</td>\n",
       "      <td>2020-12-19 07:50:59</td>\n",
       "      <td>product_page</td>\n",
       "      <td>0.00</td>\n",
       "      <td>A</td>\n",
       "      <td>recommender_system_test</td>\n",
       "      <td>2020-12-18</td>\n",
       "      <td>eu</td>\n",
       "      <td>mac</td>\n",
       "      <td>2020-12-19</td>\n",
       "    </tr>\n",
       "    <tr>\n",
       "      <th>4900</th>\n",
       "      <td>331601</td>\n",
       "      <td>EE24621F3C564C74</td>\n",
       "      <td>2020-12-18 00:32:22</td>\n",
       "      <td>login</td>\n",
       "      <td>0.00</td>\n",
       "      <td>A</td>\n",
       "      <td>recommender_system_test</td>\n",
       "      <td>2020-12-18</td>\n",
       "      <td>eu</td>\n",
       "      <td>mac</td>\n",
       "      <td>2020-12-18</td>\n",
       "    </tr>\n",
       "    <tr>\n",
       "      <th>4901</th>\n",
       "      <td>339898</td>\n",
       "      <td>EE24621F3C564C74</td>\n",
       "      <td>2020-12-19 07:50:58</td>\n",
       "      <td>login</td>\n",
       "      <td>0.00</td>\n",
       "      <td>A</td>\n",
       "      <td>recommender_system_test</td>\n",
       "      <td>2020-12-18</td>\n",
       "      <td>eu</td>\n",
       "      <td>mac</td>\n",
       "      <td>2020-12-19</td>\n",
       "    </tr>\n",
       "  </tbody>\n",
       "</table>\n",
       "</div>"
      ],
      "text/plain": [
       "       index           user_id            event_dt    event_name  total group  \\\n",
       "4894   29798  EE24621F3C564C74 2020-12-18 00:32:22      purchase   4.99     A   \n",
       "4895   32550  EE24621F3C564C74 2020-12-19 07:50:58      purchase   4.99     A   \n",
       "4896   89991  EE24621F3C564C74 2020-12-18 00:32:22  product_cart   0.00     A   \n",
       "4897   92797  EE24621F3C564C74 2020-12-19 07:51:01  product_cart   0.00     A   \n",
       "4898  180308  EE24621F3C564C74 2020-12-18 00:32:22  product_page   0.00     A   \n",
       "4899  185788  EE24621F3C564C74 2020-12-19 07:50:59  product_page   0.00     A   \n",
       "4900  331601  EE24621F3C564C74 2020-12-18 00:32:22         login   0.00     A   \n",
       "4901  339898  EE24621F3C564C74 2020-12-19 07:50:58         login   0.00     A   \n",
       "\n",
       "                      ab_test first_date region device event_date  \n",
       "4894  recommender_system_test 2020-12-18     eu    mac 2020-12-18  \n",
       "4895  recommender_system_test 2020-12-18     eu    mac 2020-12-19  \n",
       "4896  recommender_system_test 2020-12-18     eu    mac 2020-12-18  \n",
       "4897  recommender_system_test 2020-12-18     eu    mac 2020-12-19  \n",
       "4898  recommender_system_test 2020-12-18     eu    mac 2020-12-18  \n",
       "4899  recommender_system_test 2020-12-18     eu    mac 2020-12-19  \n",
       "4900  recommender_system_test 2020-12-18     eu    mac 2020-12-18  \n",
       "4901  recommender_system_test 2020-12-18     eu    mac 2020-12-19  "
      ]
     },
     "execution_count": 53,
     "metadata": {},
     "output_type": "execute_result"
    }
   ],
   "source": [
    "user_events_tests[user_events_tests['user_id'] == 'EE24621F3C564C74']"
   ]
  },
  {
   "cell_type": "code",
   "execution_count": 54,
   "metadata": {},
   "outputs": [],
   "source": [
    "def sequence(user):\n",
    "    user_seq=user_events_tests[user_events_tests['user_id'] == user].sort_values(by=['user_id','event_dt'])\n",
    "    return user_seq['event_name'].drop_duplicates().to_list()"
   ]
  },
  {
   "cell_type": "code",
   "execution_count": 55,
   "metadata": {},
   "outputs": [
    {
     "data": {
      "text/plain": [
       "['purchase', 'product_cart', 'product_page', 'login']"
      ]
     },
     "execution_count": 55,
     "metadata": {},
     "output_type": "execute_result"
    }
   ],
   "source": [
    "sequence('EE24621F3C564C74')"
   ]
  },
  {
   "cell_type": "code",
   "execution_count": 56,
   "metadata": {},
   "outputs": [
    {
     "data": {
      "text/plain": [
       "(login,)                                         491\n",
       "(login, product_page)                            408\n",
       "(product_page, login)                            328\n",
       "(purchase, login, product_page)                  208\n",
       "(purchase, login)                                160\n",
       "(purchase, product_page, login)                  153\n",
       "(login, product_cart)                            114\n",
       "(product_cart, login)                             85\n",
       "(login, product_cart, product_page)               79\n",
       "(product_cart, product_page, login)               78\n",
       "(product_page, login, product_cart)               56\n",
       "(product_cart, login, product_page)               56\n",
       "(purchase, login, product_cart)                   51\n",
       "(purchase, login, product_cart, product_page)     47\n",
       "(purchase, product_cart, login)                   40\n",
       "Name: path, dtype: int64"
      ]
     },
     "execution_count": 56,
     "metadata": {},
     "output_type": "execute_result"
    }
   ],
   "source": [
    "sequence_empty=[]\n",
    "for i in user_events_tests['user_id'].unique():\n",
    "    sequence_empty.append([i,tuple(sequence(i))])\n",
    "    \n",
    "logs_path=pd.DataFrame(sequence_empty,columns=['user','path'])\n",
    "logs_path['path'].value_counts().head(15)"
   ]
  },
  {
   "cell_type": "code",
   "execution_count": 57,
   "metadata": {},
   "outputs": [
    {
     "data": {
      "text/html": [
       "<div>\n",
       "<style scoped>\n",
       "    .dataframe tbody tr th:only-of-type {\n",
       "        vertical-align: middle;\n",
       "    }\n",
       "\n",
       "    .dataframe tbody tr th {\n",
       "        vertical-align: top;\n",
       "    }\n",
       "\n",
       "    .dataframe thead th {\n",
       "        text-align: right;\n",
       "    }\n",
       "</style>\n",
       "<table border=\"1\" class=\"dataframe\">\n",
       "  <thead>\n",
       "    <tr style=\"text-align: right;\">\n",
       "      <th></th>\n",
       "      <th>index</th>\n",
       "      <th>user_id</th>\n",
       "      <th>event_dt</th>\n",
       "      <th>event_name</th>\n",
       "      <th>total</th>\n",
       "      <th>group</th>\n",
       "      <th>ab_test</th>\n",
       "      <th>first_date</th>\n",
       "      <th>region</th>\n",
       "      <th>device</th>\n",
       "      <th>event_date</th>\n",
       "    </tr>\n",
       "  </thead>\n",
       "  <tbody>\n",
       "    <tr>\n",
       "      <th>4894</th>\n",
       "      <td>29798</td>\n",
       "      <td>EE24621F3C564C74</td>\n",
       "      <td>2020-12-18 00:32:22</td>\n",
       "      <td>purchase</td>\n",
       "      <td>4.99</td>\n",
       "      <td>A</td>\n",
       "      <td>recommender_system_test</td>\n",
       "      <td>2020-12-18</td>\n",
       "      <td>eu</td>\n",
       "      <td>mac</td>\n",
       "      <td>2020-12-18</td>\n",
       "    </tr>\n",
       "    <tr>\n",
       "      <th>4896</th>\n",
       "      <td>89991</td>\n",
       "      <td>EE24621F3C564C74</td>\n",
       "      <td>2020-12-18 00:32:22</td>\n",
       "      <td>product_cart</td>\n",
       "      <td>0.00</td>\n",
       "      <td>A</td>\n",
       "      <td>recommender_system_test</td>\n",
       "      <td>2020-12-18</td>\n",
       "      <td>eu</td>\n",
       "      <td>mac</td>\n",
       "      <td>2020-12-18</td>\n",
       "    </tr>\n",
       "    <tr>\n",
       "      <th>4898</th>\n",
       "      <td>180308</td>\n",
       "      <td>EE24621F3C564C74</td>\n",
       "      <td>2020-12-18 00:32:22</td>\n",
       "      <td>product_page</td>\n",
       "      <td>0.00</td>\n",
       "      <td>A</td>\n",
       "      <td>recommender_system_test</td>\n",
       "      <td>2020-12-18</td>\n",
       "      <td>eu</td>\n",
       "      <td>mac</td>\n",
       "      <td>2020-12-18</td>\n",
       "    </tr>\n",
       "    <tr>\n",
       "      <th>4900</th>\n",
       "      <td>331601</td>\n",
       "      <td>EE24621F3C564C74</td>\n",
       "      <td>2020-12-18 00:32:22</td>\n",
       "      <td>login</td>\n",
       "      <td>0.00</td>\n",
       "      <td>A</td>\n",
       "      <td>recommender_system_test</td>\n",
       "      <td>2020-12-18</td>\n",
       "      <td>eu</td>\n",
       "      <td>mac</td>\n",
       "      <td>2020-12-18</td>\n",
       "    </tr>\n",
       "  </tbody>\n",
       "</table>\n",
       "</div>"
      ],
      "text/plain": [
       "       index           user_id            event_dt    event_name  total group  \\\n",
       "4894   29798  EE24621F3C564C74 2020-12-18 00:32:22      purchase   4.99     A   \n",
       "4896   89991  EE24621F3C564C74 2020-12-18 00:32:22  product_cart   0.00     A   \n",
       "4898  180308  EE24621F3C564C74 2020-12-18 00:32:22  product_page   0.00     A   \n",
       "4900  331601  EE24621F3C564C74 2020-12-18 00:32:22         login   0.00     A   \n",
       "\n",
       "                      ab_test first_date region device event_date  \n",
       "4894  recommender_system_test 2020-12-18     eu    mac 2020-12-18  \n",
       "4896  recommender_system_test 2020-12-18     eu    mac 2020-12-18  \n",
       "4898  recommender_system_test 2020-12-18     eu    mac 2020-12-18  \n",
       "4900  recommender_system_test 2020-12-18     eu    mac 2020-12-18  "
      ]
     },
     "execution_count": 57,
     "metadata": {},
     "output_type": "execute_result"
    }
   ],
   "source": [
    "user_events_tests[(user_events_tests['user_id'] == 'EE24621F3C564C74') & (user_events_tests['event_dt'] == '2020-12-18 00:32:22')]"
   ]
  },
  {
   "cell_type": "code",
   "execution_count": 58,
   "metadata": {},
   "outputs": [
    {
     "data": {
      "text/html": [
       "<div>\n",
       "<style scoped>\n",
       "    .dataframe tbody tr th:only-of-type {\n",
       "        vertical-align: middle;\n",
       "    }\n",
       "\n",
       "    .dataframe tbody tr th {\n",
       "        vertical-align: top;\n",
       "    }\n",
       "\n",
       "    .dataframe thead th {\n",
       "        text-align: right;\n",
       "    }\n",
       "</style>\n",
       "<table border=\"1\" class=\"dataframe\">\n",
       "  <thead>\n",
       "    <tr style=\"text-align: right;\">\n",
       "      <th></th>\n",
       "      <th>index</th>\n",
       "      <th>user_id</th>\n",
       "      <th>event_dt</th>\n",
       "      <th>event_name</th>\n",
       "      <th>total</th>\n",
       "      <th>group</th>\n",
       "      <th>ab_test</th>\n",
       "      <th>first_date</th>\n",
       "      <th>region</th>\n",
       "      <th>device</th>\n",
       "      <th>event_date</th>\n",
       "    </tr>\n",
       "  </thead>\n",
       "  <tbody>\n",
       "    <tr>\n",
       "      <th>4895</th>\n",
       "      <td>32550</td>\n",
       "      <td>EE24621F3C564C74</td>\n",
       "      <td>2020-12-19 07:50:58</td>\n",
       "      <td>purchase</td>\n",
       "      <td>4.99</td>\n",
       "      <td>A</td>\n",
       "      <td>recommender_system_test</td>\n",
       "      <td>2020-12-18</td>\n",
       "      <td>eu</td>\n",
       "      <td>mac</td>\n",
       "      <td>2020-12-19</td>\n",
       "    </tr>\n",
       "    <tr>\n",
       "      <th>4897</th>\n",
       "      <td>92797</td>\n",
       "      <td>EE24621F3C564C74</td>\n",
       "      <td>2020-12-19 07:51:01</td>\n",
       "      <td>product_cart</td>\n",
       "      <td>0.00</td>\n",
       "      <td>A</td>\n",
       "      <td>recommender_system_test</td>\n",
       "      <td>2020-12-18</td>\n",
       "      <td>eu</td>\n",
       "      <td>mac</td>\n",
       "      <td>2020-12-19</td>\n",
       "    </tr>\n",
       "    <tr>\n",
       "      <th>4899</th>\n",
       "      <td>185788</td>\n",
       "      <td>EE24621F3C564C74</td>\n",
       "      <td>2020-12-19 07:50:59</td>\n",
       "      <td>product_page</td>\n",
       "      <td>0.00</td>\n",
       "      <td>A</td>\n",
       "      <td>recommender_system_test</td>\n",
       "      <td>2020-12-18</td>\n",
       "      <td>eu</td>\n",
       "      <td>mac</td>\n",
       "      <td>2020-12-19</td>\n",
       "    </tr>\n",
       "    <tr>\n",
       "      <th>4901</th>\n",
       "      <td>339898</td>\n",
       "      <td>EE24621F3C564C74</td>\n",
       "      <td>2020-12-19 07:50:58</td>\n",
       "      <td>login</td>\n",
       "      <td>0.00</td>\n",
       "      <td>A</td>\n",
       "      <td>recommender_system_test</td>\n",
       "      <td>2020-12-18</td>\n",
       "      <td>eu</td>\n",
       "      <td>mac</td>\n",
       "      <td>2020-12-19</td>\n",
       "    </tr>\n",
       "  </tbody>\n",
       "</table>\n",
       "</div>"
      ],
      "text/plain": [
       "       index           user_id            event_dt    event_name  total group  \\\n",
       "4895   32550  EE24621F3C564C74 2020-12-19 07:50:58      purchase   4.99     A   \n",
       "4897   92797  EE24621F3C564C74 2020-12-19 07:51:01  product_cart   0.00     A   \n",
       "4899  185788  EE24621F3C564C74 2020-12-19 07:50:59  product_page   0.00     A   \n",
       "4901  339898  EE24621F3C564C74 2020-12-19 07:50:58         login   0.00     A   \n",
       "\n",
       "                      ab_test first_date region device event_date  \n",
       "4895  recommender_system_test 2020-12-18     eu    mac 2020-12-19  \n",
       "4897  recommender_system_test 2020-12-18     eu    mac 2020-12-19  \n",
       "4899  recommender_system_test 2020-12-18     eu    mac 2020-12-19  \n",
       "4901  recommender_system_test 2020-12-18     eu    mac 2020-12-19  "
      ]
     },
     "execution_count": 58,
     "metadata": {},
     "output_type": "execute_result"
    }
   ],
   "source": [
    "user_events_tests[(user_events_tests['user_id'] == 'EE24621F3C564C74') & ~(user_events_tests['event_dt'] == '2020-12-18 00:32:22')]"
   ]
  },
  {
   "cell_type": "markdown",
   "metadata": {},
   "source": [
    "When looking at the sequences, I find more problems with this data.  \n",
    "The top 3 look logical: users login, then go to product page. Sometimes get to a product page and then login, which is possible if you enter the site with an external link for a product.   \n",
    "Numbers 4,5,6 on this list, however, raise some questions. It looks like the purchase was made before the login or looking at the product page. I chose a random user that went through all 4 stages. When I looked at his data I could see that the timestamps are a bit problematic. On the purchase made on 18.12, it looks like all 4 stages were made within one second, on the purchase made on 19.12, login and purchase were made on the same socond, but the product and the cart were viewed later.  \n",
    "What I conclude from this is that the timestamping on either on the site itself or during data aggregation and transfer does not work properly. \n"
   ]
  },
  {
   "cell_type": "code",
   "execution_count": 59,
   "metadata": {},
   "outputs": [
    {
     "data": {
      "text/html": [
       "<div>\n",
       "<style scoped>\n",
       "    .dataframe tbody tr th:only-of-type {\n",
       "        vertical-align: middle;\n",
       "    }\n",
       "\n",
       "    .dataframe tbody tr th {\n",
       "        vertical-align: top;\n",
       "    }\n",
       "\n",
       "    .dataframe thead th {\n",
       "        text-align: right;\n",
       "    }\n",
       "</style>\n",
       "<table border=\"1\" class=\"dataframe\">\n",
       "  <thead>\n",
       "    <tr style=\"text-align: right;\">\n",
       "      <th></th>\n",
       "      <th>event_name</th>\n",
       "      <th>group</th>\n",
       "      <th>user_id</th>\n",
       "    </tr>\n",
       "  </thead>\n",
       "  <tbody>\n",
       "    <tr>\n",
       "      <th>0</th>\n",
       "      <td>login</td>\n",
       "      <td>A</td>\n",
       "      <td>1926</td>\n",
       "    </tr>\n",
       "    <tr>\n",
       "      <th>2</th>\n",
       "      <td>product_page</td>\n",
       "      <td>A</td>\n",
       "      <td>1244</td>\n",
       "    </tr>\n",
       "    <tr>\n",
       "      <th>1</th>\n",
       "      <td>product_cart</td>\n",
       "      <td>A</td>\n",
       "      <td>593</td>\n",
       "    </tr>\n",
       "    <tr>\n",
       "      <th>3</th>\n",
       "      <td>purchase</td>\n",
       "      <td>A</td>\n",
       "      <td>617</td>\n",
       "    </tr>\n",
       "  </tbody>\n",
       "</table>\n",
       "</div>"
      ],
      "text/plain": [
       "     event_name group  user_id\n",
       "0         login     A     1926\n",
       "2  product_page     A     1244\n",
       "1  product_cart     A      593\n",
       "3      purchase     A      617"
      ]
     },
     "metadata": {},
     "output_type": "display_data"
    },
    {
     "data": {
      "text/html": [
       "<div>\n",
       "<style scoped>\n",
       "    .dataframe tbody tr th:only-of-type {\n",
       "        vertical-align: middle;\n",
       "    }\n",
       "\n",
       "    .dataframe tbody tr th {\n",
       "        vertical-align: top;\n",
       "    }\n",
       "\n",
       "    .dataframe thead th {\n",
       "        text-align: right;\n",
       "    }\n",
       "</style>\n",
       "<table border=\"1\" class=\"dataframe\">\n",
       "  <thead>\n",
       "    <tr style=\"text-align: right;\">\n",
       "      <th></th>\n",
       "      <th>event_name</th>\n",
       "      <th>group</th>\n",
       "      <th>user_id</th>\n",
       "    </tr>\n",
       "  </thead>\n",
       "  <tbody>\n",
       "    <tr>\n",
       "      <th>0</th>\n",
       "      <td>login</td>\n",
       "      <td>B</td>\n",
       "      <td>582</td>\n",
       "    </tr>\n",
       "    <tr>\n",
       "      <th>2</th>\n",
       "      <td>product_page</td>\n",
       "      <td>B</td>\n",
       "      <td>323</td>\n",
       "    </tr>\n",
       "    <tr>\n",
       "      <th>1</th>\n",
       "      <td>product_cart</td>\n",
       "      <td>B</td>\n",
       "      <td>167</td>\n",
       "    </tr>\n",
       "    <tr>\n",
       "      <th>3</th>\n",
       "      <td>purchase</td>\n",
       "      <td>B</td>\n",
       "      <td>164</td>\n",
       "    </tr>\n",
       "  </tbody>\n",
       "</table>\n",
       "</div>"
      ],
      "text/plain": [
       "     event_name group  user_id\n",
       "0         login     B      582\n",
       "2  product_page     B      323\n",
       "1  product_cart     B      167\n",
       "3      purchase     B      164"
      ]
     },
     "metadata": {},
     "output_type": "display_data"
    }
   ],
   "source": [
    "funnel_by_groups=[]\n",
    "for i in user_events_tests['group'].unique():\n",
    "    group=user_events_tests[user_events_tests['group'] == i].groupby(\n",
    "        ['event_name','group'])['user_id'].nunique().reset_index().sort_values(by=['user_id'], ascending=False)\n",
    "    group_in = group.reindex(index=[0,2,1,3])\n",
    "    display(group_in)\n",
    "    funnel_by_groups.append(group_in)"
   ]
  },
  {
   "cell_type": "code",
   "execution_count": 60,
   "metadata": {},
   "outputs": [
    {
     "data": {
      "text/html": [
       "<div>\n",
       "<style scoped>\n",
       "    .dataframe tbody tr th:only-of-type {\n",
       "        vertical-align: middle;\n",
       "    }\n",
       "\n",
       "    .dataframe tbody tr th {\n",
       "        vertical-align: top;\n",
       "    }\n",
       "\n",
       "    .dataframe thead th {\n",
       "        text-align: right;\n",
       "    }\n",
       "</style>\n",
       "<table border=\"1\" class=\"dataframe\">\n",
       "  <thead>\n",
       "    <tr style=\"text-align: right;\">\n",
       "      <th></th>\n",
       "      <th>event_name</th>\n",
       "      <th>group</th>\n",
       "      <th>user_id</th>\n",
       "    </tr>\n",
       "  </thead>\n",
       "  <tbody>\n",
       "    <tr>\n",
       "      <th>0</th>\n",
       "      <td>login</td>\n",
       "      <td>A</td>\n",
       "      <td>1926</td>\n",
       "    </tr>\n",
       "    <tr>\n",
       "      <th>2</th>\n",
       "      <td>product_page</td>\n",
       "      <td>A</td>\n",
       "      <td>1244</td>\n",
       "    </tr>\n",
       "    <tr>\n",
       "      <th>1</th>\n",
       "      <td>product_cart</td>\n",
       "      <td>A</td>\n",
       "      <td>593</td>\n",
       "    </tr>\n",
       "    <tr>\n",
       "      <th>3</th>\n",
       "      <td>purchase</td>\n",
       "      <td>A</td>\n",
       "      <td>617</td>\n",
       "    </tr>\n",
       "    <tr>\n",
       "      <th>0</th>\n",
       "      <td>login</td>\n",
       "      <td>B</td>\n",
       "      <td>582</td>\n",
       "    </tr>\n",
       "    <tr>\n",
       "      <th>2</th>\n",
       "      <td>product_page</td>\n",
       "      <td>B</td>\n",
       "      <td>323</td>\n",
       "    </tr>\n",
       "    <tr>\n",
       "      <th>1</th>\n",
       "      <td>product_cart</td>\n",
       "      <td>B</td>\n",
       "      <td>167</td>\n",
       "    </tr>\n",
       "    <tr>\n",
       "      <th>3</th>\n",
       "      <td>purchase</td>\n",
       "      <td>B</td>\n",
       "      <td>164</td>\n",
       "    </tr>\n",
       "  </tbody>\n",
       "</table>\n",
       "</div>"
      ],
      "text/plain": [
       "     event_name group  user_id\n",
       "0         login     A     1926\n",
       "2  product_page     A     1244\n",
       "1  product_cart     A      593\n",
       "3      purchase     A      617\n",
       "0         login     B      582\n",
       "2  product_page     B      323\n",
       "1  product_cart     B      167\n",
       "3      purchase     B      164"
      ]
     },
     "execution_count": 60,
     "metadata": {},
     "output_type": "execute_result"
    }
   ],
   "source": [
    "funnel_by_groups = pd.concat(funnel_by_groups)\n",
    "funnel_by_groups"
   ]
  },
  {
   "cell_type": "code",
   "execution_count": 61,
   "metadata": {},
   "outputs": [
    {
     "data": {
      "image/png": "[encoded data removed]"
     },
     "metadata": {},
     "output_type": "display_data"
    }
   ],
   "source": [
    "fig=px.funnel(\n",
    "    funnel_by_groups, \n",
    "    x='user_id', \n",
    "    y='event_name',\n",
    "    color='group', \n",
    "    title='Event Funnel by Group')\n",
    "fig.show(renderer='png')"
   ]
  },
  {
   "cell_type": "markdown",
   "metadata": {},
   "source": [
    "Group A is disproportionaly larger than group B.  \n",
    "Also, in group A less users arrived to the product cart stage than to the purchase stage. It is possible that a user can check out without looking at the cart.   \n",
    "In group B, product cart and purchase stages have almost the same number of users. However this does mean that all who got to the cart paid as well. As with group A, some users might get to the purchase stage without looking at the cart. So when we looking at the funnel it is imossible to conclude that those users were converted.  \n"
   ]
  },
  {
   "cell_type": "code",
   "execution_count": 62,
   "metadata": {},
   "outputs": [],
   "source": [
    "g_a = funnel_by_groups[funnel_by_groups['group'] == 'A']\n",
    "g_b = funnel_by_groups[funnel_by_groups['group'] == 'B']"
   ]
  },
  {
   "cell_type": "code",
   "execution_count": 63,
   "metadata": {},
   "outputs": [
    {
     "data": {
      "text/html": [
       "<div>\n",
       "<style scoped>\n",
       "    .dataframe tbody tr th:only-of-type {\n",
       "        vertical-align: middle;\n",
       "    }\n",
       "\n",
       "    .dataframe tbody tr th {\n",
       "        vertical-align: top;\n",
       "    }\n",
       "\n",
       "    .dataframe thead th {\n",
       "        text-align: right;\n",
       "    }\n",
       "</style>\n",
       "<table border=\"1\" class=\"dataframe\">\n",
       "  <thead>\n",
       "    <tr style=\"text-align: right;\">\n",
       "      <th></th>\n",
       "      <th>event_name</th>\n",
       "      <th>group</th>\n",
       "      <th>user_id</th>\n",
       "    </tr>\n",
       "  </thead>\n",
       "  <tbody>\n",
       "    <tr>\n",
       "      <th>0</th>\n",
       "      <td>login</td>\n",
       "      <td>B</td>\n",
       "      <td>582</td>\n",
       "    </tr>\n",
       "    <tr>\n",
       "      <th>2</th>\n",
       "      <td>product_page</td>\n",
       "      <td>B</td>\n",
       "      <td>323</td>\n",
       "    </tr>\n",
       "    <tr>\n",
       "      <th>1</th>\n",
       "      <td>product_cart</td>\n",
       "      <td>B</td>\n",
       "      <td>167</td>\n",
       "    </tr>\n",
       "    <tr>\n",
       "      <th>3</th>\n",
       "      <td>purchase</td>\n",
       "      <td>B</td>\n",
       "      <td>164</td>\n",
       "    </tr>\n",
       "  </tbody>\n",
       "</table>\n",
       "</div>"
      ],
      "text/plain": [
       "     event_name group  user_id\n",
       "0         login     B      582\n",
       "2  product_page     B      323\n",
       "1  product_cart     B      167\n",
       "3      purchase     B      164"
      ]
     },
     "execution_count": 63,
     "metadata": {},
     "output_type": "execute_result"
    }
   ],
   "source": [
    "g_a\n",
    "g_b"
   ]
  },
  {
   "cell_type": "code",
   "execution_count": 64,
   "metadata": {
    "scrolled": false
   },
   "outputs": [
    {
     "data": {
      "image/png": "[encoded data removed]"
     },
     "metadata": {},
     "output_type": "display_data"
    }
   ],
   "source": [
    "fig = go.Figure()\n",
    "\n",
    "fig.add_trace(go.Funnel(\n",
    "    name = 'A',\n",
    "    x = g_a['user_id'],\n",
    "    y = g_a['event_name'],\n",
    "    orientation = 'h',\n",
    "    textinfo = \"value+percent previous\"))\n",
    "\n",
    "fig.add_trace(go.Funnel(\n",
    "    name = 'B',\n",
    "    x = g_b['user_id'],\n",
    "    y = g_b['event_name'],\n",
    "    orientation = 'h',\n",
    "    textinfo = \"value+percent previous\"))\n",
    "\n",
    "fig.update_layout(title_text='Event Funnel by Group + Conversion % to the Previous Stage')\n",
    "\n",
    "fig.show(renderer='png')"
   ]
  },
  {
   "cell_type": "markdown",
   "metadata": {},
   "source": [
    "The expectaion was to see an increase of 10% at least in conversion for the test participants at each stage of the funnel: product page -> product card -> purchase within 14 days of signing up.   \n",
    "When looking at the funnel that includes the percentages of conversion between each stage and its predecessor, only the product card stage has higher conversion in group B and it is only 4%.   \n",
    "So group A definetly preforms better in terms of conversion.   \n"
   ]
  },
  {
   "cell_type": "markdown",
   "metadata": {},
   "source": [
    "### Number of events\n"
   ]
  },
  {
   "cell_type": "code",
   "execution_count": 65,
   "metadata": {},
   "outputs": [
    {
     "data": {
      "text/html": [
       "<div>\n",
       "<style scoped>\n",
       "    .dataframe tbody tr th:only-of-type {\n",
       "        vertical-align: middle;\n",
       "    }\n",
       "\n",
       "    .dataframe tbody tr th {\n",
       "        vertical-align: top;\n",
       "    }\n",
       "\n",
       "    .dataframe thead th {\n",
       "        text-align: right;\n",
       "    }\n",
       "</style>\n",
       "<table border=\"1\" class=\"dataframe\">\n",
       "  <thead>\n",
       "    <tr style=\"text-align: right;\">\n",
       "      <th></th>\n",
       "      <th>user_id</th>\n",
       "      <th>group</th>\n",
       "      <th>event_name</th>\n",
       "    </tr>\n",
       "  </thead>\n",
       "  <tbody>\n",
       "    <tr>\n",
       "      <th>2057</th>\n",
       "      <td>CED71698585A2E46</td>\n",
       "      <td>A</td>\n",
       "      <td>24</td>\n",
       "    </tr>\n",
       "    <tr>\n",
       "      <th>284</th>\n",
       "      <td>1BFEE479308EFF44</td>\n",
       "      <td>A</td>\n",
       "      <td>24</td>\n",
       "    </tr>\n",
       "    <tr>\n",
       "      <th>1091</th>\n",
       "      <td>6E3DF9C69A6B607E</td>\n",
       "      <td>A</td>\n",
       "      <td>21</td>\n",
       "    </tr>\n",
       "    <tr>\n",
       "      <th>1289</th>\n",
       "      <td>8378F834617AA310</td>\n",
       "      <td>A</td>\n",
       "      <td>20</td>\n",
       "    </tr>\n",
       "    <tr>\n",
       "      <th>2449</th>\n",
       "      <td>F9D53F0BA957F728</td>\n",
       "      <td>A</td>\n",
       "      <td>20</td>\n",
       "    </tr>\n",
       "    <tr>\n",
       "      <th>...</th>\n",
       "      <td>...</td>\n",
       "      <td>...</td>\n",
       "      <td>...</td>\n",
       "    </tr>\n",
       "    <tr>\n",
       "      <th>598</th>\n",
       "      <td>3D960D370AF76942</td>\n",
       "      <td>A</td>\n",
       "      <td>1</td>\n",
       "    </tr>\n",
       "    <tr>\n",
       "      <th>2387</th>\n",
       "      <td>F3A05C8D912975AB</td>\n",
       "      <td>B</td>\n",
       "      <td>1</td>\n",
       "    </tr>\n",
       "    <tr>\n",
       "      <th>2135</th>\n",
       "      <td>D7663B1CF2680ECB</td>\n",
       "      <td>A</td>\n",
       "      <td>1</td>\n",
       "    </tr>\n",
       "    <tr>\n",
       "      <th>2282</th>\n",
       "      <td>E85E1F634E368569</td>\n",
       "      <td>A</td>\n",
       "      <td>1</td>\n",
       "    </tr>\n",
       "    <tr>\n",
       "      <th>1683</th>\n",
       "      <td>A944D2BCDFD50619</td>\n",
       "      <td>A</td>\n",
       "      <td>1</td>\n",
       "    </tr>\n",
       "  </tbody>\n",
       "</table>\n",
       "<p>2513 rows × 3 columns</p>\n",
       "</div>"
      ],
      "text/plain": [
       "               user_id group  event_name\n",
       "2057  CED71698585A2E46     A          24\n",
       "284   1BFEE479308EFF44     A          24\n",
       "1091  6E3DF9C69A6B607E     A          21\n",
       "1289  8378F834617AA310     A          20\n",
       "2449  F9D53F0BA957F728     A          20\n",
       "...                ...   ...         ...\n",
       "598   3D960D370AF76942     A           1\n",
       "2387  F3A05C8D912975AB     B           1\n",
       "2135  D7663B1CF2680ECB     A           1\n",
       "2282  E85E1F634E368569     A           1\n",
       "1683  A944D2BCDFD50619     A           1\n",
       "\n",
       "[2513 rows x 3 columns]"
      ]
     },
     "execution_count": 65,
     "metadata": {},
     "output_type": "execute_result"
    }
   ],
   "source": [
    "n_events = user_events_tests.groupby(['user_id', 'group'], as_index=False).agg({'event_name': 'count'})\n",
    "n_events.sort_values(by = 'event_name', ascending=False)"
   ]
  },
  {
   "cell_type": "code",
   "execution_count": 66,
   "metadata": {},
   "outputs": [
    {
     "name": "stdout",
     "output_type": "stream",
     "text": [
      "The average number of events per user in group A is 6.0114226375908615\n",
      "The average number of events per user in group B is 3.9045996592844974\n"
     ]
    }
   ],
   "source": [
    "ev_a = n_events[n_events['group'] == 'A']\n",
    "ev_b = n_events[n_events['group'] == 'B']\n",
    "\n",
    "print('The average number of events per user in group A is', ev_a['event_name'].mean())\n",
    "print('The average number of events per user in group B is', ev_b['event_name'].mean())"
   ]
  },
  {
   "cell_type": "code",
   "execution_count": 67,
   "metadata": {},
   "outputs": [
    {
     "data": {
      "image/png": "[encoded data removed]",
      "text/plain": [
       "<Figure size 1080x720 with 1 Axes>"
      ]
     },
     "metadata": {
      "needs_background": "light"
     },
     "output_type": "display_data"
    }
   ],
   "source": [
    "plt.figure(figsize=(15,10))\n",
    "ax = sns.boxplot(data=n_events, x='group', y='event_name', palette='magma', showfliers= False)\n",
    "plt.title('Distribution of events', size=16)\n",
    "plt.ylabel('Number of events')\n",
    "plt.xlabel('Group')\n",
    "plt.show();"
   ]
  },
  {
   "cell_type": "markdown",
   "metadata": {},
   "source": [
    "On average, users in group A have 6 events, while users in group B have almost 4.  \n",
    "The median is also higher for group A - 6, while for group B it is 3.\n"
   ]
  },
  {
   "cell_type": "markdown",
   "metadata": {},
   "source": [
    "### Distribution of events over time. \n"
   ]
  },
  {
   "cell_type": "code",
   "execution_count": 68,
   "metadata": {},
   "outputs": [
    {
     "data": {
      "image/png": "[encoded data removed]"
     },
     "metadata": {},
     "output_type": "display_data"
    }
   ],
   "source": [
    "fig = px.histogram(\n",
    "    user_events_tests, x='event_dt', title='Event Distribution by Date and Time', labels={'event_dt':'Date',\n",
    "                                                                                        'count':'Number of events'}\n",
    ")\n",
    "fig.update_xaxes(dtick=\"D1\")\n",
    "fig.show(renderer='png')"
   ]
  },
  {
   "cell_type": "markdown",
   "metadata": {},
   "source": [
    "There is no data for Dec 25th. There are several possible reasons for that. It is Christmas and people in EU celebrate not by shopping (it is too late to buy presents now :)), site/server was down, there was a problem with data colection or transfer.  \n",
    "Same is for Dec 30th.  \n",
    "The number of events greatly increases between Dec 14th and Dec 21st. As this is the time for holiday shopping, collecting data for an A/B test at this time in not a good idea as we cannot rely on those result to represent user behavior.   \n"
   ]
  },
  {
   "cell_type": "code",
   "execution_count": 69,
   "metadata": {},
   "outputs": [
    {
     "data": {
      "text/html": [
       "<div>\n",
       "<style scoped>\n",
       "    .dataframe tbody tr th:only-of-type {\n",
       "        vertical-align: middle;\n",
       "    }\n",
       "\n",
       "    .dataframe tbody tr th {\n",
       "        vertical-align: top;\n",
       "    }\n",
       "\n",
       "    .dataframe thead th {\n",
       "        text-align: right;\n",
       "    }\n",
       "</style>\n",
       "<table border=\"1\" class=\"dataframe\">\n",
       "  <thead>\n",
       "    <tr style=\"text-align: right;\">\n",
       "      <th></th>\n",
       "      <th>event_date</th>\n",
       "      <th>group</th>\n",
       "      <th>event_name</th>\n",
       "    </tr>\n",
       "  </thead>\n",
       "  <tbody>\n",
       "    <tr>\n",
       "      <th>0</th>\n",
       "      <td>2020-07-12</td>\n",
       "      <td>A</td>\n",
       "      <td>263</td>\n",
       "    </tr>\n",
       "    <tr>\n",
       "      <th>1</th>\n",
       "      <td>2020-07-12</td>\n",
       "      <td>B</td>\n",
       "      <td>268</td>\n",
       "    </tr>\n",
       "    <tr>\n",
       "      <th>2</th>\n",
       "      <td>2020-08-12</td>\n",
       "      <td>A</td>\n",
       "      <td>176</td>\n",
       "    </tr>\n",
       "    <tr>\n",
       "      <th>3</th>\n",
       "      <td>2020-08-12</td>\n",
       "      <td>B</td>\n",
       "      <td>56</td>\n",
       "    </tr>\n",
       "    <tr>\n",
       "      <th>4</th>\n",
       "      <td>2020-09-12</td>\n",
       "      <td>A</td>\n",
       "      <td>154</td>\n",
       "    </tr>\n",
       "    <tr>\n",
       "      <th>5</th>\n",
       "      <td>2020-09-12</td>\n",
       "      <td>B</td>\n",
       "      <td>111</td>\n",
       "    </tr>\n",
       "    <tr>\n",
       "      <th>6</th>\n",
       "      <td>2020-10-12</td>\n",
       "      <td>A</td>\n",
       "      <td>108</td>\n",
       "    </tr>\n",
       "    <tr>\n",
       "      <th>7</th>\n",
       "      <td>2020-10-12</td>\n",
       "      <td>B</td>\n",
       "      <td>50</td>\n",
       "    </tr>\n",
       "    <tr>\n",
       "      <th>8</th>\n",
       "      <td>2020-11-12</td>\n",
       "      <td>A</td>\n",
       "      <td>157</td>\n",
       "    </tr>\n",
       "    <tr>\n",
       "      <th>9</th>\n",
       "      <td>2020-11-12</td>\n",
       "      <td>B</td>\n",
       "      <td>24</td>\n",
       "    </tr>\n",
       "    <tr>\n",
       "      <th>10</th>\n",
       "      <td>2020-12-12</td>\n",
       "      <td>A</td>\n",
       "      <td>110</td>\n",
       "    </tr>\n",
       "    <tr>\n",
       "      <th>11</th>\n",
       "      <td>2020-12-12</td>\n",
       "      <td>B</td>\n",
       "      <td>74</td>\n",
       "    </tr>\n",
       "    <tr>\n",
       "      <th>12</th>\n",
       "      <td>2020-12-13</td>\n",
       "      <td>A</td>\n",
       "      <td>127</td>\n",
       "    </tr>\n",
       "    <tr>\n",
       "      <th>13</th>\n",
       "      <td>2020-12-13</td>\n",
       "      <td>B</td>\n",
       "      <td>38</td>\n",
       "    </tr>\n",
       "    <tr>\n",
       "      <th>14</th>\n",
       "      <td>2020-12-14</td>\n",
       "      <td>A</td>\n",
       "      <td>779</td>\n",
       "    </tr>\n",
       "    <tr>\n",
       "      <th>15</th>\n",
       "      <td>2020-12-14</td>\n",
       "      <td>B</td>\n",
       "      <td>134</td>\n",
       "    </tr>\n",
       "    <tr>\n",
       "      <th>16</th>\n",
       "      <td>2020-12-15</td>\n",
       "      <td>A</td>\n",
       "      <td>839</td>\n",
       "    </tr>\n",
       "    <tr>\n",
       "      <th>17</th>\n",
       "      <td>2020-12-15</td>\n",
       "      <td>B</td>\n",
       "      <td>111</td>\n",
       "    </tr>\n",
       "    <tr>\n",
       "      <th>18</th>\n",
       "      <td>2020-12-16</td>\n",
       "      <td>A</td>\n",
       "      <td>792</td>\n",
       "    </tr>\n",
       "    <tr>\n",
       "      <th>19</th>\n",
       "      <td>2020-12-16</td>\n",
       "      <td>B</td>\n",
       "      <td>211</td>\n",
       "    </tr>\n",
       "    <tr>\n",
       "      <th>20</th>\n",
       "      <td>2020-12-17</td>\n",
       "      <td>A</td>\n",
       "      <td>952</td>\n",
       "    </tr>\n",
       "    <tr>\n",
       "      <th>21</th>\n",
       "      <td>2020-12-17</td>\n",
       "      <td>B</td>\n",
       "      <td>165</td>\n",
       "    </tr>\n",
       "    <tr>\n",
       "      <th>22</th>\n",
       "      <td>2020-12-18</td>\n",
       "      <td>A</td>\n",
       "      <td>1010</td>\n",
       "    </tr>\n",
       "    <tr>\n",
       "      <th>23</th>\n",
       "      <td>2020-12-18</td>\n",
       "      <td>B</td>\n",
       "      <td>169</td>\n",
       "    </tr>\n",
       "    <tr>\n",
       "      <th>24</th>\n",
       "      <td>2020-12-19</td>\n",
       "      <td>A</td>\n",
       "      <td>1210</td>\n",
       "    </tr>\n",
       "    <tr>\n",
       "      <th>25</th>\n",
       "      <td>2020-12-19</td>\n",
       "      <td>B</td>\n",
       "      <td>178</td>\n",
       "    </tr>\n",
       "    <tr>\n",
       "      <th>26</th>\n",
       "      <td>2020-12-20</td>\n",
       "      <td>A</td>\n",
       "      <td>1243</td>\n",
       "    </tr>\n",
       "    <tr>\n",
       "      <th>27</th>\n",
       "      <td>2020-12-20</td>\n",
       "      <td>B</td>\n",
       "      <td>213</td>\n",
       "    </tr>\n",
       "    <tr>\n",
       "      <th>28</th>\n",
       "      <td>2020-12-21</td>\n",
       "      <td>A</td>\n",
       "      <td>863</td>\n",
       "    </tr>\n",
       "    <tr>\n",
       "      <th>29</th>\n",
       "      <td>2020-12-21</td>\n",
       "      <td>B</td>\n",
       "      <td>142</td>\n",
       "    </tr>\n",
       "    <tr>\n",
       "      <th>30</th>\n",
       "      <td>2020-12-22</td>\n",
       "      <td>A</td>\n",
       "      <td>655</td>\n",
       "    </tr>\n",
       "    <tr>\n",
       "      <th>31</th>\n",
       "      <td>2020-12-22</td>\n",
       "      <td>B</td>\n",
       "      <td>71</td>\n",
       "    </tr>\n",
       "    <tr>\n",
       "      <th>32</th>\n",
       "      <td>2020-12-23</td>\n",
       "      <td>A</td>\n",
       "      <td>529</td>\n",
       "    </tr>\n",
       "    <tr>\n",
       "      <th>33</th>\n",
       "      <td>2020-12-23</td>\n",
       "      <td>B</td>\n",
       "      <td>81</td>\n",
       "    </tr>\n",
       "    <tr>\n",
       "      <th>34</th>\n",
       "      <td>2020-12-24</td>\n",
       "      <td>A</td>\n",
       "      <td>487</td>\n",
       "    </tr>\n",
       "    <tr>\n",
       "      <th>35</th>\n",
       "      <td>2020-12-24</td>\n",
       "      <td>B</td>\n",
       "      <td>66</td>\n",
       "    </tr>\n",
       "    <tr>\n",
       "      <th>36</th>\n",
       "      <td>2020-12-26</td>\n",
       "      <td>A</td>\n",
       "      <td>342</td>\n",
       "    </tr>\n",
       "    <tr>\n",
       "      <th>37</th>\n",
       "      <td>2020-12-26</td>\n",
       "      <td>B</td>\n",
       "      <td>41</td>\n",
       "    </tr>\n",
       "    <tr>\n",
       "      <th>38</th>\n",
       "      <td>2020-12-27</td>\n",
       "      <td>A</td>\n",
       "      <td>331</td>\n",
       "    </tr>\n",
       "    <tr>\n",
       "      <th>39</th>\n",
       "      <td>2020-12-27</td>\n",
       "      <td>B</td>\n",
       "      <td>34</td>\n",
       "    </tr>\n",
       "    <tr>\n",
       "      <th>40</th>\n",
       "      <td>2020-12-28</td>\n",
       "      <td>A</td>\n",
       "      <td>278</td>\n",
       "    </tr>\n",
       "    <tr>\n",
       "      <th>41</th>\n",
       "      <td>2020-12-28</td>\n",
       "      <td>B</td>\n",
       "      <td>32</td>\n",
       "    </tr>\n",
       "    <tr>\n",
       "      <th>42</th>\n",
       "      <td>2020-12-29</td>\n",
       "      <td>A</td>\n",
       "      <td>173</td>\n",
       "    </tr>\n",
       "    <tr>\n",
       "      <th>43</th>\n",
       "      <td>2020-12-29</td>\n",
       "      <td>B</td>\n",
       "      <td>23</td>\n",
       "    </tr>\n",
       "  </tbody>\n",
       "</table>\n",
       "</div>"
      ],
      "text/plain": [
       "   event_date group  event_name\n",
       "0  2020-07-12     A         263\n",
       "1  2020-07-12     B         268\n",
       "2  2020-08-12     A         176\n",
       "3  2020-08-12     B          56\n",
       "4  2020-09-12     A         154\n",
       "5  2020-09-12     B         111\n",
       "6  2020-10-12     A         108\n",
       "7  2020-10-12     B          50\n",
       "8  2020-11-12     A         157\n",
       "9  2020-11-12     B          24\n",
       "10 2020-12-12     A         110\n",
       "11 2020-12-12     B          74\n",
       "12 2020-12-13     A         127\n",
       "13 2020-12-13     B          38\n",
       "14 2020-12-14     A         779\n",
       "15 2020-12-14     B         134\n",
       "16 2020-12-15     A         839\n",
       "17 2020-12-15     B         111\n",
       "18 2020-12-16     A         792\n",
       "19 2020-12-16     B         211\n",
       "20 2020-12-17     A         952\n",
       "21 2020-12-17     B         165\n",
       "22 2020-12-18     A        1010\n",
       "23 2020-12-18     B         169\n",
       "24 2020-12-19     A        1210\n",
       "25 2020-12-19     B         178\n",
       "26 2020-12-20     A        1243\n",
       "27 2020-12-20     B         213\n",
       "28 2020-12-21     A         863\n",
       "29 2020-12-21     B         142\n",
       "30 2020-12-22     A         655\n",
       "31 2020-12-22     B          71\n",
       "32 2020-12-23     A         529\n",
       "33 2020-12-23     B          81\n",
       "34 2020-12-24     A         487\n",
       "35 2020-12-24     B          66\n",
       "36 2020-12-26     A         342\n",
       "37 2020-12-26     B          41\n",
       "38 2020-12-27     A         331\n",
       "39 2020-12-27     B          34\n",
       "40 2020-12-28     A         278\n",
       "41 2020-12-28     B          32\n",
       "42 2020-12-29     A         173\n",
       "43 2020-12-29     B          23"
      ]
     },
     "execution_count": 69,
     "metadata": {},
     "output_type": "execute_result"
    }
   ],
   "source": [
    "for_bar = user_events_tests.groupby(['event_date', 'group']).agg({'event_name':'count'}).reset_index()\n",
    "for_bar"
   ]
  },
  {
   "cell_type": "code",
   "execution_count": 70,
   "metadata": {},
   "outputs": [
    {
     "data": {
      "image/png": "[encoded data removed]",
      "text/plain": [
       "<Figure size 1080x720 with 1 Axes>"
      ]
     },
     "metadata": {
      "needs_background": "light"
     },
     "output_type": "display_data"
    }
   ],
   "source": [
    "for_bar.event_date=for_bar.event_date.astype(str)\n",
    "\n",
    "plt.figure(figsize=(15,10));\n",
    "ax = sns.barplot(data = for_bar, x='event_date', y='event_name', hue='group', palette='magma');\n",
    "plt.title('Distribution of events by date', size=16);\n",
    "plt.ylabel('Number of events');\n",
    "plt.xlabel('Date');\n",
    "plt.xticks(rotation = 90);\n",
    "plt.show();"
   ]
  },
  {
   "cell_type": "markdown",
   "metadata": {},
   "source": [
    "The distribution of group B is different from group A. There is no increase between the 14th to 21st. The numbers remain stable for this dates and decrease event more when the decrease for group A begins after the 21st.   \n"
   ]
  },
  {
   "cell_type": "code",
   "execution_count": 71,
   "metadata": {},
   "outputs": [
    {
     "data": {
      "text/html": [
       "<div>\n",
       "<style scoped>\n",
       "    .dataframe tbody tr th:only-of-type {\n",
       "        vertical-align: middle;\n",
       "    }\n",
       "\n",
       "    .dataframe tbody tr th {\n",
       "        vertical-align: top;\n",
       "    }\n",
       "\n",
       "    .dataframe thead th {\n",
       "        text-align: right;\n",
       "    }\n",
       "</style>\n",
       "<table border=\"1\" class=\"dataframe\">\n",
       "  <thead>\n",
       "    <tr style=\"text-align: right;\">\n",
       "      <th></th>\n",
       "      <th>index</th>\n",
       "      <th>user_id</th>\n",
       "      <th>event_dt</th>\n",
       "      <th>event_name</th>\n",
       "      <th>total</th>\n",
       "      <th>group</th>\n",
       "      <th>ab_test</th>\n",
       "      <th>first_date</th>\n",
       "      <th>region</th>\n",
       "      <th>device</th>\n",
       "      <th>event_date</th>\n",
       "    </tr>\n",
       "  </thead>\n",
       "  <tbody>\n",
       "    <tr>\n",
       "      <th>0</th>\n",
       "      <td>5</td>\n",
       "      <td>831887FE7F2D6CBA</td>\n",
       "      <td>2020-12-07 06:50:29</td>\n",
       "      <td>purchase</td>\n",
       "      <td>4.99</td>\n",
       "      <td>A</td>\n",
       "      <td>recommender_system_test</td>\n",
       "      <td>2020-07-12</td>\n",
       "      <td>eu</td>\n",
       "      <td>android</td>\n",
       "      <td>2020-07-12</td>\n",
       "    </tr>\n",
       "    <tr>\n",
       "      <th>2</th>\n",
       "      <td>60320</td>\n",
       "      <td>831887FE7F2D6CBA</td>\n",
       "      <td>2020-12-07 06:50:30</td>\n",
       "      <td>product_cart</td>\n",
       "      <td>0.00</td>\n",
       "      <td>A</td>\n",
       "      <td>recommender_system_test</td>\n",
       "      <td>2020-07-12</td>\n",
       "      <td>eu</td>\n",
       "      <td>android</td>\n",
       "      <td>2020-07-12</td>\n",
       "    </tr>\n",
       "    <tr>\n",
       "      <th>5</th>\n",
       "      <td>241317</td>\n",
       "      <td>831887FE7F2D6CBA</td>\n",
       "      <td>2020-12-07 06:50:29</td>\n",
       "      <td>login</td>\n",
       "      <td>0.00</td>\n",
       "      <td>A</td>\n",
       "      <td>recommender_system_test</td>\n",
       "      <td>2020-07-12</td>\n",
       "      <td>eu</td>\n",
       "      <td>android</td>\n",
       "      <td>2020-07-12</td>\n",
       "    </tr>\n",
       "    <tr>\n",
       "      <th>8</th>\n",
       "      <td>17</td>\n",
       "      <td>3C5DD0288AC4FE23</td>\n",
       "      <td>2020-12-07 19:42:40</td>\n",
       "      <td>purchase</td>\n",
       "      <td>4.99</td>\n",
       "      <td>A</td>\n",
       "      <td>recommender_system_test</td>\n",
       "      <td>2020-07-12</td>\n",
       "      <td>eu</td>\n",
       "      <td>pc</td>\n",
       "      <td>2020-07-12</td>\n",
       "    </tr>\n",
       "    <tr>\n",
       "      <th>9</th>\n",
       "      <td>120477</td>\n",
       "      <td>3C5DD0288AC4FE23</td>\n",
       "      <td>2020-12-07 19:42:40</td>\n",
       "      <td>product_page</td>\n",
       "      <td>0.00</td>\n",
       "      <td>A</td>\n",
       "      <td>recommender_system_test</td>\n",
       "      <td>2020-07-12</td>\n",
       "      <td>eu</td>\n",
       "      <td>pc</td>\n",
       "      <td>2020-07-12</td>\n",
       "    </tr>\n",
       "    <tr>\n",
       "      <th>...</th>\n",
       "      <td>...</td>\n",
       "      <td>...</td>\n",
       "      <td>...</td>\n",
       "      <td>...</td>\n",
       "      <td>...</td>\n",
       "      <td>...</td>\n",
       "      <td>...</td>\n",
       "      <td>...</td>\n",
       "      <td>...</td>\n",
       "      <td>...</td>\n",
       "      <td>...</td>\n",
       "    </tr>\n",
       "    <tr>\n",
       "      <th>16882</th>\n",
       "      <td>356731</td>\n",
       "      <td>FD83244D94C592DB</td>\n",
       "      <td>2020-12-20 09:37:08</td>\n",
       "      <td>login</td>\n",
       "      <td>0.00</td>\n",
       "      <td>A</td>\n",
       "      <td>recommender_system_test</td>\n",
       "      <td>2020-12-20</td>\n",
       "      <td>eu</td>\n",
       "      <td>pc</td>\n",
       "      <td>2020-12-20</td>\n",
       "    </tr>\n",
       "    <tr>\n",
       "      <th>16883</th>\n",
       "      <td>414572</td>\n",
       "      <td>FD83244D94C592DB</td>\n",
       "      <td>2020-12-27 08:32:12</td>\n",
       "      <td>login</td>\n",
       "      <td>0.00</td>\n",
       "      <td>A</td>\n",
       "      <td>recommender_system_test</td>\n",
       "      <td>2020-12-20</td>\n",
       "      <td>eu</td>\n",
       "      <td>pc</td>\n",
       "      <td>2020-12-27</td>\n",
       "    </tr>\n",
       "    <tr>\n",
       "      <th>16884</th>\n",
       "      <td>356850</td>\n",
       "      <td>0F7D49FC184EDCDE</td>\n",
       "      <td>2020-12-20 04:04:27</td>\n",
       "      <td>login</td>\n",
       "      <td>0.00</td>\n",
       "      <td>A</td>\n",
       "      <td>recommender_system_test</td>\n",
       "      <td>2020-12-20</td>\n",
       "      <td>eu</td>\n",
       "      <td>pc</td>\n",
       "      <td>2020-12-20</td>\n",
       "    </tr>\n",
       "    <tr>\n",
       "      <th>16885</th>\n",
       "      <td>370911</td>\n",
       "      <td>0F7D49FC184EDCDE</td>\n",
       "      <td>2020-12-21 04:26:57</td>\n",
       "      <td>login</td>\n",
       "      <td>0.00</td>\n",
       "      <td>A</td>\n",
       "      <td>recommender_system_test</td>\n",
       "      <td>2020-12-20</td>\n",
       "      <td>eu</td>\n",
       "      <td>pc</td>\n",
       "      <td>2020-12-21</td>\n",
       "    </tr>\n",
       "    <tr>\n",
       "      <th>16886</th>\n",
       "      <td>383589</td>\n",
       "      <td>0F7D49FC184EDCDE</td>\n",
       "      <td>2020-12-22 18:02:26</td>\n",
       "      <td>login</td>\n",
       "      <td>0.00</td>\n",
       "      <td>A</td>\n",
       "      <td>recommender_system_test</td>\n",
       "      <td>2020-12-20</td>\n",
       "      <td>eu</td>\n",
       "      <td>pc</td>\n",
       "      <td>2020-12-22</td>\n",
       "    </tr>\n",
       "  </tbody>\n",
       "</table>\n",
       "<p>13870 rows × 11 columns</p>\n",
       "</div>"
      ],
      "text/plain": [
       "        index           user_id            event_dt    event_name  total  \\\n",
       "0           5  831887FE7F2D6CBA 2020-12-07 06:50:29      purchase   4.99   \n",
       "2       60320  831887FE7F2D6CBA 2020-12-07 06:50:30  product_cart   0.00   \n",
       "5      241317  831887FE7F2D6CBA 2020-12-07 06:50:29         login   0.00   \n",
       "8          17  3C5DD0288AC4FE23 2020-12-07 19:42:40      purchase   4.99   \n",
       "9      120477  3C5DD0288AC4FE23 2020-12-07 19:42:40  product_page   0.00   \n",
       "...       ...               ...                 ...           ...    ...   \n",
       "16882  356731  FD83244D94C592DB 2020-12-20 09:37:08         login   0.00   \n",
       "16883  414572  FD83244D94C592DB 2020-12-27 08:32:12         login   0.00   \n",
       "16884  356850  0F7D49FC184EDCDE 2020-12-20 04:04:27         login   0.00   \n",
       "16885  370911  0F7D49FC184EDCDE 2020-12-21 04:26:57         login   0.00   \n",
       "16886  383589  0F7D49FC184EDCDE 2020-12-22 18:02:26         login   0.00   \n",
       "\n",
       "      group                  ab_test first_date region   device event_date  \n",
       "0         A  recommender_system_test 2020-07-12     eu  android 2020-07-12  \n",
       "2         A  recommender_system_test 2020-07-12     eu  android 2020-07-12  \n",
       "5         A  recommender_system_test 2020-07-12     eu  android 2020-07-12  \n",
       "8         A  recommender_system_test 2020-07-12     eu       pc 2020-07-12  \n",
       "9         A  recommender_system_test 2020-07-12     eu       pc 2020-07-12  \n",
       "...     ...                      ...        ...    ...      ...        ...  \n",
       "16882     A  recommender_system_test 2020-12-20     eu       pc 2020-12-20  \n",
       "16883     A  recommender_system_test 2020-12-20     eu       pc 2020-12-27  \n",
       "16884     A  recommender_system_test 2020-12-20     eu       pc 2020-12-20  \n",
       "16885     A  recommender_system_test 2020-12-20     eu       pc 2020-12-21  \n",
       "16886     A  recommender_system_test 2020-12-20     eu       pc 2020-12-22  \n",
       "\n",
       "[13870 rows x 11 columns]"
      ]
     },
     "execution_count": 71,
     "metadata": {},
     "output_type": "execute_result"
    }
   ],
   "source": [
    "user_events_tests"
   ]
  },
  {
   "cell_type": "markdown",
   "metadata": {},
   "source": [
    "## A/B Test"
   ]
  },
  {
   "cell_type": "code",
   "execution_count": 72,
   "metadata": {},
   "outputs": [
    {
     "data": {
      "text/html": [
       "<div>\n",
       "<style scoped>\n",
       "    .dataframe tbody tr th:only-of-type {\n",
       "        vertical-align: middle;\n",
       "    }\n",
       "\n",
       "    .dataframe tbody tr th {\n",
       "        vertical-align: top;\n",
       "    }\n",
       "\n",
       "    .dataframe thead th {\n",
       "        text-align: right;\n",
       "    }\n",
       "</style>\n",
       "<table border=\"1\" class=\"dataframe\">\n",
       "  <thead>\n",
       "    <tr style=\"text-align: right;\">\n",
       "      <th>group</th>\n",
       "      <th>event_name</th>\n",
       "      <th>A</th>\n",
       "      <th>B</th>\n",
       "    </tr>\n",
       "  </thead>\n",
       "  <tbody>\n",
       "    <tr>\n",
       "      <th>0</th>\n",
       "      <td>login</td>\n",
       "      <td>1926</td>\n",
       "      <td>582</td>\n",
       "    </tr>\n",
       "    <tr>\n",
       "      <th>1</th>\n",
       "      <td>product_page</td>\n",
       "      <td>1244</td>\n",
       "      <td>323</td>\n",
       "    </tr>\n",
       "    <tr>\n",
       "      <th>2</th>\n",
       "      <td>product_cart</td>\n",
       "      <td>593</td>\n",
       "      <td>167</td>\n",
       "    </tr>\n",
       "    <tr>\n",
       "      <th>3</th>\n",
       "      <td>purchase</td>\n",
       "      <td>617</td>\n",
       "      <td>164</td>\n",
       "    </tr>\n",
       "  </tbody>\n",
       "</table>\n",
       "</div>"
      ],
      "text/plain": [
       "group    event_name     A    B\n",
       "0             login  1926  582\n",
       "1      product_page  1244  323\n",
       "2      product_cart   593  167\n",
       "3          purchase   617  164"
      ]
     },
     "execution_count": 72,
     "metadata": {},
     "output_type": "execute_result"
    }
   ],
   "source": [
    "test_pivot = user_events_tests.pivot_table(\n",
    "    index='event_name', columns='group', values='user_id', aggfunc='nunique'\n",
    "    ).sort_values(by='B', ascending=False).reset_index()\n",
    "test_pivot"
   ]
  },
  {
   "cell_type": "code",
   "execution_count": 73,
   "metadata": {},
   "outputs": [],
   "source": [
    "def check_hypothesis(group1, group2, event, alpha=0.05):\n",
    "    success1=test_pivot[test_pivot['event_name']==event][group1].iloc[0]\n",
    "    success2=test_pivot[test_pivot['event_name']==event][group2].iloc[0]\n",
    "    \n",
    "    trials1=user_events_tests[user_events_tests['group']==group1]['user_id'].nunique()\n",
    "    trials2=user_events_tests[user_events_tests['group']==group2]['user_id'].nunique()\n",
    "    \n",
    "    stst, p_value = proportions_ztest([success1, success2], [trials1, trials2])\n",
    "    \n",
    "    print('P_value : {0:.5f}'.format(p_value))\n",
    "    \n",
    "    if (p_value < alpha):\n",
    "        print('Null Hypothesis for', event, 'is rejected.')\n",
    "        print('There is a significant difference in proportions between groups', group1, 'and', group2)\n",
    "        print()\n",
    "    else:\n",
    "        print('Failed to reject the Null Hypothesis for', event)\n",
    "        print('There is no reason to consider the proportions between groups', group1, 'and', group2, 'being different.')\n",
    "        print()"
   ]
  },
  {
   "cell_type": "markdown",
   "metadata": {},
   "source": [
    "H0: Proportions of group A == Proportions of group B    \n",
    "H1: Proportions of group A != Proportions of group B  \n"
   ]
  },
  {
   "cell_type": "code",
   "execution_count": 74,
   "metadata": {},
   "outputs": [
    {
     "name": "stdout",
     "output_type": "stream",
     "text": [
      "P_value : 0.00005\n",
      "Null Hypothesis for login is rejected.\n",
      "There is a significant difference in proportions between groups A and B\n",
      "\n",
      "P_value : 0.00003\n",
      "Null Hypothesis for product_page is rejected.\n",
      "There is a significant difference in proportions between groups A and B\n",
      "\n",
      "P_value : 0.27999\n",
      "Failed to reject the Null Hypothesis for product_cart\n",
      "There is no reason to consider the proportions between groups A and B being different.\n",
      "\n",
      "P_value : 0.06045\n",
      "Failed to reject the Null Hypothesis for purchase\n",
      "There is no reason to consider the proportions between groups A and B being different.\n",
      "\n"
     ]
    }
   ],
   "source": [
    "for i in test_pivot['event_name'].unique():\n",
    "    check_hypothesis('A','B',i,alpha=0.05)"
   ]
  },
  {
   "cell_type": "markdown",
   "metadata": {},
   "source": [
    "For login, I got p_value of 0.0005 and for product page event, I got a p_value of 0.00003. Both are lower than the alpha set at 0.05, so the Null Hypothesis is rejected and I can state that the proportions between group A and B are differents.   \n",
    "For the other two, I fail to reject the Null Hypothesis, so there is no reason to consider that the proportions of the two groups, are significantly different. \n"
   ]
  },
  {
   "cell_type": "markdown",
   "metadata": {},
   "source": [
    "As there were 4 tests conducted, I will use the Bonferroni correction to calculate what the new level of significance should be, to avoid type I mistake.  \n"
   ]
  },
  {
   "cell_type": "code",
   "execution_count": 75,
   "metadata": {},
   "outputs": [
    {
     "data": {
      "text/plain": [
       "0.0125"
      ]
     },
     "execution_count": 75,
     "metadata": {},
     "output_type": "execute_result"
    }
   ],
   "source": [
    "new_alpha = 0.05 / 4\n",
    "new_alpha"
   ]
  },
  {
   "cell_type": "code",
   "execution_count": 76,
   "metadata": {},
   "outputs": [
    {
     "name": "stdout",
     "output_type": "stream",
     "text": [
      "P_value : 0.00005\n",
      "Null Hypothesis for login is rejected.\n",
      "There is a significant difference in proportions between groups A and B\n",
      "\n",
      "P_value : 0.00003\n",
      "Null Hypothesis for product_page is rejected.\n",
      "There is a significant difference in proportions between groups A and B\n",
      "\n",
      "P_value : 0.27999\n",
      "Failed to reject the Null Hypothesis for product_cart\n",
      "There is no reason to consider the proportions between groups A and B being different.\n",
      "\n",
      "P_value : 0.06045\n",
      "Failed to reject the Null Hypothesis for purchase\n",
      "There is no reason to consider the proportions between groups A and B being different.\n",
      "\n"
     ]
    }
   ],
   "source": [
    "for i in test_pivot['event_name'].unique():\n",
    "    check_hypothesis('A','B',i,alpha=0.01)"
   ]
  },
  {
   "cell_type": "markdown",
   "metadata": {},
   "source": [
    "When testing the hypotheses with a new alpha set at 0.01, I get the same result as with alpha of 0.05.   \n"
   ]
  },
  {
   "cell_type": "markdown",
   "metadata": {},
   "source": [
    "## Conclutions\n"
   ]
  },
  {
   "cell_type": "markdown",
   "metadata": {},
   "source": [
    "Although at no point I was tempted to go and start a watermelon farm in Brazil, I do understand the circumstances that have brought the previous analyst to do so.   \n",
    "\n",
    "There are several major problems with how this data was collected:  \n",
    "1. It was collected in the weeks before the winter holidays in the EU. So there is no way to know if it represents correct user behavior.  \n",
    "2. There was a winter promotion during some of the dates while the data was collected.   \n",
    "3. There were gaps in the data for certan dates with no explanation.   \n",
    "4. There were users who belonged to both groups. \n",
    "5. There were users who signed up after the date set as the last sign up date.  \n",
    "6. There were problems with the timestamps of the events.  \n",
    "7. There were less users than expected. Expectation was 15% of new EU users, but I had alittle bit over 7%.   \n",
    "8. The expected number was 6000 while I had 2513.         \n",
    "9. There were two tests and some users belonged to both. In test population, this prevents us from knowing what version of the site the test subject saw and which of them affected his behavior, if any did.  \n",
    "10. And finaly, after cleaning the data from all of the above, the samples were too small and one group had significantly larger number of participants.   \n",
    "\n",
    "So any results I got, needs to be taken with a grain of salt.   \n",
    "\n",
    "With that being said, those were the steps taken:  \n",
    "\n",
    "1. All for dfs were loaded and examined.  \n",
    "2. All columns with incorrect types were transformed.  \n",
    "3. All dfs were checked for duplicated and missing values and those were corrected as needed or dropped.\n",
    "4. All users from outside of EU were excluded as user behavior is greatly affected by culture and local customs.  \n",
    "5. All users who belonged to both groups were dropped.  \n",
    "6. All users in group B who belonged to both tests were dropped.  \n",
    "7. Users that belonged to group A in both tests stayed in the control group as by definition this group does not experince any changes.  \n",
    "8. All users who signed up after the last day of signup were dropped.  \n",
    "9. All users who have logged events 14 days after initial sign up were dropped.    \n",
    "\n",
    "After those drastic cuts, I was left with 1926 users in group A and 587 users in group B.   \n",
    "\n",
    "When examining the funnels, I discovered that there might be a problems with the timestamps, as the event sequences do not make any sence.  \n",
    "Group B did not show the expected increase of 10% at each funnel stage.  \n",
    "\n",
    "The average number of events per user in group A is 6.  \n",
    "The average number of events per user in group B is 4.  \n",
    "\n",
    "When analyzing the number of events per day, there were gaps with missing data for an entire day and their nature is not clear.  \n",
    "There was also an increase in activity between 14-21.12.20, but there is no way to determine what brought it. \n",
    "\n",
    "The A/B test was conducted with two levels of significance, 0.05 and 0.01.  \n",
    "In both cases th Null hypothesis was rejected for the login and product page stages of the funnel. So it looks like there is a significal statistical difference in proportions between the two groups at those stages.  \n",
    "I failed to reject the Null Hypothesis for the remaining two stages with both significance levels, so there is no ground to consider significant statistical difference in proportions between group A and group B.   \n",
    "\n",
    "My conclusion and recomendation is that this test needs to be conducted again with all of the above mentioned problems taken into consideration. None of the results I got are trustworthy. \n",
    "\n",
    "---"
   ]
  },
  {
   "cell_type": "code",
   "execution_count": null,
   "metadata": {},
   "outputs": [],
   "source": []
  }
 ],
 "metadata": {
  "ExecuteTimeLog": [
   {
    "duration": 56,
    "start_time": "2022-06-24T15:53:48.032Z"
   },
   {
    "duration": 1256,
    "start_time": "2022-06-24T15:53:55.748Z"
   },
   {
    "duration": 705,
    "start_time": "2022-06-24T15:53:57.006Z"
   },
   {
    "duration": 12,
    "start_time": "2022-06-24T15:53:57.713Z"
   },
   {
    "duration": 50,
    "start_time": "2022-06-24T15:53:57.727Z"
   },
   {
    "duration": 32,
    "start_time": "2022-06-24T15:53:57.779Z"
   },
   {
    "duration": 48,
    "start_time": "2022-06-24T15:53:57.813Z"
   },
   {
    "duration": 83,
    "start_time": "2022-06-24T15:53:57.863Z"
   },
   {
    "duration": 22,
    "start_time": "2022-06-24T15:53:57.948Z"
   },
   {
    "duration": 24,
    "start_time": "2022-06-24T15:53:57.973Z"
   },
   {
    "duration": 30,
    "start_time": "2022-06-24T15:53:57.999Z"
   },
   {
    "duration": 69,
    "start_time": "2022-06-24T15:53:58.032Z"
   },
   {
    "duration": 41,
    "start_time": "2022-06-24T15:53:58.103Z"
   },
   {
    "duration": 733,
    "start_time": "2022-06-24T15:53:58.146Z"
   },
   {
    "duration": 9,
    "start_time": "2022-06-24T15:53:58.880Z"
   },
   {
    "duration": 5,
    "start_time": "2022-06-24T16:49:00.634Z"
   },
   {
    "duration": 5,
    "start_time": "2022-06-24T16:49:44.022Z"
   },
   {
    "duration": 10,
    "start_time": "2022-06-24T16:50:24.745Z"
   },
   {
    "duration": 4,
    "start_time": "2022-06-24T16:55:25.383Z"
   },
   {
    "duration": 598,
    "start_time": "2022-06-24T16:55:25.388Z"
   },
   {
    "duration": 10,
    "start_time": "2022-06-24T16:55:25.988Z"
   },
   {
    "duration": 20,
    "start_time": "2022-06-24T16:55:25.999Z"
   },
   {
    "duration": 9,
    "start_time": "2022-06-24T16:55:26.021Z"
   },
   {
    "duration": 13,
    "start_time": "2022-06-24T16:55:26.031Z"
   },
   {
    "duration": 65,
    "start_time": "2022-06-24T16:55:26.046Z"
   },
   {
    "duration": 0,
    "start_time": "2022-06-24T16:55:26.127Z"
   },
   {
    "duration": 0,
    "start_time": "2022-06-24T16:55:26.128Z"
   },
   {
    "duration": 0,
    "start_time": "2022-06-24T16:55:26.129Z"
   },
   {
    "duration": 0,
    "start_time": "2022-06-24T16:55:26.131Z"
   },
   {
    "duration": 0,
    "start_time": "2022-06-24T16:55:26.132Z"
   },
   {
    "duration": 0,
    "start_time": "2022-06-24T16:55:26.134Z"
   },
   {
    "duration": 0,
    "start_time": "2022-06-24T16:55:26.135Z"
   },
   {
    "duration": 0,
    "start_time": "2022-06-24T16:55:26.137Z"
   },
   {
    "duration": 0,
    "start_time": "2022-06-24T16:55:26.139Z"
   },
   {
    "duration": 12,
    "start_time": "2022-06-24T16:58:55.984Z"
   },
   {
    "duration": 32,
    "start_time": "2022-06-24T17:05:29.544Z"
   },
   {
    "duration": 62,
    "start_time": "2022-06-24T17:05:37.304Z"
   },
   {
    "duration": 250,
    "start_time": "2022-06-24T17:21:58.536Z"
   },
   {
    "duration": 313,
    "start_time": "2022-06-24T17:22:47.280Z"
   },
   {
    "duration": 3,
    "start_time": "2022-06-24T17:23:48.356Z"
   },
   {
    "duration": 361,
    "start_time": "2022-06-24T17:23:55.638Z"
   },
   {
    "duration": 10,
    "start_time": "2022-06-24T17:25:45.175Z"
   },
   {
    "duration": 16,
    "start_time": "2022-06-24T17:29:52.432Z"
   },
   {
    "duration": 18,
    "start_time": "2022-06-24T17:30:57.917Z"
   },
   {
    "duration": 18,
    "start_time": "2022-06-24T17:31:21.085Z"
   },
   {
    "duration": 1206,
    "start_time": "2022-06-24T21:27:41.328Z"
   },
   {
    "duration": 1143,
    "start_time": "2022-06-24T21:27:42.536Z"
   },
   {
    "duration": 9,
    "start_time": "2022-06-24T21:27:43.680Z"
   },
   {
    "duration": 24,
    "start_time": "2022-06-24T21:27:43.691Z"
   },
   {
    "duration": 5,
    "start_time": "2022-06-24T21:27:43.716Z"
   },
   {
    "duration": 9,
    "start_time": "2022-06-24T21:27:43.723Z"
   },
   {
    "duration": 15,
    "start_time": "2022-06-24T21:27:43.733Z"
   },
   {
    "duration": 49,
    "start_time": "2022-06-24T21:27:43.749Z"
   },
   {
    "duration": 248,
    "start_time": "2022-06-24T21:27:43.799Z"
   },
   {
    "duration": 8,
    "start_time": "2022-06-24T21:27:44.051Z"
   },
   {
    "duration": 12,
    "start_time": "2022-06-24T21:27:44.060Z"
   },
   {
    "duration": 15,
    "start_time": "2022-06-24T21:27:44.073Z"
   },
   {
    "duration": 10,
    "start_time": "2022-06-24T21:27:44.089Z"
   },
   {
    "duration": 20,
    "start_time": "2022-06-24T21:27:44.100Z"
   },
   {
    "duration": 34,
    "start_time": "2022-06-24T21:27:44.121Z"
   },
   {
    "duration": 48,
    "start_time": "2022-06-24T21:27:44.156Z"
   },
   {
    "duration": 24,
    "start_time": "2022-06-24T21:27:44.205Z"
   },
   {
    "duration": 453,
    "start_time": "2022-06-24T21:27:44.231Z"
   },
   {
    "duration": 7,
    "start_time": "2022-06-24T21:27:44.685Z"
   },
   {
    "duration": 43,
    "start_time": "2022-06-24T21:33:21.314Z"
   },
   {
    "duration": 9,
    "start_time": "2022-06-24T21:33:28.942Z"
   },
   {
    "duration": 11,
    "start_time": "2022-06-24T21:33:39.874Z"
   },
   {
    "duration": 11,
    "start_time": "2022-06-24T21:33:51.254Z"
   },
   {
    "duration": 506,
    "start_time": "2022-06-24T21:34:36.045Z"
   },
   {
    "duration": 455,
    "start_time": "2022-06-24T21:34:51.661Z"
   },
   {
    "duration": 407,
    "start_time": "2022-06-24T21:35:16.135Z"
   },
   {
    "duration": 17,
    "start_time": "2022-06-24T21:35:40.566Z"
   },
   {
    "duration": 510,
    "start_time": "2022-06-24T21:36:04.290Z"
   },
   {
    "duration": 14,
    "start_time": "2022-06-24T21:39:02.079Z"
   },
   {
    "duration": 1335,
    "start_time": "2022-06-25T10:49:54.239Z"
   },
   {
    "duration": 1185,
    "start_time": "2022-06-25T10:49:55.576Z"
   },
   {
    "duration": 12,
    "start_time": "2022-06-25T10:49:56.762Z"
   },
   {
    "duration": 24,
    "start_time": "2022-06-25T10:49:56.776Z"
   },
   {
    "duration": 7,
    "start_time": "2022-06-25T10:49:56.801Z"
   },
   {
    "duration": 16,
    "start_time": "2022-06-25T10:49:56.810Z"
   },
   {
    "duration": 18,
    "start_time": "2022-06-25T10:49:56.828Z"
   },
   {
    "duration": 64,
    "start_time": "2022-06-25T10:49:56.853Z"
   },
   {
    "duration": 291,
    "start_time": "2022-06-25T10:49:56.919Z"
   },
   {
    "duration": 10,
    "start_time": "2022-06-25T10:49:57.212Z"
   },
   {
    "duration": 33,
    "start_time": "2022-06-25T10:49:57.224Z"
   },
   {
    "duration": 18,
    "start_time": "2022-06-25T10:49:57.259Z"
   },
   {
    "duration": 17,
    "start_time": "2022-06-25T10:49:57.279Z"
   },
   {
    "duration": 32,
    "start_time": "2022-06-25T10:49:57.298Z"
   },
   {
    "duration": 25,
    "start_time": "2022-06-25T10:49:57.332Z"
   },
   {
    "duration": 71,
    "start_time": "2022-06-25T10:49:57.359Z"
   },
   {
    "duration": 39,
    "start_time": "2022-06-25T10:49:57.432Z"
   },
   {
    "duration": 497,
    "start_time": "2022-06-25T10:49:57.473Z"
   },
   {
    "duration": 8,
    "start_time": "2022-06-25T10:49:57.972Z"
   },
   {
    "duration": 19,
    "start_time": "2022-06-25T11:15:53.738Z"
   },
   {
    "duration": 30,
    "start_time": "2022-06-25T11:16:17.868Z"
   },
   {
    "duration": 17,
    "start_time": "2022-06-25T11:17:32.072Z"
   },
   {
    "duration": 18,
    "start_time": "2022-06-25T11:17:46.631Z"
   },
   {
    "duration": 29,
    "start_time": "2022-06-25T11:19:27.909Z"
   },
   {
    "duration": 20,
    "start_time": "2022-06-25T11:19:46.190Z"
   },
   {
    "duration": 16,
    "start_time": "2022-06-25T11:20:34.736Z"
   },
   {
    "duration": 66,
    "start_time": "2022-06-25T11:21:01.276Z"
   },
   {
    "duration": 144,
    "start_time": "2022-06-25T11:21:16.197Z"
   },
   {
    "duration": 45,
    "start_time": "2022-06-25T11:24:56.275Z"
   },
   {
    "duration": 4,
    "start_time": "2022-06-25T11:25:24.874Z"
   },
   {
    "duration": 556,
    "start_time": "2022-06-25T11:25:24.880Z"
   },
   {
    "duration": 10,
    "start_time": "2022-06-25T11:25:25.438Z"
   },
   {
    "duration": 16,
    "start_time": "2022-06-25T11:25:25.449Z"
   },
   {
    "duration": 6,
    "start_time": "2022-06-25T11:25:25.467Z"
   },
   {
    "duration": 10,
    "start_time": "2022-06-25T11:25:25.475Z"
   },
   {
    "duration": 16,
    "start_time": "2022-06-25T11:25:25.486Z"
   },
   {
    "duration": 66,
    "start_time": "2022-06-25T11:25:25.504Z"
   },
   {
    "duration": 28,
    "start_time": "2022-06-25T11:25:25.572Z"
   },
   {
    "duration": 325,
    "start_time": "2022-06-25T11:25:25.602Z"
   },
   {
    "duration": 10,
    "start_time": "2022-06-25T11:25:25.929Z"
   },
   {
    "duration": 24,
    "start_time": "2022-06-25T11:25:25.941Z"
   },
   {
    "duration": 18,
    "start_time": "2022-06-25T11:25:25.967Z"
   },
   {
    "duration": 66,
    "start_time": "2022-06-25T11:25:25.987Z"
   },
   {
    "duration": 29,
    "start_time": "2022-06-25T11:25:26.055Z"
   },
   {
    "duration": 12,
    "start_time": "2022-06-25T11:25:26.086Z"
   },
   {
    "duration": 13,
    "start_time": "2022-06-25T11:25:26.100Z"
   },
   {
    "duration": 48,
    "start_time": "2022-06-25T11:25:26.114Z"
   },
   {
    "duration": 8,
    "start_time": "2022-06-25T11:25:26.164Z"
   },
   {
    "duration": 49,
    "start_time": "2022-06-25T11:25:26.174Z"
   },
   {
    "duration": 44,
    "start_time": "2022-06-25T11:25:26.224Z"
   },
   {
    "duration": 413,
    "start_time": "2022-06-25T11:25:26.270Z"
   },
   {
    "duration": 8,
    "start_time": "2022-06-25T11:25:26.684Z"
   },
   {
    "duration": 11,
    "start_time": "2022-06-25T11:25:58.528Z"
   },
   {
    "duration": 18,
    "start_time": "2022-06-25T11:26:15.039Z"
   },
   {
    "duration": 11,
    "start_time": "2022-06-25T11:27:11.839Z"
   },
   {
    "duration": 32,
    "start_time": "2022-06-25T11:27:25.809Z"
   },
   {
    "duration": 13,
    "start_time": "2022-06-25T11:48:56.935Z"
   },
   {
    "duration": 37,
    "start_time": "2022-06-25T11:49:39.141Z"
   },
   {
    "duration": 6,
    "start_time": "2022-06-25T11:57:32.350Z"
   },
   {
    "duration": 23,
    "start_time": "2022-06-25T12:34:30.212Z"
   },
   {
    "duration": 20,
    "start_time": "2022-06-25T12:35:05.399Z"
   },
   {
    "duration": 24,
    "start_time": "2022-06-25T12:35:12.912Z"
   },
   {
    "duration": 33,
    "start_time": "2022-06-25T12:36:06.136Z"
   },
   {
    "duration": 24,
    "start_time": "2022-06-25T12:37:44.654Z"
   },
   {
    "duration": 26,
    "start_time": "2022-06-25T12:38:07.140Z"
   },
   {
    "duration": 24,
    "start_time": "2022-06-25T12:38:21.236Z"
   },
   {
    "duration": 26,
    "start_time": "2022-06-25T12:38:42.309Z"
   },
   {
    "duration": 9,
    "start_time": "2022-06-25T12:39:45.972Z"
   },
   {
    "duration": 28,
    "start_time": "2022-06-25T12:41:19.083Z"
   },
   {
    "duration": 11,
    "start_time": "2022-06-25T12:41:36.566Z"
   },
   {
    "duration": 28,
    "start_time": "2022-06-25T12:43:35.558Z"
   },
   {
    "duration": 24,
    "start_time": "2022-06-25T12:43:47.594Z"
   },
   {
    "duration": 4,
    "start_time": "2022-06-25T12:52:23.110Z"
   },
   {
    "duration": 4,
    "start_time": "2022-06-25T12:53:03.270Z"
   },
   {
    "duration": 4,
    "start_time": "2022-06-25T12:53:11.367Z"
   },
   {
    "duration": 25,
    "start_time": "2022-06-25T12:53:44.828Z"
   },
   {
    "duration": 11,
    "start_time": "2022-06-25T12:57:06.442Z"
   },
   {
    "duration": 407,
    "start_time": "2022-06-25T12:57:23.280Z"
   },
   {
    "duration": 9,
    "start_time": "2022-06-25T12:57:43.646Z"
   },
   {
    "duration": 3,
    "start_time": "2022-06-25T12:58:09.250Z"
   },
   {
    "duration": 4,
    "start_time": "2022-06-25T12:58:33.288Z"
   },
   {
    "duration": 4,
    "start_time": "2022-06-25T12:58:45.799Z"
   },
   {
    "duration": 28,
    "start_time": "2022-06-25T18:32:37.799Z"
   },
   {
    "duration": 29,
    "start_time": "2022-06-25T18:34:01.045Z"
   },
   {
    "duration": 27,
    "start_time": "2022-06-25T18:35:20.821Z"
   },
   {
    "duration": 26,
    "start_time": "2022-06-25T18:38:41.508Z"
   },
   {
    "duration": 21,
    "start_time": "2022-06-25T18:39:04.452Z"
   },
   {
    "duration": 27,
    "start_time": "2022-06-25T18:39:17.242Z"
   },
   {
    "duration": 28,
    "start_time": "2022-06-25T18:40:11.235Z"
   },
   {
    "duration": 46,
    "start_time": "2022-06-25T18:40:26.692Z"
   },
   {
    "duration": 29,
    "start_time": "2022-06-25T18:40:37.892Z"
   },
   {
    "duration": 28,
    "start_time": "2022-06-25T18:41:20.443Z"
   },
   {
    "duration": 29,
    "start_time": "2022-06-25T18:41:43.165Z"
   },
   {
    "duration": 11,
    "start_time": "2022-06-25T18:44:16.669Z"
   },
   {
    "duration": 30,
    "start_time": "2022-06-25T18:44:55.440Z"
   },
   {
    "duration": 8,
    "start_time": "2022-06-25T21:06:44.475Z"
   },
   {
    "duration": 13,
    "start_time": "2022-06-25T21:06:52.231Z"
   },
   {
    "duration": 6,
    "start_time": "2022-06-25T21:08:50.260Z"
   },
   {
    "duration": 11,
    "start_time": "2022-06-25T21:09:41.594Z"
   },
   {
    "duration": 14,
    "start_time": "2022-06-25T21:11:09.164Z"
   },
   {
    "duration": 17,
    "start_time": "2022-06-25T21:12:22.126Z"
   },
   {
    "duration": 22,
    "start_time": "2022-06-25T21:14:16.842Z"
   },
   {
    "duration": 6,
    "start_time": "2022-06-25T21:15:42.237Z"
   },
   {
    "duration": 5,
    "start_time": "2022-06-25T21:22:02.523Z"
   },
   {
    "duration": 8,
    "start_time": "2022-06-25T21:24:14.183Z"
   },
   {
    "duration": 4,
    "start_time": "2022-06-25T21:24:18.027Z"
   },
   {
    "duration": 4,
    "start_time": "2022-06-25T21:24:21.143Z"
   },
   {
    "duration": 64,
    "start_time": "2022-06-25T21:25:53.336Z"
   },
   {
    "duration": 49,
    "start_time": "2022-06-25T21:26:11.180Z"
   },
   {
    "duration": 9,
    "start_time": "2022-06-25T21:26:17.313Z"
   },
   {
    "duration": 16,
    "start_time": "2022-06-25T21:26:34.575Z"
   },
   {
    "duration": 12,
    "start_time": "2022-06-25T21:29:05.279Z"
   },
   {
    "duration": 12,
    "start_time": "2022-06-25T21:29:58.401Z"
   },
   {
    "duration": 5,
    "start_time": "2022-06-25T21:34:03.300Z"
   },
   {
    "duration": 4,
    "start_time": "2022-06-25T21:34:05.268Z"
   },
   {
    "duration": 5,
    "start_time": "2022-06-25T21:34:07.226Z"
   },
   {
    "duration": 9,
    "start_time": "2022-06-25T21:39:09.802Z"
   },
   {
    "duration": 1195,
    "start_time": "2022-06-26T13:51:01.160Z"
   },
   {
    "duration": 1100,
    "start_time": "2022-06-26T13:51:02.357Z"
   },
   {
    "duration": 12,
    "start_time": "2022-06-26T13:51:03.459Z"
   },
   {
    "duration": 22,
    "start_time": "2022-06-26T13:51:03.472Z"
   },
   {
    "duration": 6,
    "start_time": "2022-06-26T13:51:03.495Z"
   },
   {
    "duration": 9,
    "start_time": "2022-06-26T13:51:03.502Z"
   },
   {
    "duration": 16,
    "start_time": "2022-06-26T13:51:03.513Z"
   },
   {
    "duration": 79,
    "start_time": "2022-06-26T13:51:03.531Z"
   },
   {
    "duration": 26,
    "start_time": "2022-06-26T13:51:03.612Z"
   },
   {
    "duration": 244,
    "start_time": "2022-06-26T13:51:03.640Z"
   },
   {
    "duration": 9,
    "start_time": "2022-06-26T13:51:03.885Z"
   },
   {
    "duration": 13,
    "start_time": "2022-06-26T13:51:03.895Z"
   },
   {
    "duration": 23,
    "start_time": "2022-06-26T13:51:03.910Z"
   },
   {
    "duration": 25,
    "start_time": "2022-06-26T13:51:03.951Z"
   },
   {
    "duration": 24,
    "start_time": "2022-06-26T13:51:03.978Z"
   },
   {
    "duration": 10,
    "start_time": "2022-06-26T13:51:04.003Z"
   },
   {
    "duration": 43,
    "start_time": "2022-06-26T13:51:04.014Z"
   },
   {
    "duration": 9,
    "start_time": "2022-06-26T13:51:04.058Z"
   },
   {
    "duration": 19,
    "start_time": "2022-06-26T13:51:04.068Z"
   },
   {
    "duration": 6,
    "start_time": "2022-06-26T13:51:04.088Z"
   },
   {
    "duration": 7,
    "start_time": "2022-06-26T13:51:04.095Z"
   },
   {
    "duration": 49,
    "start_time": "2022-06-26T13:51:04.103Z"
   },
   {
    "duration": 10,
    "start_time": "2022-06-26T13:51:04.154Z"
   },
   {
    "duration": 22,
    "start_time": "2022-06-26T13:51:04.166Z"
   },
   {
    "duration": 4,
    "start_time": "2022-06-26T13:51:04.190Z"
   },
   {
    "duration": 5,
    "start_time": "2022-06-26T13:51:04.195Z"
   },
   {
    "duration": 5,
    "start_time": "2022-06-26T13:51:04.202Z"
   },
   {
    "duration": 41,
    "start_time": "2022-06-26T13:51:04.210Z"
   },
   {
    "duration": 8,
    "start_time": "2022-06-26T13:51:04.253Z"
   },
   {
    "duration": 44,
    "start_time": "2022-06-26T13:51:04.263Z"
   },
   {
    "duration": 47,
    "start_time": "2022-06-26T13:51:04.308Z"
   },
   {
    "duration": 405,
    "start_time": "2022-06-26T13:51:04.357Z"
   },
   {
    "duration": 7,
    "start_time": "2022-06-26T13:51:04.763Z"
   },
   {
    "duration": 1339,
    "start_time": "2022-06-26T20:43:39.697Z"
   },
   {
    "duration": 1256,
    "start_time": "2022-06-26T20:43:41.039Z"
   },
   {
    "duration": 12,
    "start_time": "2022-06-26T20:43:42.296Z"
   },
   {
    "duration": 30,
    "start_time": "2022-06-26T20:43:42.309Z"
   },
   {
    "duration": 6,
    "start_time": "2022-06-26T20:43:42.341Z"
   },
   {
    "duration": 19,
    "start_time": "2022-06-26T20:43:42.349Z"
   },
   {
    "duration": 33,
    "start_time": "2022-06-26T20:43:42.370Z"
   },
   {
    "duration": 82,
    "start_time": "2022-06-26T20:43:42.405Z"
   },
   {
    "duration": 50,
    "start_time": "2022-06-26T20:43:42.489Z"
   },
   {
    "duration": 326,
    "start_time": "2022-06-26T20:43:42.542Z"
   },
   {
    "duration": 15,
    "start_time": "2022-06-26T20:43:42.870Z"
   },
   {
    "duration": 19,
    "start_time": "2022-06-26T20:43:42.887Z"
   },
   {
    "duration": 40,
    "start_time": "2022-06-26T20:43:42.908Z"
   },
   {
    "duration": 35,
    "start_time": "2022-06-26T20:43:42.950Z"
   },
   {
    "duration": 69,
    "start_time": "2022-06-26T20:43:42.987Z"
   },
   {
    "duration": 18,
    "start_time": "2022-06-26T20:43:43.058Z"
   },
   {
    "duration": 34,
    "start_time": "2022-06-26T20:43:43.077Z"
   },
   {
    "duration": 11,
    "start_time": "2022-06-26T20:43:43.127Z"
   },
   {
    "duration": 26,
    "start_time": "2022-06-26T20:43:43.140Z"
   },
   {
    "duration": 8,
    "start_time": "2022-06-26T20:43:43.168Z"
   },
   {
    "duration": 11,
    "start_time": "2022-06-26T20:43:43.178Z"
   },
   {
    "duration": 53,
    "start_time": "2022-06-26T20:43:43.190Z"
   },
   {
    "duration": 11,
    "start_time": "2022-06-26T20:43:43.244Z"
   },
   {
    "duration": 34,
    "start_time": "2022-06-26T20:43:43.257Z"
   },
   {
    "duration": 5,
    "start_time": "2022-06-26T20:43:43.293Z"
   },
   {
    "duration": 4,
    "start_time": "2022-06-26T20:43:43.327Z"
   },
   {
    "duration": 16,
    "start_time": "2022-06-26T20:43:43.333Z"
   },
   {
    "duration": 19,
    "start_time": "2022-06-26T20:43:43.352Z"
   },
   {
    "duration": 10,
    "start_time": "2022-06-26T20:43:43.373Z"
   },
   {
    "duration": 75,
    "start_time": "2022-06-26T20:43:43.384Z"
   },
   {
    "duration": 36,
    "start_time": "2022-06-26T20:43:43.462Z"
   },
   {
    "duration": 526,
    "start_time": "2022-06-26T20:43:43.500Z"
   },
   {
    "duration": 9,
    "start_time": "2022-06-26T20:43:44.028Z"
   },
   {
    "duration": 1257,
    "start_time": "2022-06-26T21:21:52.095Z"
   },
   {
    "duration": 1252,
    "start_time": "2022-06-26T21:21:53.354Z"
   },
   {
    "duration": 10,
    "start_time": "2022-06-26T21:21:54.608Z"
   },
   {
    "duration": 20,
    "start_time": "2022-06-26T21:21:54.620Z"
   },
   {
    "duration": 5,
    "start_time": "2022-06-26T21:21:54.641Z"
   },
   {
    "duration": 10,
    "start_time": "2022-06-26T21:21:54.648Z"
   },
   {
    "duration": 19,
    "start_time": "2022-06-26T21:21:54.660Z"
   },
   {
    "duration": 81,
    "start_time": "2022-06-26T21:21:54.681Z"
   },
   {
    "duration": 36,
    "start_time": "2022-06-26T21:21:54.764Z"
   },
   {
    "duration": 277,
    "start_time": "2022-06-26T21:21:54.803Z"
   },
   {
    "duration": 10,
    "start_time": "2022-06-26T21:21:55.082Z"
   },
   {
    "duration": 33,
    "start_time": "2022-06-26T21:21:55.094Z"
   },
   {
    "duration": 18,
    "start_time": "2022-06-26T21:21:55.129Z"
   },
   {
    "duration": 32,
    "start_time": "2022-06-26T21:21:55.149Z"
   },
   {
    "duration": 50,
    "start_time": "2022-06-26T21:21:55.183Z"
   },
   {
    "duration": 12,
    "start_time": "2022-06-26T21:21:55.235Z"
   },
   {
    "duration": 37,
    "start_time": "2022-06-26T21:21:55.249Z"
   },
   {
    "duration": 9,
    "start_time": "2022-06-26T21:21:55.288Z"
   },
   {
    "duration": 41,
    "start_time": "2022-06-26T21:21:55.298Z"
   },
   {
    "duration": 7,
    "start_time": "2022-06-26T21:21:55.341Z"
   },
   {
    "duration": 20,
    "start_time": "2022-06-26T21:21:55.349Z"
   },
   {
    "duration": 40,
    "start_time": "2022-06-26T21:21:55.371Z"
   },
   {
    "duration": 10,
    "start_time": "2022-06-26T21:21:55.412Z"
   },
   {
    "duration": 21,
    "start_time": "2022-06-26T21:21:55.427Z"
   },
   {
    "duration": 4,
    "start_time": "2022-06-26T21:21:55.449Z"
   },
   {
    "duration": 30,
    "start_time": "2022-06-26T21:21:55.455Z"
   },
   {
    "duration": 15,
    "start_time": "2022-06-26T21:21:55.486Z"
   },
   {
    "duration": 14,
    "start_time": "2022-06-26T21:21:55.504Z"
   },
   {
    "duration": 8,
    "start_time": "2022-06-26T21:21:55.519Z"
   },
   {
    "duration": 66,
    "start_time": "2022-06-26T21:21:55.528Z"
   },
   {
    "duration": 33,
    "start_time": "2022-06-26T21:21:55.596Z"
   },
   {
    "duration": 474,
    "start_time": "2022-06-26T21:21:55.631Z"
   },
   {
    "duration": 7,
    "start_time": "2022-06-26T21:21:56.106Z"
   },
   {
    "duration": 38,
    "start_time": "2022-06-26T21:22:44.967Z"
   },
   {
    "duration": 65,
    "start_time": "2022-06-26T21:25:44.135Z"
   },
   {
    "duration": 9,
    "start_time": "2022-06-26T21:26:10.791Z"
   },
   {
    "duration": 2177,
    "start_time": "2022-06-26T21:44:32.810Z"
   },
   {
    "duration": 55,
    "start_time": "2022-06-26T21:44:59.070Z"
   },
   {
    "duration": 71,
    "start_time": "2022-06-26T21:45:19.378Z"
   },
   {
    "duration": 30698,
    "start_time": "2022-06-26T21:45:34.607Z"
   },
   {
    "duration": 80,
    "start_time": "2022-06-26T21:52:23.236Z"
   },
   {
    "duration": 28891,
    "start_time": "2022-06-26T21:54:02.890Z"
   },
   {
    "duration": 57,
    "start_time": "2022-06-26T21:54:58.614Z"
   },
   {
    "duration": 79,
    "start_time": "2022-06-26T21:57:53.784Z"
   },
   {
    "duration": 96,
    "start_time": "2022-06-26T21:58:07.763Z"
   },
   {
    "duration": 44,
    "start_time": "2022-06-26T22:00:17.794Z"
   },
   {
    "duration": 16,
    "start_time": "2022-06-26T22:02:30.748Z"
   },
   {
    "duration": 1041,
    "start_time": "2022-06-26T22:04:11.944Z"
   },
   {
    "duration": 7,
    "start_time": "2022-06-26T22:04:23.630Z"
   },
   {
    "duration": 12,
    "start_time": "2022-06-26T22:05:28.986Z"
   },
   {
    "duration": 4,
    "start_time": "2022-06-26T22:06:23.766Z"
   },
   {
    "duration": 9,
    "start_time": "2022-06-26T22:07:15.696Z"
   },
   {
    "duration": 6,
    "start_time": "2022-06-26T22:10:00.546Z"
   },
   {
    "duration": 34,
    "start_time": "2022-06-26T22:11:32.836Z"
   },
   {
    "duration": 15,
    "start_time": "2022-06-26T22:11:56.717Z"
   },
   {
    "duration": 8,
    "start_time": "2022-06-26T22:13:22.975Z"
   },
   {
    "duration": 9,
    "start_time": "2022-06-26T22:13:29.263Z"
   },
   {
    "duration": 12,
    "start_time": "2022-06-26T22:16:20.466Z"
   },
   {
    "duration": 66,
    "start_time": "2022-06-26T22:16:35.325Z"
   },
   {
    "duration": 7,
    "start_time": "2022-06-26T22:16:45.274Z"
   },
   {
    "duration": 4,
    "start_time": "2022-06-26T22:17:39.507Z"
   },
   {
    "duration": 14,
    "start_time": "2022-06-26T22:18:09.583Z"
   },
   {
    "duration": 48,
    "start_time": "2022-06-26T22:34:05.476Z"
   },
   {
    "duration": 17,
    "start_time": "2022-06-26T22:34:19.081Z"
   },
   {
    "duration": 22,
    "start_time": "2022-06-26T22:48:11.566Z"
   },
   {
    "duration": 28,
    "start_time": "2022-06-26T22:48:32.654Z"
   },
   {
    "duration": 36,
    "start_time": "2022-06-26T22:49:13.623Z"
   },
   {
    "duration": 32,
    "start_time": "2022-06-26T22:50:30.170Z"
   },
   {
    "duration": 60,
    "start_time": "2022-06-26T22:51:53.441Z"
   },
   {
    "duration": 47,
    "start_time": "2022-06-26T22:52:15.318Z"
   },
   {
    "duration": 24,
    "start_time": "2022-06-26T22:55:48.281Z"
   },
   {
    "duration": 32,
    "start_time": "2022-06-26T22:56:28.248Z"
   },
   {
    "duration": 17,
    "start_time": "2022-06-26T22:57:33.245Z"
   },
   {
    "duration": 32,
    "start_time": "2022-06-26T22:57:37.464Z"
   },
   {
    "duration": 1537,
    "start_time": "2022-06-27T10:22:16.655Z"
   },
   {
    "duration": 1395,
    "start_time": "2022-06-27T10:22:18.195Z"
   },
   {
    "duration": 13,
    "start_time": "2022-06-27T10:22:19.592Z"
   },
   {
    "duration": 37,
    "start_time": "2022-06-27T10:22:19.608Z"
   },
   {
    "duration": 11,
    "start_time": "2022-06-27T10:22:19.647Z"
   },
   {
    "duration": 18,
    "start_time": "2022-06-27T10:22:19.659Z"
   },
   {
    "duration": 23,
    "start_time": "2022-06-27T10:22:19.679Z"
   },
   {
    "duration": 103,
    "start_time": "2022-06-27T10:22:19.704Z"
   },
   {
    "duration": 55,
    "start_time": "2022-06-27T10:22:19.810Z"
   },
   {
    "duration": 321,
    "start_time": "2022-06-27T10:22:19.867Z"
   },
   {
    "duration": 16,
    "start_time": "2022-06-27T10:22:20.190Z"
   },
   {
    "duration": 41,
    "start_time": "2022-06-27T10:22:20.208Z"
   },
   {
    "duration": 30,
    "start_time": "2022-06-27T10:22:20.251Z"
   },
   {
    "duration": 70,
    "start_time": "2022-06-27T10:22:20.283Z"
   },
   {
    "duration": 33,
    "start_time": "2022-06-27T10:22:20.355Z"
   },
   {
    "duration": 39,
    "start_time": "2022-06-27T10:22:20.389Z"
   },
   {
    "duration": 38,
    "start_time": "2022-06-27T10:22:20.431Z"
   },
   {
    "duration": 17,
    "start_time": "2022-06-27T10:22:20.472Z"
   },
   {
    "duration": 62,
    "start_time": "2022-06-27T10:22:20.491Z"
   },
   {
    "duration": 8,
    "start_time": "2022-06-27T10:22:20.555Z"
   },
   {
    "duration": 12,
    "start_time": "2022-06-27T10:22:20.565Z"
   },
   {
    "duration": 55,
    "start_time": "2022-06-27T10:22:20.579Z"
   },
   {
    "duration": 14,
    "start_time": "2022-06-27T10:22:20.639Z"
   },
   {
    "duration": 28,
    "start_time": "2022-06-27T10:22:20.656Z"
   },
   {
    "duration": 5,
    "start_time": "2022-06-27T10:22:20.686Z"
   },
   {
    "duration": 37,
    "start_time": "2022-06-27T10:22:20.693Z"
   },
   {
    "duration": 22,
    "start_time": "2022-06-27T10:22:20.732Z"
   },
   {
    "duration": 12,
    "start_time": "2022-06-27T10:22:20.758Z"
   },
   {
    "duration": 9,
    "start_time": "2022-06-27T10:22:20.772Z"
   },
   {
    "duration": 12,
    "start_time": "2022-06-27T10:22:20.782Z"
   },
   {
    "duration": 92,
    "start_time": "2022-06-27T10:22:20.795Z"
   },
   {
    "duration": 53,
    "start_time": "2022-06-27T10:22:20.889Z"
   },
   {
    "duration": 704,
    "start_time": "2022-06-27T10:22:20.944Z"
   },
   {
    "duration": 10,
    "start_time": "2022-06-27T10:22:21.650Z"
   },
   {
    "duration": 100,
    "start_time": "2022-06-27T10:22:21.661Z"
   },
   {
    "duration": 63,
    "start_time": "2022-06-27T10:22:21.764Z"
   },
   {
    "duration": 25,
    "start_time": "2022-06-27T10:22:21.830Z"
   },
   {
    "duration": 11,
    "start_time": "2022-06-27T10:22:21.857Z"
   },
   {
    "duration": 14,
    "start_time": "2022-06-27T10:22:21.870Z"
   },
   {
    "duration": 64,
    "start_time": "2022-06-27T10:22:21.886Z"
   },
   {
    "duration": 19,
    "start_time": "2022-06-27T10:22:21.951Z"
   },
   {
    "duration": 38,
    "start_time": "2022-06-27T10:22:21.972Z"
   },
   {
    "duration": 13,
    "start_time": "2022-06-27T10:25:46.115Z"
   },
   {
    "duration": 14,
    "start_time": "2022-06-27T10:26:13.007Z"
   },
   {
    "duration": 139,
    "start_time": "2022-06-27T10:27:20.887Z"
   },
   {
    "duration": 24,
    "start_time": "2022-06-27T10:27:37.638Z"
   },
   {
    "duration": 92,
    "start_time": "2022-06-27T10:28:45.687Z"
   },
   {
    "duration": 71,
    "start_time": "2022-06-27T10:30:17.640Z"
   },
   {
    "duration": 4,
    "start_time": "2022-06-27T10:30:43.017Z"
   },
   {
    "duration": 11,
    "start_time": "2022-06-27T10:31:08.489Z"
   },
   {
    "duration": 9583,
    "start_time": "2022-06-27T10:32:27.860Z"
   },
   {
    "duration": 15,
    "start_time": "2022-06-27T10:44:47.806Z"
   },
   {
    "duration": 18,
    "start_time": "2022-06-27T10:46:08.305Z"
   },
   {
    "duration": 10,
    "start_time": "2022-06-27T10:46:38.592Z"
   },
   {
    "duration": 20,
    "start_time": "2022-06-27T10:47:03.201Z"
   },
   {
    "duration": 19,
    "start_time": "2022-06-27T10:49:41.015Z"
   },
   {
    "duration": 14,
    "start_time": "2022-06-27T10:49:56.394Z"
   },
   {
    "duration": 165,
    "start_time": "2022-06-27T10:56:18.489Z"
   },
   {
    "duration": 33,
    "start_time": "2022-06-27T10:58:28.237Z"
   },
   {
    "duration": 10,
    "start_time": "2022-06-27T10:59:37.983Z"
   },
   {
    "duration": 461,
    "start_time": "2022-06-27T11:00:07.800Z"
   },
   {
    "duration": 95,
    "start_time": "2022-06-27T11:06:23.963Z"
   },
   {
    "duration": 52,
    "start_time": "2022-06-27T11:07:40.047Z"
   },
   {
    "duration": 54,
    "start_time": "2022-06-27T11:08:43.687Z"
   },
   {
    "duration": 37,
    "start_time": "2022-06-27T11:19:08.968Z"
   },
   {
    "duration": 10,
    "start_time": "2022-06-27T11:19:14.367Z"
   },
   {
    "duration": 57,
    "start_time": "2022-06-27T11:19:17.622Z"
   },
   {
    "duration": 32,
    "start_time": "2022-06-27T11:21:20.215Z"
   },
   {
    "duration": 29,
    "start_time": "2022-06-27T11:24:46.963Z"
   },
   {
    "duration": 31,
    "start_time": "2022-06-27T11:25:09.736Z"
   },
   {
    "duration": 26,
    "start_time": "2022-06-27T11:26:46.626Z"
   },
   {
    "duration": 27,
    "start_time": "2022-06-27T11:27:14.265Z"
   },
   {
    "duration": 64,
    "start_time": "2022-06-27T11:27:53.620Z"
   },
   {
    "duration": 31,
    "start_time": "2022-06-27T11:27:59.723Z"
   },
   {
    "duration": 13,
    "start_time": "2022-06-27T11:28:15.932Z"
   },
   {
    "duration": 17,
    "start_time": "2022-06-27T11:29:08.854Z"
   },
   {
    "duration": 46,
    "start_time": "2022-06-27T11:29:23.735Z"
   },
   {
    "duration": 13,
    "start_time": "2022-06-27T11:29:26.386Z"
   },
   {
    "duration": 50,
    "start_time": "2022-06-27T11:29:29.565Z"
   },
   {
    "duration": 41,
    "start_time": "2022-06-27T13:39:10.478Z"
   },
   {
    "duration": 62,
    "start_time": "2022-06-27T13:39:54.605Z"
   },
   {
    "duration": 46,
    "start_time": "2022-06-27T13:40:43.047Z"
   },
   {
    "duration": 46,
    "start_time": "2022-06-27T13:41:25.945Z"
   },
   {
    "duration": 9,
    "start_time": "2022-06-27T13:41:30.310Z"
   },
   {
    "duration": 50,
    "start_time": "2022-06-27T13:41:37.141Z"
   },
   {
    "duration": 10,
    "start_time": "2022-06-27T13:45:18.523Z"
   },
   {
    "duration": 25,
    "start_time": "2022-06-27T13:47:30.212Z"
   },
   {
    "duration": 13,
    "start_time": "2022-06-27T13:48:25.841Z"
   },
   {
    "duration": 50,
    "start_time": "2022-06-27T13:48:46.533Z"
   },
   {
    "duration": 4,
    "start_time": "2022-06-27T13:50:45.843Z"
   },
   {
    "duration": 47,
    "start_time": "2022-06-27T13:50:49.213Z"
   },
   {
    "duration": 6,
    "start_time": "2022-06-27T13:55:41.347Z"
   },
   {
    "duration": 646,
    "start_time": "2022-06-27T13:55:41.356Z"
   },
   {
    "duration": 11,
    "start_time": "2022-06-27T13:55:42.004Z"
   },
   {
    "duration": 35,
    "start_time": "2022-06-27T13:55:42.023Z"
   },
   {
    "duration": 23,
    "start_time": "2022-06-27T13:55:42.061Z"
   },
   {
    "duration": 32,
    "start_time": "2022-06-27T13:55:42.086Z"
   },
   {
    "duration": 51,
    "start_time": "2022-06-27T13:55:42.119Z"
   },
   {
    "duration": 76,
    "start_time": "2022-06-27T13:55:42.172Z"
   },
   {
    "duration": 37,
    "start_time": "2022-06-27T13:55:42.251Z"
   },
   {
    "duration": 483,
    "start_time": "2022-06-27T13:55:42.290Z"
   },
   {
    "duration": 20,
    "start_time": "2022-06-27T13:55:42.776Z"
   },
   {
    "duration": 75,
    "start_time": "2022-06-27T13:55:42.798Z"
   },
   {
    "duration": 85,
    "start_time": "2022-06-27T13:55:42.875Z"
   },
   {
    "duration": 79,
    "start_time": "2022-06-27T13:55:42.962Z"
   },
   {
    "duration": 43,
    "start_time": "2022-06-27T13:55:43.045Z"
   },
   {
    "duration": 18,
    "start_time": "2022-06-27T13:55:43.089Z"
   },
   {
    "duration": 57,
    "start_time": "2022-06-27T13:55:43.108Z"
   },
   {
    "duration": 17,
    "start_time": "2022-06-27T13:55:43.167Z"
   },
   {
    "duration": 52,
    "start_time": "2022-06-27T13:55:43.186Z"
   },
   {
    "duration": 9,
    "start_time": "2022-06-27T13:55:43.242Z"
   },
   {
    "duration": 16,
    "start_time": "2022-06-27T13:55:43.253Z"
   },
   {
    "duration": 65,
    "start_time": "2022-06-27T13:55:43.271Z"
   },
   {
    "duration": 12,
    "start_time": "2022-06-27T13:55:43.341Z"
   },
   {
    "duration": 35,
    "start_time": "2022-06-27T13:55:43.356Z"
   },
   {
    "duration": 6,
    "start_time": "2022-06-27T13:55:43.394Z"
   },
   {
    "duration": 34,
    "start_time": "2022-06-27T13:55:43.401Z"
   },
   {
    "duration": 9,
    "start_time": "2022-06-27T13:55:43.440Z"
   },
   {
    "duration": 25,
    "start_time": "2022-06-27T13:55:43.451Z"
   },
   {
    "duration": 14,
    "start_time": "2022-06-27T13:55:43.478Z"
   },
   {
    "duration": 14,
    "start_time": "2022-06-27T13:55:43.494Z"
   },
   {
    "duration": 73,
    "start_time": "2022-06-27T13:55:43.525Z"
   },
   {
    "duration": 42,
    "start_time": "2022-06-27T13:55:43.600Z"
   },
   {
    "duration": 619,
    "start_time": "2022-06-27T13:55:43.644Z"
   },
   {
    "duration": 12,
    "start_time": "2022-06-27T13:55:44.265Z"
   },
   {
    "duration": 94,
    "start_time": "2022-06-27T13:55:44.279Z"
   },
   {
    "duration": 67,
    "start_time": "2022-06-27T13:55:44.375Z"
   },
   {
    "duration": 17,
    "start_time": "2022-06-27T13:55:44.444Z"
   },
   {
    "duration": 8,
    "start_time": "2022-06-27T13:55:44.463Z"
   },
   {
    "duration": 10,
    "start_time": "2022-06-27T13:55:44.472Z"
   },
   {
    "duration": 46,
    "start_time": "2022-06-27T13:55:44.484Z"
   },
   {
    "duration": 18,
    "start_time": "2022-06-27T13:55:44.532Z"
   },
   {
    "duration": 31,
    "start_time": "2022-06-27T13:55:44.552Z"
   },
   {
    "duration": 12,
    "start_time": "2022-06-27T13:55:44.584Z"
   },
   {
    "duration": 43,
    "start_time": "2022-06-27T13:55:44.598Z"
   },
   {
    "duration": 7,
    "start_time": "2022-06-27T13:55:44.643Z"
   },
   {
    "duration": 14,
    "start_time": "2022-06-27T13:55:44.651Z"
   },
   {
    "duration": 8675,
    "start_time": "2022-06-27T13:55:44.667Z"
   },
   {
    "duration": 16,
    "start_time": "2022-06-27T13:55:53.345Z"
   },
   {
    "duration": 19,
    "start_time": "2022-06-27T13:55:53.362Z"
   },
   {
    "duration": 50,
    "start_time": "2022-06-27T13:55:53.383Z"
   },
   {
    "duration": 11,
    "start_time": "2022-06-27T13:55:53.435Z"
   },
   {
    "duration": 84,
    "start_time": "2022-06-27T13:55:53.448Z"
   },
   {
    "duration": 6,
    "start_time": "2022-06-27T13:55:53.537Z"
   },
   {
    "duration": 42,
    "start_time": "2022-06-27T13:55:53.544Z"
   },
   {
    "duration": 45,
    "start_time": "2022-06-27T13:58:59.442Z"
   },
   {
    "duration": 12,
    "start_time": "2022-06-27T16:42:45.384Z"
   },
   {
    "duration": 28,
    "start_time": "2022-06-27T16:47:55.644Z"
   },
   {
    "duration": 31,
    "start_time": "2022-06-27T16:56:50.436Z"
   },
   {
    "duration": 9,
    "start_time": "2022-06-27T16:57:33.191Z"
   },
   {
    "duration": 11,
    "start_time": "2022-06-27T16:57:41.065Z"
   },
   {
    "duration": 5,
    "start_time": "2022-06-27T16:57:49.196Z"
   },
   {
    "duration": 24,
    "start_time": "2022-06-27T16:57:51.550Z"
   },
   {
    "duration": 26,
    "start_time": "2022-06-27T17:14:28.265Z"
   },
   {
    "duration": 16,
    "start_time": "2022-06-27T17:24:03.050Z"
   },
   {
    "duration": 21,
    "start_time": "2022-06-27T17:24:21.850Z"
   },
   {
    "duration": 22,
    "start_time": "2022-06-27T17:25:16.542Z"
   },
   {
    "duration": 22,
    "start_time": "2022-06-27T17:25:27.253Z"
   },
   {
    "duration": 15,
    "start_time": "2022-06-27T17:29:43.566Z"
   },
   {
    "duration": 15,
    "start_time": "2022-06-27T17:30:02.218Z"
   },
   {
    "duration": 161,
    "start_time": "2022-06-27T17:36:18.018Z"
   },
   {
    "duration": 115,
    "start_time": "2022-06-27T17:36:36.240Z"
   },
   {
    "duration": 145,
    "start_time": "2022-06-27T17:37:05.099Z"
   },
   {
    "duration": 245,
    "start_time": "2022-06-27T17:39:17.235Z"
   },
   {
    "duration": 147,
    "start_time": "2022-06-27T17:39:29.538Z"
   },
   {
    "duration": 148,
    "start_time": "2022-06-27T17:40:06.863Z"
   },
   {
    "duration": 160,
    "start_time": "2022-06-27T17:42:35.621Z"
   },
   {
    "duration": 153,
    "start_time": "2022-06-27T17:43:03.156Z"
   },
   {
    "duration": 155,
    "start_time": "2022-06-27T17:43:16.632Z"
   },
   {
    "duration": 162,
    "start_time": "2022-06-27T17:46:33.020Z"
   },
   {
    "duration": 147,
    "start_time": "2022-06-27T17:46:45.085Z"
   },
   {
    "duration": 150,
    "start_time": "2022-06-27T17:48:21.434Z"
   },
   {
    "duration": 152,
    "start_time": "2022-06-27T17:48:40.761Z"
   },
   {
    "duration": 11,
    "start_time": "2022-06-27T17:57:11.522Z"
   },
   {
    "duration": 60,
    "start_time": "2022-06-27T17:57:21.426Z"
   },
   {
    "duration": 1245,
    "start_time": "2022-06-27T18:13:37.386Z"
   },
   {
    "duration": 582,
    "start_time": "2022-06-27T18:13:38.633Z"
   },
   {
    "duration": 12,
    "start_time": "2022-06-27T18:13:39.217Z"
   },
   {
    "duration": 21,
    "start_time": "2022-06-27T18:13:39.232Z"
   },
   {
    "duration": 8,
    "start_time": "2022-06-27T18:13:39.255Z"
   },
   {
    "duration": 13,
    "start_time": "2022-06-27T18:13:39.265Z"
   },
   {
    "duration": 42,
    "start_time": "2022-06-27T18:13:39.281Z"
   },
   {
    "duration": 62,
    "start_time": "2022-06-27T18:13:39.325Z"
   },
   {
    "duration": 48,
    "start_time": "2022-06-27T18:13:39.389Z"
   },
   {
    "duration": 272,
    "start_time": "2022-06-27T18:13:39.439Z"
   },
   {
    "duration": 17,
    "start_time": "2022-06-27T18:13:39.713Z"
   },
   {
    "duration": 17,
    "start_time": "2022-06-27T18:13:39.732Z"
   },
   {
    "duration": 21,
    "start_time": "2022-06-27T18:13:39.751Z"
   },
   {
    "duration": 62,
    "start_time": "2022-06-27T18:13:39.773Z"
   },
   {
    "duration": 31,
    "start_time": "2022-06-27T18:13:39.837Z"
   },
   {
    "duration": 14,
    "start_time": "2022-06-27T18:13:39.870Z"
   },
   {
    "duration": 52,
    "start_time": "2022-06-27T18:13:39.886Z"
   },
   {
    "duration": 15,
    "start_time": "2022-06-27T18:13:39.939Z"
   },
   {
    "duration": 34,
    "start_time": "2022-06-27T18:13:39.955Z"
   },
   {
    "duration": 6,
    "start_time": "2022-06-27T18:13:39.991Z"
   },
   {
    "duration": 26,
    "start_time": "2022-06-27T18:13:39.999Z"
   },
   {
    "duration": 49,
    "start_time": "2022-06-27T18:13:40.027Z"
   },
   {
    "duration": 14,
    "start_time": "2022-06-27T18:13:40.078Z"
   },
   {
    "duration": 33,
    "start_time": "2022-06-27T18:13:40.094Z"
   },
   {
    "duration": 6,
    "start_time": "2022-06-27T18:13:40.129Z"
   },
   {
    "duration": 8,
    "start_time": "2022-06-27T18:13:40.136Z"
   },
   {
    "duration": 11,
    "start_time": "2022-06-27T18:13:40.145Z"
   },
   {
    "duration": 47,
    "start_time": "2022-06-27T18:13:40.160Z"
   },
   {
    "duration": 10,
    "start_time": "2022-06-27T18:13:40.209Z"
   },
   {
    "duration": 26,
    "start_time": "2022-06-27T18:13:40.220Z"
   },
   {
    "duration": 74,
    "start_time": "2022-06-27T18:13:40.248Z"
   },
   {
    "duration": 32,
    "start_time": "2022-06-27T18:13:40.324Z"
   },
   {
    "duration": 549,
    "start_time": "2022-06-27T18:13:40.358Z"
   },
   {
    "duration": 15,
    "start_time": "2022-06-27T18:13:40.909Z"
   },
   {
    "duration": 70,
    "start_time": "2022-06-27T18:13:40.925Z"
   },
   {
    "duration": 46,
    "start_time": "2022-06-27T18:13:40.996Z"
   },
   {
    "duration": 16,
    "start_time": "2022-06-27T18:13:41.044Z"
   },
   {
    "duration": 9,
    "start_time": "2022-06-27T18:13:41.062Z"
   },
   {
    "duration": 21,
    "start_time": "2022-06-27T18:13:41.072Z"
   },
   {
    "duration": 35,
    "start_time": "2022-06-27T18:13:41.095Z"
   },
   {
    "duration": 15,
    "start_time": "2022-06-27T18:13:41.132Z"
   },
   {
    "duration": 52,
    "start_time": "2022-06-27T18:13:41.148Z"
   },
   {
    "duration": 15,
    "start_time": "2022-06-27T18:13:41.202Z"
   },
   {
    "duration": 14,
    "start_time": "2022-06-27T18:13:41.223Z"
   },
   {
    "duration": 8,
    "start_time": "2022-06-27T18:13:41.239Z"
   },
   {
    "duration": 23,
    "start_time": "2022-06-27T18:13:41.249Z"
   },
   {
    "duration": 7647,
    "start_time": "2022-06-27T18:13:41.274Z"
   },
   {
    "duration": 14,
    "start_time": "2022-06-27T18:13:48.923Z"
   },
   {
    "duration": 18,
    "start_time": "2022-06-27T18:13:48.940Z"
   },
   {
    "duration": 35,
    "start_time": "2022-06-27T18:13:48.960Z"
   },
   {
    "duration": 34,
    "start_time": "2022-06-27T18:13:48.996Z"
   },
   {
    "duration": 382,
    "start_time": "2022-06-27T18:13:49.032Z"
   },
   {
    "duration": 4,
    "start_time": "2022-06-27T18:13:49.415Z"
   },
   {
    "duration": 14,
    "start_time": "2022-06-27T18:13:49.421Z"
   },
   {
    "duration": 31,
    "start_time": "2022-06-27T18:13:49.437Z"
   },
   {
    "duration": 71,
    "start_time": "2022-06-27T18:13:49.470Z"
   },
   {
    "duration": 14,
    "start_time": "2022-06-27T18:13:49.543Z"
   },
   {
    "duration": 238,
    "start_time": "2022-06-27T18:13:49.559Z"
   },
   {
    "duration": 71,
    "start_time": "2022-06-27T18:13:49.799Z"
   },
   {
    "duration": 156,
    "start_time": "2022-06-27T18:17:09.851Z"
   },
   {
    "duration": 168,
    "start_time": "2022-06-27T18:17:27.129Z"
   },
   {
    "duration": 241,
    "start_time": "2022-06-27T18:23:25.644Z"
   },
   {
    "duration": 181,
    "start_time": "2022-06-27T18:23:37.389Z"
   },
   {
    "duration": 1198,
    "start_time": "2022-06-27T18:25:10.326Z"
   },
   {
    "duration": 563,
    "start_time": "2022-06-27T18:25:11.525Z"
   },
   {
    "duration": 11,
    "start_time": "2022-06-27T18:25:12.090Z"
   },
   {
    "duration": 21,
    "start_time": "2022-06-27T18:25:12.103Z"
   },
   {
    "duration": 6,
    "start_time": "2022-06-27T18:25:12.125Z"
   },
   {
    "duration": 13,
    "start_time": "2022-06-27T18:25:12.132Z"
   },
   {
    "duration": 19,
    "start_time": "2022-06-27T18:25:12.146Z"
   },
   {
    "duration": 92,
    "start_time": "2022-06-27T18:25:12.167Z"
   },
   {
    "duration": 32,
    "start_time": "2022-06-27T18:25:12.261Z"
   },
   {
    "duration": 307,
    "start_time": "2022-06-27T18:25:12.296Z"
   },
   {
    "duration": 26,
    "start_time": "2022-06-27T18:25:12.605Z"
   },
   {
    "duration": 20,
    "start_time": "2022-06-27T18:25:12.634Z"
   },
   {
    "duration": 35,
    "start_time": "2022-06-27T18:25:12.656Z"
   },
   {
    "duration": 53,
    "start_time": "2022-06-27T18:25:12.694Z"
   },
   {
    "duration": 31,
    "start_time": "2022-06-27T18:25:12.749Z"
   },
   {
    "duration": 14,
    "start_time": "2022-06-27T18:25:12.781Z"
   },
   {
    "duration": 51,
    "start_time": "2022-06-27T18:25:12.796Z"
   },
   {
    "duration": 10,
    "start_time": "2022-06-27T18:25:12.849Z"
   },
   {
    "duration": 25,
    "start_time": "2022-06-27T18:25:12.861Z"
   },
   {
    "duration": 7,
    "start_time": "2022-06-27T18:25:12.888Z"
   },
   {
    "duration": 34,
    "start_time": "2022-06-27T18:25:12.896Z"
   },
   {
    "duration": 35,
    "start_time": "2022-06-27T18:25:12.932Z"
   },
   {
    "duration": 10,
    "start_time": "2022-06-27T18:25:12.969Z"
   },
   {
    "duration": 55,
    "start_time": "2022-06-27T18:25:12.981Z"
   },
   {
    "duration": 4,
    "start_time": "2022-06-27T18:25:13.037Z"
   },
   {
    "duration": 9,
    "start_time": "2022-06-27T18:25:13.043Z"
   },
   {
    "duration": 7,
    "start_time": "2022-06-27T18:25:13.053Z"
   },
   {
    "duration": 11,
    "start_time": "2022-06-27T18:25:13.064Z"
   },
   {
    "duration": 7,
    "start_time": "2022-06-27T18:25:13.077Z"
   },
   {
    "duration": 42,
    "start_time": "2022-06-27T18:25:13.086Z"
   },
   {
    "duration": 61,
    "start_time": "2022-06-27T18:25:13.130Z"
   },
   {
    "duration": 49,
    "start_time": "2022-06-27T18:25:13.193Z"
   },
   {
    "duration": 539,
    "start_time": "2022-06-27T18:25:13.244Z"
   },
   {
    "duration": 9,
    "start_time": "2022-06-27T18:25:13.785Z"
   },
   {
    "duration": 81,
    "start_time": "2022-06-27T18:25:13.795Z"
   },
   {
    "duration": 53,
    "start_time": "2022-06-27T18:25:13.877Z"
   },
   {
    "duration": 19,
    "start_time": "2022-06-27T18:25:13.932Z"
   },
   {
    "duration": 7,
    "start_time": "2022-06-27T18:25:13.953Z"
   },
   {
    "duration": 12,
    "start_time": "2022-06-27T18:25:13.962Z"
   },
   {
    "duration": 15,
    "start_time": "2022-06-27T18:25:13.975Z"
   },
   {
    "duration": 42,
    "start_time": "2022-06-27T18:25:13.991Z"
   },
   {
    "duration": 28,
    "start_time": "2022-06-27T18:25:14.035Z"
   },
   {
    "duration": 13,
    "start_time": "2022-06-27T18:25:14.064Z"
   },
   {
    "duration": 13,
    "start_time": "2022-06-27T18:25:14.078Z"
   },
   {
    "duration": 32,
    "start_time": "2022-06-27T18:25:14.093Z"
   },
   {
    "duration": 14,
    "start_time": "2022-06-27T18:25:14.127Z"
   },
   {
    "duration": 7564,
    "start_time": "2022-06-27T18:25:14.143Z"
   },
   {
    "duration": 23,
    "start_time": "2022-06-27T18:25:21.708Z"
   },
   {
    "duration": 15,
    "start_time": "2022-06-27T18:25:21.732Z"
   },
   {
    "duration": 31,
    "start_time": "2022-06-27T18:25:21.749Z"
   },
   {
    "duration": 8,
    "start_time": "2022-06-27T18:25:21.781Z"
   },
   {
    "duration": 372,
    "start_time": "2022-06-27T18:25:21.791Z"
   },
   {
    "duration": 5,
    "start_time": "2022-06-27T18:25:22.165Z"
   },
   {
    "duration": 20,
    "start_time": "2022-06-27T18:25:22.171Z"
   },
   {
    "duration": 53,
    "start_time": "2022-06-27T18:25:22.193Z"
   },
   {
    "duration": 76,
    "start_time": "2022-06-27T18:25:22.248Z"
   },
   {
    "duration": 15,
    "start_time": "2022-06-27T18:25:22.326Z"
   },
   {
    "duration": 212,
    "start_time": "2022-06-27T18:25:22.343Z"
   },
   {
    "duration": 89,
    "start_time": "2022-06-27T18:25:22.557Z"
   },
   {
    "duration": 280,
    "start_time": "2022-06-27T18:27:24.760Z"
   },
   {
    "duration": 155,
    "start_time": "2022-06-27T18:27:44.758Z"
   },
   {
    "duration": 148,
    "start_time": "2022-06-27T18:29:35.229Z"
   },
   {
    "duration": 11,
    "start_time": "2022-06-27T18:32:49.841Z"
   },
   {
    "duration": 53,
    "start_time": "2022-06-27T18:34:56.979Z"
   },
   {
    "duration": 18,
    "start_time": "2022-06-27T18:39:25.416Z"
   },
   {
    "duration": 71,
    "start_time": "2022-06-27T18:39:50.202Z"
   },
   {
    "duration": 10,
    "start_time": "2022-06-27T18:40:37.299Z"
   },
   {
    "duration": 7,
    "start_time": "2022-06-27T18:40:49.057Z"
   },
   {
    "duration": 171,
    "start_time": "2022-06-27T18:40:53.009Z"
   },
   {
    "duration": 20,
    "start_time": "2022-06-27T18:47:21.291Z"
   },
   {
    "duration": 391,
    "start_time": "2022-06-27T18:47:45.642Z"
   },
   {
    "duration": 43,
    "start_time": "2022-06-27T18:50:56.852Z"
   },
   {
    "duration": 405,
    "start_time": "2022-06-27T18:51:03.815Z"
   },
   {
    "duration": 394,
    "start_time": "2022-06-27T18:56:55.588Z"
   },
   {
    "duration": 768,
    "start_time": "2022-06-27T19:06:11.058Z"
   },
   {
    "duration": 705,
    "start_time": "2022-06-27T19:08:01.575Z"
   },
   {
    "duration": 31,
    "start_time": "2022-06-27T19:37:58.023Z"
   },
   {
    "duration": 23,
    "start_time": "2022-06-27T19:38:12.784Z"
   },
   {
    "duration": 7,
    "start_time": "2022-06-27T19:42:35.147Z"
   },
   {
    "duration": 43,
    "start_time": "2022-06-27T19:44:01.832Z"
   },
   {
    "duration": 6,
    "start_time": "2022-06-27T19:49:32.609Z"
   },
   {
    "duration": 41,
    "start_time": "2022-06-27T19:49:35.491Z"
   },
   {
    "duration": 3,
    "start_time": "2022-06-27T19:53:37.500Z"
   },
   {
    "duration": 41,
    "start_time": "2022-06-27T19:55:35.411Z"
   },
   {
    "duration": 1175,
    "start_time": "2022-06-27T21:28:01.839Z"
   },
   {
    "duration": 597,
    "start_time": "2022-06-27T21:28:03.016Z"
   },
   {
    "duration": 12,
    "start_time": "2022-06-27T21:28:03.614Z"
   },
   {
    "duration": 21,
    "start_time": "2022-06-27T21:28:03.628Z"
   },
   {
    "duration": 5,
    "start_time": "2022-06-27T21:28:03.651Z"
   },
   {
    "duration": 11,
    "start_time": "2022-06-27T21:28:03.658Z"
   },
   {
    "duration": 20,
    "start_time": "2022-06-27T21:28:03.671Z"
   },
   {
    "duration": 81,
    "start_time": "2022-06-27T21:28:03.693Z"
   },
   {
    "duration": 52,
    "start_time": "2022-06-27T21:28:03.776Z"
   },
   {
    "duration": 288,
    "start_time": "2022-06-27T21:28:03.831Z"
   },
   {
    "duration": 12,
    "start_time": "2022-06-27T21:28:04.122Z"
   },
   {
    "duration": 18,
    "start_time": "2022-06-27T21:28:04.136Z"
   },
   {
    "duration": 22,
    "start_time": "2022-06-27T21:28:04.155Z"
   },
   {
    "duration": 71,
    "start_time": "2022-06-27T21:28:04.179Z"
   },
   {
    "duration": 32,
    "start_time": "2022-06-27T21:28:04.252Z"
   },
   {
    "duration": 14,
    "start_time": "2022-06-27T21:28:04.286Z"
   },
   {
    "duration": 31,
    "start_time": "2022-06-27T21:28:04.324Z"
   },
   {
    "duration": 11,
    "start_time": "2022-06-27T21:28:04.357Z"
   },
   {
    "duration": 22,
    "start_time": "2022-06-27T21:28:04.370Z"
   },
   {
    "duration": 33,
    "start_time": "2022-06-27T21:28:04.394Z"
   },
   {
    "duration": 8,
    "start_time": "2022-06-27T21:28:04.428Z"
   },
   {
    "duration": 34,
    "start_time": "2022-06-27T21:28:04.437Z"
   },
   {
    "duration": 10,
    "start_time": "2022-06-27T21:28:04.473Z"
   },
   {
    "duration": 54,
    "start_time": "2022-06-27T21:28:04.484Z"
   },
   {
    "duration": 5,
    "start_time": "2022-06-27T21:28:04.539Z"
   },
   {
    "duration": 11,
    "start_time": "2022-06-27T21:28:04.545Z"
   },
   {
    "duration": 7,
    "start_time": "2022-06-27T21:28:04.558Z"
   },
   {
    "duration": 13,
    "start_time": "2022-06-27T21:28:04.569Z"
   },
   {
    "duration": 8,
    "start_time": "2022-06-27T21:28:04.584Z"
   },
   {
    "duration": 31,
    "start_time": "2022-06-27T21:28:04.593Z"
   },
   {
    "duration": 63,
    "start_time": "2022-06-27T21:28:04.625Z"
   },
   {
    "duration": 43,
    "start_time": "2022-06-27T21:28:04.690Z"
   },
   {
    "duration": 523,
    "start_time": "2022-06-27T21:28:04.735Z"
   },
   {
    "duration": 8,
    "start_time": "2022-06-27T21:28:05.259Z"
   },
   {
    "duration": 73,
    "start_time": "2022-06-27T21:28:05.268Z"
   },
   {
    "duration": 42,
    "start_time": "2022-06-27T21:28:05.343Z"
   },
   {
    "duration": 15,
    "start_time": "2022-06-27T21:28:05.387Z"
   },
   {
    "duration": 7,
    "start_time": "2022-06-27T21:28:05.423Z"
   },
   {
    "duration": 9,
    "start_time": "2022-06-27T21:28:05.431Z"
   },
   {
    "duration": 21,
    "start_time": "2022-06-27T21:28:05.441Z"
   },
   {
    "duration": 13,
    "start_time": "2022-06-27T21:28:05.463Z"
   },
   {
    "duration": 50,
    "start_time": "2022-06-27T21:28:05.478Z"
   },
   {
    "duration": 12,
    "start_time": "2022-06-27T21:28:05.530Z"
   },
   {
    "duration": 15,
    "start_time": "2022-06-27T21:28:05.543Z"
   },
   {
    "duration": 5,
    "start_time": "2022-06-27T21:28:05.560Z"
   },
   {
    "duration": 12,
    "start_time": "2022-06-27T21:28:05.567Z"
   },
   {
    "duration": 8145,
    "start_time": "2022-06-27T21:28:05.581Z"
   },
   {
    "duration": 12,
    "start_time": "2022-06-27T21:28:13.728Z"
   },
   {
    "duration": 39,
    "start_time": "2022-06-27T21:28:13.742Z"
   },
   {
    "duration": 33,
    "start_time": "2022-06-27T21:28:13.783Z"
   },
   {
    "duration": 9,
    "start_time": "2022-06-27T21:28:13.818Z"
   },
   {
    "duration": 374,
    "start_time": "2022-06-27T21:28:13.829Z"
   },
   {
    "duration": 5,
    "start_time": "2022-06-27T21:28:14.204Z"
   },
   {
    "duration": 44,
    "start_time": "2022-06-27T21:28:14.210Z"
   },
   {
    "duration": 35,
    "start_time": "2022-06-27T21:28:14.255Z"
   },
   {
    "duration": 21,
    "start_time": "2022-06-27T21:28:14.324Z"
   },
   {
    "duration": 7,
    "start_time": "2022-06-27T21:28:14.347Z"
   },
   {
    "duration": 200,
    "start_time": "2022-06-27T21:28:14.355Z"
   },
   {
    "duration": 74,
    "start_time": "2022-06-27T21:28:14.558Z"
   },
   {
    "duration": 727,
    "start_time": "2022-06-27T21:28:14.633Z"
   },
   {
    "duration": 662,
    "start_time": "2022-06-27T21:28:15.362Z"
   },
   {
    "duration": 32,
    "start_time": "2022-06-27T21:28:16.026Z"
   },
   {
    "duration": 5,
    "start_time": "2022-06-27T21:28:16.060Z"
   },
   {
    "duration": 89,
    "start_time": "2022-06-27T21:28:16.067Z"
   },
   {
    "duration": 3,
    "start_time": "2022-06-27T21:28:16.158Z"
   },
   {
    "duration": 54,
    "start_time": "2022-06-27T21:28:16.163Z"
   },
   {
    "duration": 1396,
    "start_time": "2022-06-28T08:14:03.000Z"
   },
   {
    "duration": 1667,
    "start_time": "2022-06-28T08:14:04.399Z"
   },
   {
    "duration": 13,
    "start_time": "2022-06-28T08:14:06.068Z"
   },
   {
    "duration": 41,
    "start_time": "2022-06-28T08:14:06.084Z"
   },
   {
    "duration": 11,
    "start_time": "2022-06-28T08:14:06.128Z"
   },
   {
    "duration": 34,
    "start_time": "2022-06-28T08:14:06.142Z"
   },
   {
    "duration": 23,
    "start_time": "2022-06-28T08:14:06.178Z"
   },
   {
    "duration": 106,
    "start_time": "2022-06-28T08:14:06.203Z"
   },
   {
    "duration": 50,
    "start_time": "2022-06-28T08:14:06.314Z"
   },
   {
    "duration": 324,
    "start_time": "2022-06-28T08:14:06.367Z"
   },
   {
    "duration": 13,
    "start_time": "2022-06-28T08:14:06.692Z"
   },
   {
    "duration": 39,
    "start_time": "2022-06-28T08:14:06.707Z"
   },
   {
    "duration": 30,
    "start_time": "2022-06-28T08:14:06.754Z"
   },
   {
    "duration": 53,
    "start_time": "2022-06-28T08:14:06.786Z"
   },
   {
    "duration": 43,
    "start_time": "2022-06-28T08:14:06.841Z"
   },
   {
    "duration": 17,
    "start_time": "2022-06-28T08:14:06.886Z"
   },
   {
    "duration": 64,
    "start_time": "2022-06-28T08:14:06.905Z"
   },
   {
    "duration": 16,
    "start_time": "2022-06-28T08:14:06.971Z"
   },
   {
    "duration": 34,
    "start_time": "2022-06-28T08:14:06.989Z"
   },
   {
    "duration": 14,
    "start_time": "2022-06-28T08:14:07.025Z"
   },
   {
    "duration": 24,
    "start_time": "2022-06-28T08:14:07.042Z"
   },
   {
    "duration": 44,
    "start_time": "2022-06-28T08:14:07.067Z"
   },
   {
    "duration": 11,
    "start_time": "2022-06-28T08:14:07.113Z"
   },
   {
    "duration": 62,
    "start_time": "2022-06-28T08:14:07.125Z"
   },
   {
    "duration": 5,
    "start_time": "2022-06-28T08:14:07.189Z"
   },
   {
    "duration": 8,
    "start_time": "2022-06-28T08:14:07.195Z"
   },
   {
    "duration": 12,
    "start_time": "2022-06-28T08:14:07.205Z"
   },
   {
    "duration": 25,
    "start_time": "2022-06-28T08:14:07.221Z"
   },
   {
    "duration": 16,
    "start_time": "2022-06-28T08:14:07.248Z"
   },
   {
    "duration": 13,
    "start_time": "2022-06-28T08:14:07.266Z"
   },
   {
    "duration": 88,
    "start_time": "2022-06-28T08:14:07.281Z"
   },
   {
    "duration": 32,
    "start_time": "2022-06-28T08:14:07.371Z"
   },
   {
    "duration": 721,
    "start_time": "2022-06-28T08:14:07.405Z"
   },
   {
    "duration": 15,
    "start_time": "2022-06-28T08:14:08.135Z"
   },
   {
    "duration": 104,
    "start_time": "2022-06-28T08:14:08.152Z"
   },
   {
    "duration": 64,
    "start_time": "2022-06-28T08:14:08.258Z"
   },
   {
    "duration": 45,
    "start_time": "2022-06-28T08:14:08.324Z"
   },
   {
    "duration": 7,
    "start_time": "2022-06-28T08:14:08.371Z"
   },
   {
    "duration": 12,
    "start_time": "2022-06-28T08:14:08.380Z"
   },
   {
    "duration": 18,
    "start_time": "2022-06-28T08:14:08.394Z"
   },
   {
    "duration": 22,
    "start_time": "2022-06-28T08:14:08.414Z"
   },
   {
    "duration": 36,
    "start_time": "2022-06-28T08:14:08.441Z"
   },
   {
    "duration": 13,
    "start_time": "2022-06-28T08:14:08.478Z"
   },
   {
    "duration": 34,
    "start_time": "2022-06-28T08:14:08.493Z"
   },
   {
    "duration": 38,
    "start_time": "2022-06-28T08:14:08.530Z"
   },
   {
    "duration": 21,
    "start_time": "2022-06-28T08:14:08.569Z"
   },
   {
    "duration": 8849,
    "start_time": "2022-06-28T08:14:08.592Z"
   },
   {
    "duration": 19,
    "start_time": "2022-06-28T08:14:17.444Z"
   },
   {
    "duration": 13,
    "start_time": "2022-06-28T08:14:17.464Z"
   },
   {
    "duration": 36,
    "start_time": "2022-06-28T08:14:17.478Z"
   },
   {
    "duration": 31,
    "start_time": "2022-06-28T08:14:17.515Z"
   },
   {
    "duration": 609,
    "start_time": "2022-06-28T08:14:17.551Z"
   },
   {
    "duration": 4,
    "start_time": "2022-06-28T08:14:18.162Z"
   },
   {
    "duration": 18,
    "start_time": "2022-06-28T08:14:18.168Z"
   },
   {
    "duration": 46,
    "start_time": "2022-06-28T08:14:18.188Z"
   },
   {
    "duration": 32,
    "start_time": "2022-06-28T08:14:18.236Z"
   },
   {
    "duration": 58,
    "start_time": "2022-06-28T08:14:18.270Z"
   },
   {
    "duration": 125,
    "start_time": "2022-06-28T08:14:18.330Z"
   },
   {
    "duration": 842,
    "start_time": "2022-06-28T08:14:18.457Z"
   },
   {
    "duration": 771,
    "start_time": "2022-06-28T08:14:19.301Z"
   },
   {
    "duration": 23,
    "start_time": "2022-06-28T08:14:20.074Z"
   },
   {
    "duration": 58,
    "start_time": "2022-06-28T08:14:20.098Z"
   },
   {
    "duration": 59,
    "start_time": "2022-06-28T08:14:20.158Z"
   },
   {
    "duration": 3,
    "start_time": "2022-06-28T08:14:20.219Z"
   },
   {
    "duration": 73,
    "start_time": "2022-06-28T08:14:20.224Z"
   },
   {
    "duration": 1370,
    "start_time": "2022-06-28T08:15:43.643Z"
   },
   {
    "duration": 643,
    "start_time": "2022-06-28T08:15:45.015Z"
   },
   {
    "duration": 10,
    "start_time": "2022-06-28T08:15:45.660Z"
   },
   {
    "duration": 26,
    "start_time": "2022-06-28T08:15:45.672Z"
   },
   {
    "duration": 5,
    "start_time": "2022-06-28T08:15:45.701Z"
   },
   {
    "duration": 13,
    "start_time": "2022-06-28T08:15:45.707Z"
   },
   {
    "duration": 53,
    "start_time": "2022-06-28T08:15:45.721Z"
   },
   {
    "duration": 71,
    "start_time": "2022-06-28T08:15:45.775Z"
   },
   {
    "duration": 46,
    "start_time": "2022-06-28T08:15:45.848Z"
   },
   {
    "duration": 386,
    "start_time": "2022-06-28T08:15:45.896Z"
   },
   {
    "duration": 14,
    "start_time": "2022-06-28T08:15:46.284Z"
   },
   {
    "duration": 48,
    "start_time": "2022-06-28T08:15:46.303Z"
   },
   {
    "duration": 55,
    "start_time": "2022-06-28T08:15:46.353Z"
   },
   {
    "duration": 50,
    "start_time": "2022-06-28T08:15:46.411Z"
   },
   {
    "duration": 31,
    "start_time": "2022-06-28T08:15:46.463Z"
   },
   {
    "duration": 13,
    "start_time": "2022-06-28T08:15:46.496Z"
   },
   {
    "duration": 60,
    "start_time": "2022-06-28T08:15:46.510Z"
   },
   {
    "duration": 12,
    "start_time": "2022-06-28T08:15:46.572Z"
   },
   {
    "duration": 32,
    "start_time": "2022-06-28T08:15:46.586Z"
   },
   {
    "duration": 26,
    "start_time": "2022-06-28T08:15:46.619Z"
   },
   {
    "duration": 17,
    "start_time": "2022-06-28T08:15:46.650Z"
   },
   {
    "duration": 41,
    "start_time": "2022-06-28T08:15:46.669Z"
   },
   {
    "duration": 11,
    "start_time": "2022-06-28T08:15:46.712Z"
   },
   {
    "duration": 70,
    "start_time": "2022-06-28T08:15:46.725Z"
   },
   {
    "duration": 4,
    "start_time": "2022-06-28T08:15:46.797Z"
   },
   {
    "duration": 9,
    "start_time": "2022-06-28T08:15:46.803Z"
   },
   {
    "duration": 42,
    "start_time": "2022-06-28T08:15:46.813Z"
   },
   {
    "duration": 26,
    "start_time": "2022-06-28T08:15:46.857Z"
   },
   {
    "duration": 9,
    "start_time": "2022-06-28T08:15:46.884Z"
   },
   {
    "duration": 11,
    "start_time": "2022-06-28T08:15:46.894Z"
   },
   {
    "duration": 82,
    "start_time": "2022-06-28T08:15:46.907Z"
   },
   {
    "duration": 30,
    "start_time": "2022-06-28T08:15:46.990Z"
   },
   {
    "duration": 618,
    "start_time": "2022-06-28T08:15:47.022Z"
   },
   {
    "duration": 15,
    "start_time": "2022-06-28T08:15:47.642Z"
   },
   {
    "duration": 77,
    "start_time": "2022-06-28T08:15:47.659Z"
   },
   {
    "duration": 49,
    "start_time": "2022-06-28T08:15:47.740Z"
   },
   {
    "duration": 16,
    "start_time": "2022-06-28T08:15:47.791Z"
   },
   {
    "duration": 7,
    "start_time": "2022-06-28T08:15:47.809Z"
   },
   {
    "duration": 15,
    "start_time": "2022-06-28T08:15:47.832Z"
   },
   {
    "duration": 22,
    "start_time": "2022-06-28T08:15:47.848Z"
   },
   {
    "duration": 14,
    "start_time": "2022-06-28T08:15:47.874Z"
   },
   {
    "duration": 52,
    "start_time": "2022-06-28T08:15:47.890Z"
   },
   {
    "duration": 12,
    "start_time": "2022-06-28T08:15:47.944Z"
   },
   {
    "duration": 17,
    "start_time": "2022-06-28T08:15:47.958Z"
   },
   {
    "duration": 6,
    "start_time": "2022-06-28T08:15:47.977Z"
   },
   {
    "duration": 15,
    "start_time": "2022-06-28T08:15:47.985Z"
   },
   {
    "duration": 8844,
    "start_time": "2022-06-28T08:15:48.002Z"
   },
   {
    "duration": 16,
    "start_time": "2022-06-28T08:15:56.848Z"
   },
   {
    "duration": 16,
    "start_time": "2022-06-28T08:15:56.865Z"
   },
   {
    "duration": 63,
    "start_time": "2022-06-28T08:15:56.883Z"
   },
   {
    "duration": 9,
    "start_time": "2022-06-28T08:15:56.948Z"
   },
   {
    "duration": 580,
    "start_time": "2022-06-28T08:15:56.959Z"
   },
   {
    "duration": 4,
    "start_time": "2022-06-28T08:15:57.544Z"
   },
   {
    "duration": 23,
    "start_time": "2022-06-28T08:15:57.550Z"
   },
   {
    "duration": 82,
    "start_time": "2022-06-28T08:15:57.574Z"
   },
   {
    "duration": 80,
    "start_time": "2022-06-28T08:15:57.659Z"
   },
   {
    "duration": 9,
    "start_time": "2022-06-28T08:15:57.741Z"
   },
   {
    "duration": 118,
    "start_time": "2022-06-28T08:15:57.753Z"
   },
   {
    "duration": 901,
    "start_time": "2022-06-28T08:15:57.873Z"
   },
   {
    "duration": 754,
    "start_time": "2022-06-28T08:15:58.776Z"
   },
   {
    "duration": 32,
    "start_time": "2022-06-28T08:15:59.533Z"
   },
   {
    "duration": 14,
    "start_time": "2022-06-28T08:15:59.567Z"
   },
   {
    "duration": 92,
    "start_time": "2022-06-28T08:15:59.583Z"
   },
   {
    "duration": 4,
    "start_time": "2022-06-28T08:15:59.677Z"
   },
   {
    "duration": 38,
    "start_time": "2022-06-28T08:15:59.683Z"
   },
   {
    "duration": 32,
    "start_time": "2022-06-28T08:40:24.052Z"
   },
   {
    "duration": 558,
    "start_time": "2022-06-28T08:41:02.658Z"
   },
   {
    "duration": 553,
    "start_time": "2022-06-28T08:41:11.703Z"
   },
   {
    "duration": 103,
    "start_time": "2022-06-28T08:42:15.172Z"
   },
   {
    "duration": 50,
    "start_time": "2022-06-28T08:42:19.335Z"
   },
   {
    "duration": 60,
    "start_time": "2022-06-28T08:43:49.614Z"
   },
   {
    "duration": 55,
    "start_time": "2022-06-28T08:47:46.874Z"
   },
   {
    "duration": 1642,
    "start_time": "2022-06-28T08:48:14.526Z"
   },
   {
    "duration": 759,
    "start_time": "2022-06-28T08:48:16.177Z"
   },
   {
    "duration": 18,
    "start_time": "2022-06-28T08:48:16.944Z"
   },
   {
    "duration": 39,
    "start_time": "2022-06-28T08:48:16.968Z"
   },
   {
    "duration": 6,
    "start_time": "2022-06-28T08:48:17.010Z"
   },
   {
    "duration": 75,
    "start_time": "2022-06-28T08:48:17.017Z"
   },
   {
    "duration": 21,
    "start_time": "2022-06-28T08:48:17.094Z"
   },
   {
    "duration": 105,
    "start_time": "2022-06-28T08:48:17.117Z"
   },
   {
    "duration": 65,
    "start_time": "2022-06-28T08:48:17.224Z"
   },
   {
    "duration": 387,
    "start_time": "2022-06-28T08:48:17.291Z"
   },
   {
    "duration": 13,
    "start_time": "2022-06-28T08:48:17.680Z"
   },
   {
    "duration": 48,
    "start_time": "2022-06-28T08:48:17.696Z"
   },
   {
    "duration": 43,
    "start_time": "2022-06-28T08:48:17.745Z"
   },
   {
    "duration": 62,
    "start_time": "2022-06-28T08:48:17.792Z"
   },
   {
    "duration": 44,
    "start_time": "2022-06-28T08:48:17.856Z"
   },
   {
    "duration": 19,
    "start_time": "2022-06-28T08:48:17.902Z"
   },
   {
    "duration": 79,
    "start_time": "2022-06-28T08:48:17.922Z"
   },
   {
    "duration": 11,
    "start_time": "2022-06-28T08:48:18.003Z"
   },
   {
    "duration": 43,
    "start_time": "2022-06-28T08:48:18.015Z"
   },
   {
    "duration": 29,
    "start_time": "2022-06-28T08:48:18.061Z"
   },
   {
    "duration": 27,
    "start_time": "2022-06-28T08:48:18.092Z"
   },
   {
    "duration": 85,
    "start_time": "2022-06-28T08:48:18.121Z"
   },
   {
    "duration": 11,
    "start_time": "2022-06-28T08:48:18.208Z"
   },
   {
    "duration": 56,
    "start_time": "2022-06-28T08:48:18.221Z"
   },
   {
    "duration": 8,
    "start_time": "2022-06-28T08:48:18.279Z"
   },
   {
    "duration": 8,
    "start_time": "2022-06-28T08:48:18.289Z"
   },
   {
    "duration": 7,
    "start_time": "2022-06-28T08:48:18.299Z"
   },
   {
    "duration": 11,
    "start_time": "2022-06-28T08:48:18.308Z"
   },
   {
    "duration": 28,
    "start_time": "2022-06-28T08:48:18.321Z"
   },
   {
    "duration": 36,
    "start_time": "2022-06-28T08:48:18.351Z"
   },
   {
    "duration": 98,
    "start_time": "2022-06-28T08:48:18.389Z"
   },
   {
    "duration": 31,
    "start_time": "2022-06-28T08:48:18.489Z"
   },
   {
    "duration": 675,
    "start_time": "2022-06-28T08:48:18.521Z"
   },
   {
    "duration": 8,
    "start_time": "2022-06-28T08:48:19.199Z"
   },
   {
    "duration": 105,
    "start_time": "2022-06-28T08:48:19.209Z"
   },
   {
    "duration": 60,
    "start_time": "2022-06-28T08:48:19.316Z"
   },
   {
    "duration": 18,
    "start_time": "2022-06-28T08:48:19.378Z"
   },
   {
    "duration": 6,
    "start_time": "2022-06-28T08:48:19.398Z"
   },
   {
    "duration": 37,
    "start_time": "2022-06-28T08:48:19.405Z"
   },
   {
    "duration": 32,
    "start_time": "2022-06-28T08:48:19.452Z"
   },
   {
    "duration": 14,
    "start_time": "2022-06-28T08:48:19.488Z"
   },
   {
    "duration": 46,
    "start_time": "2022-06-28T08:48:19.504Z"
   },
   {
    "duration": 26,
    "start_time": "2022-06-28T08:48:19.552Z"
   },
   {
    "duration": 15,
    "start_time": "2022-06-28T08:48:19.579Z"
   },
   {
    "duration": 6,
    "start_time": "2022-06-28T08:48:19.596Z"
   },
   {
    "duration": 12,
    "start_time": "2022-06-28T08:48:19.603Z"
   },
   {
    "duration": 10082,
    "start_time": "2022-06-28T08:48:19.629Z"
   },
   {
    "duration": 26,
    "start_time": "2022-06-28T08:48:29.714Z"
   },
   {
    "duration": 51,
    "start_time": "2022-06-28T08:48:29.742Z"
   },
   {
    "duration": 38,
    "start_time": "2022-06-28T08:48:29.795Z"
   },
   {
    "duration": 55,
    "start_time": "2022-06-28T08:48:29.834Z"
   },
   {
    "duration": 10,
    "start_time": "2022-06-28T08:48:29.891Z"
   },
   {
    "duration": 699,
    "start_time": "2022-06-28T08:48:29.903Z"
   },
   {
    "duration": 6,
    "start_time": "2022-06-28T08:48:30.605Z"
   },
   {
    "duration": 34,
    "start_time": "2022-06-28T08:48:30.613Z"
   },
   {
    "duration": 111,
    "start_time": "2022-06-28T08:48:30.649Z"
   },
   {
    "duration": 23,
    "start_time": "2022-06-28T08:48:30.764Z"
   },
   {
    "duration": 28,
    "start_time": "2022-06-28T08:48:30.789Z"
   },
   {
    "duration": 21,
    "start_time": "2022-06-28T08:48:30.819Z"
   },
   {
    "duration": 120,
    "start_time": "2022-06-28T08:48:30.846Z"
   },
   {
    "duration": 723,
    "start_time": "2022-06-28T08:48:30.967Z"
   },
   {
    "duration": 606,
    "start_time": "2022-06-28T08:48:31.693Z"
   },
   {
    "duration": 50,
    "start_time": "2022-06-28T08:48:32.300Z"
   },
   {
    "duration": 19,
    "start_time": "2022-06-28T08:48:32.352Z"
   },
   {
    "duration": 100,
    "start_time": "2022-06-28T08:48:32.380Z"
   },
   {
    "duration": 9,
    "start_time": "2022-06-28T08:48:32.482Z"
   },
   {
    "duration": 99,
    "start_time": "2022-06-28T08:48:32.493Z"
   },
   {
    "duration": 126,
    "start_time": "2022-06-28T08:49:47.665Z"
   },
   {
    "duration": 107,
    "start_time": "2022-06-28T08:50:08.218Z"
   },
   {
    "duration": 270,
    "start_time": "2022-06-28T08:53:22.243Z"
   },
   {
    "duration": 17,
    "start_time": "2022-06-28T08:53:25.990Z"
   },
   {
    "duration": 25,
    "start_time": "2022-06-28T08:53:32.055Z"
   },
   {
    "duration": 37,
    "start_time": "2022-06-28T08:53:33.819Z"
   },
   {
    "duration": 20,
    "start_time": "2022-06-28T08:53:36.180Z"
   },
   {
    "duration": 18,
    "start_time": "2022-06-28T08:53:48.362Z"
   },
   {
    "duration": 514,
    "start_time": "2022-06-28T08:54:11.970Z"
   },
   {
    "duration": 474,
    "start_time": "2022-06-28T08:55:30.291Z"
   },
   {
    "duration": 74,
    "start_time": "2022-06-28T08:55:38.771Z"
   },
   {
    "duration": 1524,
    "start_time": "2022-06-28T10:51:56.937Z"
   },
   {
    "duration": 1359,
    "start_time": "2022-06-28T10:51:58.463Z"
   },
   {
    "duration": 13,
    "start_time": "2022-06-28T10:51:59.824Z"
   },
   {
    "duration": 26,
    "start_time": "2022-06-28T10:51:59.839Z"
   },
   {
    "duration": 7,
    "start_time": "2022-06-28T10:51:59.867Z"
   },
   {
    "duration": 13,
    "start_time": "2022-06-28T10:51:59.875Z"
   },
   {
    "duration": 56,
    "start_time": "2022-06-28T10:51:59.891Z"
   },
   {
    "duration": 88,
    "start_time": "2022-06-28T10:51:59.949Z"
   },
   {
    "duration": 38,
    "start_time": "2022-06-28T10:52:00.039Z"
   },
   {
    "duration": 308,
    "start_time": "2022-06-28T10:52:00.080Z"
   },
   {
    "duration": 13,
    "start_time": "2022-06-28T10:52:00.389Z"
   },
   {
    "duration": 33,
    "start_time": "2022-06-28T10:52:00.404Z"
   },
   {
    "duration": 38,
    "start_time": "2022-06-28T10:52:00.439Z"
   },
   {
    "duration": 59,
    "start_time": "2022-06-28T10:52:00.479Z"
   },
   {
    "duration": 40,
    "start_time": "2022-06-28T10:52:00.540Z"
   },
   {
    "duration": 17,
    "start_time": "2022-06-28T10:52:00.581Z"
   },
   {
    "duration": 105,
    "start_time": "2022-06-28T10:52:00.600Z"
   },
   {
    "duration": 15,
    "start_time": "2022-06-28T10:52:00.707Z"
   },
   {
    "duration": 60,
    "start_time": "2022-06-28T10:52:00.724Z"
   },
   {
    "duration": 20,
    "start_time": "2022-06-28T10:52:00.786Z"
   },
   {
    "duration": 32,
    "start_time": "2022-06-28T10:52:00.808Z"
   },
   {
    "duration": 49,
    "start_time": "2022-06-28T10:52:00.842Z"
   },
   {
    "duration": 17,
    "start_time": "2022-06-28T10:52:00.893Z"
   },
   {
    "duration": 49,
    "start_time": "2022-06-28T10:52:00.912Z"
   },
   {
    "duration": 24,
    "start_time": "2022-06-28T10:52:00.963Z"
   },
   {
    "duration": 16,
    "start_time": "2022-06-28T10:52:00.989Z"
   },
   {
    "duration": 46,
    "start_time": "2022-06-28T10:52:01.007Z"
   },
   {
    "duration": 40,
    "start_time": "2022-06-28T10:52:01.059Z"
   },
   {
    "duration": 22,
    "start_time": "2022-06-28T10:52:01.102Z"
   },
   {
    "duration": 29,
    "start_time": "2022-06-28T10:52:01.126Z"
   },
   {
    "duration": 100,
    "start_time": "2022-06-28T10:52:01.156Z"
   },
   {
    "duration": 36,
    "start_time": "2022-06-28T10:52:01.258Z"
   },
   {
    "duration": 664,
    "start_time": "2022-06-28T10:52:01.296Z"
   },
   {
    "duration": 11,
    "start_time": "2022-06-28T10:52:01.962Z"
   },
   {
    "duration": 133,
    "start_time": "2022-06-28T10:52:01.974Z"
   },
   {
    "duration": 107,
    "start_time": "2022-06-28T10:52:02.110Z"
   },
   {
    "duration": 32,
    "start_time": "2022-06-28T10:52:02.219Z"
   },
   {
    "duration": 19,
    "start_time": "2022-06-28T10:52:02.253Z"
   },
   {
    "duration": 37,
    "start_time": "2022-06-28T10:52:02.274Z"
   },
   {
    "duration": 50,
    "start_time": "2022-06-28T10:52:02.314Z"
   },
   {
    "duration": 36,
    "start_time": "2022-06-28T10:52:02.367Z"
   },
   {
    "duration": 37,
    "start_time": "2022-06-28T10:52:02.405Z"
   },
   {
    "duration": 14,
    "start_time": "2022-06-28T10:52:02.444Z"
   },
   {
    "duration": 27,
    "start_time": "2022-06-28T10:52:02.459Z"
   },
   {
    "duration": 21,
    "start_time": "2022-06-28T10:52:02.488Z"
   },
   {
    "duration": 28,
    "start_time": "2022-06-28T10:52:02.511Z"
   },
   {
    "duration": 9312,
    "start_time": "2022-06-28T10:52:02.541Z"
   },
   {
    "duration": 15,
    "start_time": "2022-06-28T10:52:11.855Z"
   },
   {
    "duration": 19,
    "start_time": "2022-06-28T10:52:11.873Z"
   },
   {
    "duration": 53,
    "start_time": "2022-06-28T10:52:11.894Z"
   },
   {
    "duration": 37,
    "start_time": "2022-06-28T10:52:11.949Z"
   },
   {
    "duration": 10,
    "start_time": "2022-06-28T10:52:11.989Z"
   },
   {
    "duration": 21,
    "start_time": "2022-06-28T12:17:06.381Z"
   },
   {
    "duration": 5,
    "start_time": "2022-06-28T12:17:44.563Z"
   },
   {
    "duration": 723,
    "start_time": "2022-06-28T12:17:44.582Z"
   },
   {
    "duration": 12,
    "start_time": "2022-06-28T12:17:45.307Z"
   },
   {
    "duration": 29,
    "start_time": "2022-06-28T12:17:45.327Z"
   },
   {
    "duration": 27,
    "start_time": "2022-06-28T12:17:45.362Z"
   },
   {
    "duration": 39,
    "start_time": "2022-06-28T12:17:45.390Z"
   },
   {
    "duration": 59,
    "start_time": "2022-06-28T12:17:45.431Z"
   },
   {
    "duration": 97,
    "start_time": "2022-06-28T12:17:45.492Z"
   },
   {
    "duration": 52,
    "start_time": "2022-06-28T12:17:45.591Z"
   },
   {
    "duration": 389,
    "start_time": "2022-06-28T12:17:45.644Z"
   },
   {
    "duration": 13,
    "start_time": "2022-06-28T12:17:46.036Z"
   },
   {
    "duration": 30,
    "start_time": "2022-06-28T12:17:46.052Z"
   },
   {
    "duration": 48,
    "start_time": "2022-06-28T12:17:46.083Z"
   },
   {
    "duration": 51,
    "start_time": "2022-06-28T12:17:46.133Z"
   },
   {
    "duration": 65,
    "start_time": "2022-06-28T12:17:46.185Z"
   },
   {
    "duration": 18,
    "start_time": "2022-06-28T12:17:46.252Z"
   },
   {
    "duration": 75,
    "start_time": "2022-06-28T12:17:46.272Z"
   },
   {
    "duration": 16,
    "start_time": "2022-06-28T12:17:46.349Z"
   },
   {
    "duration": 39,
    "start_time": "2022-06-28T12:17:46.367Z"
   },
   {
    "duration": 11,
    "start_time": "2022-06-28T12:17:46.425Z"
   },
   {
    "duration": 13,
    "start_time": "2022-06-28T12:17:46.438Z"
   },
   {
    "duration": 48,
    "start_time": "2022-06-28T12:17:46.452Z"
   },
   {
    "duration": 35,
    "start_time": "2022-06-28T12:17:46.502Z"
   },
   {
    "duration": 68,
    "start_time": "2022-06-28T12:17:46.539Z"
   },
   {
    "duration": 6,
    "start_time": "2022-06-28T12:17:46.608Z"
   },
   {
    "duration": 18,
    "start_time": "2022-06-28T12:17:46.616Z"
   },
   {
    "duration": 23,
    "start_time": "2022-06-28T12:17:46.636Z"
   },
   {
    "duration": 24,
    "start_time": "2022-06-28T12:17:46.661Z"
   },
   {
    "duration": 22,
    "start_time": "2022-06-28T12:17:46.689Z"
   },
   {
    "duration": 26,
    "start_time": "2022-06-28T12:17:46.712Z"
   },
   {
    "duration": 76,
    "start_time": "2022-06-28T12:17:46.741Z"
   },
   {
    "duration": 32,
    "start_time": "2022-06-28T12:17:46.819Z"
   },
   {
    "duration": 621,
    "start_time": "2022-06-28T12:17:46.852Z"
   },
   {
    "duration": 10,
    "start_time": "2022-06-28T12:17:47.474Z"
   },
   {
    "duration": 111,
    "start_time": "2022-06-28T12:17:47.486Z"
   },
   {
    "duration": 54,
    "start_time": "2022-06-28T12:17:47.599Z"
   },
   {
    "duration": 25,
    "start_time": "2022-06-28T12:17:47.656Z"
   },
   {
    "duration": 44,
    "start_time": "2022-06-28T12:17:47.684Z"
   },
   {
    "duration": 15,
    "start_time": "2022-06-28T12:17:47.730Z"
   },
   {
    "duration": 25,
    "start_time": "2022-06-28T12:17:47.747Z"
   },
   {
    "duration": 26,
    "start_time": "2022-06-28T12:17:47.774Z"
   },
   {
    "duration": 77,
    "start_time": "2022-06-28T12:17:47.802Z"
   },
   {
    "duration": 45,
    "start_time": "2022-06-28T12:17:47.881Z"
   },
   {
    "duration": 18,
    "start_time": "2022-06-28T12:17:47.929Z"
   },
   {
    "duration": 20,
    "start_time": "2022-06-28T12:17:47.950Z"
   },
   {
    "duration": 11,
    "start_time": "2022-06-28T12:17:47.973Z"
   },
   {
    "duration": 42,
    "start_time": "2022-06-28T12:17:47.985Z"
   },
   {
    "duration": 8809,
    "start_time": "2022-06-28T12:17:48.029Z"
   },
   {
    "duration": 15,
    "start_time": "2022-06-28T12:17:56.840Z"
   },
   {
    "duration": 37,
    "start_time": "2022-06-28T12:17:56.857Z"
   },
   {
    "duration": 70,
    "start_time": "2022-06-28T12:17:56.896Z"
   },
   {
    "duration": 36,
    "start_time": "2022-06-28T12:17:56.968Z"
   },
   {
    "duration": 9,
    "start_time": "2022-06-28T12:17:57.027Z"
   },
   {
    "duration": 68,
    "start_time": "2022-06-28T12:17:57.038Z"
   },
   {
    "duration": 19,
    "start_time": "2022-06-28T12:17:57.107Z"
   },
   {
    "duration": 15,
    "start_time": "2022-06-28T12:17:57.128Z"
   },
   {
    "duration": 30,
    "start_time": "2022-06-28T12:17:57.145Z"
   },
   {
    "duration": 81,
    "start_time": "2022-06-28T12:17:57.177Z"
   },
   {
    "duration": 36,
    "start_time": "2022-06-28T12:17:57.260Z"
   },
   {
    "duration": 10,
    "start_time": "2022-06-28T12:17:57.325Z"
   },
   {
    "duration": 73,
    "start_time": "2022-06-28T12:17:57.337Z"
   },
   {
    "duration": 71,
    "start_time": "2022-06-28T12:17:57.427Z"
   },
   {
    "duration": 735,
    "start_time": "2022-06-28T12:17:57.500Z"
   },
   {
    "duration": 878,
    "start_time": "2022-06-28T12:17:58.238Z"
   },
   {
    "duration": 20,
    "start_time": "2022-06-28T12:17:59.127Z"
   },
   {
    "duration": 26,
    "start_time": "2022-06-28T12:17:59.149Z"
   },
   {
    "duration": 100,
    "start_time": "2022-06-28T12:17:59.177Z"
   },
   {
    "duration": 52,
    "start_time": "2022-06-28T12:17:59.281Z"
   },
   {
    "duration": 8,
    "start_time": "2022-06-28T12:17:59.336Z"
   },
   {
    "duration": 58,
    "start_time": "2022-06-28T12:17:59.346Z"
   },
   {
    "duration": 24,
    "start_time": "2022-06-28T12:17:59.406Z"
   },
   {
    "duration": 59,
    "start_time": "2022-06-28T12:17:59.435Z"
   },
   {
    "duration": 26,
    "start_time": "2022-06-28T12:22:01.086Z"
   },
   {
    "duration": 51,
    "start_time": "2022-06-28T12:26:12.406Z"
   },
   {
    "duration": 25,
    "start_time": "2022-06-28T12:30:04.244Z"
   },
   {
    "duration": 98,
    "start_time": "2022-06-28T12:31:13.211Z"
   },
   {
    "duration": 97,
    "start_time": "2022-06-28T12:31:18.217Z"
   },
   {
    "duration": 132,
    "start_time": "2022-06-28T12:31:36.499Z"
   },
   {
    "duration": 21,
    "start_time": "2022-06-28T12:35:17.262Z"
   },
   {
    "duration": 45,
    "start_time": "2022-06-28T12:37:35.552Z"
   },
   {
    "duration": 28,
    "start_time": "2022-06-28T12:39:12.307Z"
   },
   {
    "duration": 8,
    "start_time": "2022-06-28T12:39:15.711Z"
   },
   {
    "duration": 24,
    "start_time": "2022-06-28T12:39:18.385Z"
   },
   {
    "duration": 7,
    "start_time": "2022-06-28T12:41:16.107Z"
   },
   {
    "duration": 22,
    "start_time": "2022-06-28T12:43:09.350Z"
   },
   {
    "duration": 19,
    "start_time": "2022-06-28T12:58:47.988Z"
   },
   {
    "duration": 9,
    "start_time": "2022-06-28T13:00:48.809Z"
   },
   {
    "duration": 33,
    "start_time": "2022-06-28T13:01:31.815Z"
   },
   {
    "duration": 4,
    "start_time": "2022-06-28T13:34:41.915Z"
   },
   {
    "duration": 12,
    "start_time": "2022-06-28T13:34:45.350Z"
   },
   {
    "duration": 9017,
    "start_time": "2022-06-28T13:34:46.999Z"
   },
   {
    "duration": 40,
    "start_time": "2022-06-28T13:35:32.210Z"
   },
   {
    "duration": 15,
    "start_time": "2022-06-28T13:36:39.419Z"
   },
   {
    "duration": 70,
    "start_time": "2022-06-28T13:36:48.110Z"
   },
   {
    "duration": 1421,
    "start_time": "2022-06-28T13:39:51.519Z"
   },
   {
    "duration": 679,
    "start_time": "2022-06-28T13:39:52.942Z"
   },
   {
    "duration": 25,
    "start_time": "2022-06-28T13:39:53.623Z"
   },
   {
    "duration": 33,
    "start_time": "2022-06-28T13:39:53.651Z"
   },
   {
    "duration": 6,
    "start_time": "2022-06-28T13:39:53.686Z"
   },
   {
    "duration": 19,
    "start_time": "2022-06-28T13:39:53.694Z"
   },
   {
    "duration": 59,
    "start_time": "2022-06-28T13:39:53.715Z"
   },
   {
    "duration": 98,
    "start_time": "2022-06-28T13:39:53.776Z"
   },
   {
    "duration": 68,
    "start_time": "2022-06-28T13:39:53.876Z"
   },
   {
    "duration": 340,
    "start_time": "2022-06-28T13:39:53.947Z"
   },
   {
    "duration": 15,
    "start_time": "2022-06-28T13:39:54.289Z"
   },
   {
    "duration": 55,
    "start_time": "2022-06-28T13:39:54.306Z"
   },
   {
    "duration": 26,
    "start_time": "2022-06-28T13:39:54.362Z"
   },
   {
    "duration": 85,
    "start_time": "2022-06-28T13:39:54.390Z"
   },
   {
    "duration": 56,
    "start_time": "2022-06-28T13:39:54.477Z"
   },
   {
    "duration": 23,
    "start_time": "2022-06-28T13:39:54.535Z"
   },
   {
    "duration": 70,
    "start_time": "2022-06-28T13:39:54.561Z"
   },
   {
    "duration": 17,
    "start_time": "2022-06-28T13:39:54.633Z"
   },
   {
    "duration": 69,
    "start_time": "2022-06-28T13:39:54.653Z"
   },
   {
    "duration": 68,
    "start_time": "2022-06-28T13:39:54.725Z"
   },
   {
    "duration": 23,
    "start_time": "2022-06-28T13:39:54.796Z"
   },
   {
    "duration": 95,
    "start_time": "2022-06-28T13:39:54.821Z"
   },
   {
    "duration": 20,
    "start_time": "2022-06-28T13:39:54.918Z"
   },
   {
    "duration": 47,
    "start_time": "2022-06-28T13:39:54.940Z"
   },
   {
    "duration": 7,
    "start_time": "2022-06-28T13:39:54.989Z"
   },
   {
    "duration": 15,
    "start_time": "2022-06-28T13:39:54.998Z"
   },
   {
    "duration": 28,
    "start_time": "2022-06-28T13:39:55.015Z"
   },
   {
    "duration": 23,
    "start_time": "2022-06-28T13:39:55.050Z"
   },
   {
    "duration": 11,
    "start_time": "2022-06-28T13:39:55.075Z"
   },
   {
    "duration": 19,
    "start_time": "2022-06-28T13:39:55.088Z"
   },
   {
    "duration": 125,
    "start_time": "2022-06-28T13:39:55.109Z"
   },
   {
    "duration": 40,
    "start_time": "2022-06-28T13:39:55.235Z"
   },
   {
    "duration": 722,
    "start_time": "2022-06-28T13:39:55.278Z"
   },
   {
    "duration": 8,
    "start_time": "2022-06-28T13:39:56.003Z"
   },
   {
    "duration": 92,
    "start_time": "2022-06-28T13:39:56.013Z"
   },
   {
    "duration": 91,
    "start_time": "2022-06-28T13:39:56.107Z"
   },
   {
    "duration": 53,
    "start_time": "2022-06-28T13:39:56.201Z"
   },
   {
    "duration": 15,
    "start_time": "2022-06-28T13:39:56.255Z"
   },
   {
    "duration": 27,
    "start_time": "2022-06-28T13:39:56.273Z"
   },
   {
    "duration": 35,
    "start_time": "2022-06-28T13:39:56.302Z"
   },
   {
    "duration": 27,
    "start_time": "2022-06-28T13:39:56.345Z"
   },
   {
    "duration": 40,
    "start_time": "2022-06-28T13:39:56.374Z"
   },
   {
    "duration": 30,
    "start_time": "2022-06-28T13:39:56.427Z"
   },
   {
    "duration": 75,
    "start_time": "2022-06-28T13:39:56.460Z"
   },
   {
    "duration": 220,
    "start_time": "2022-06-28T13:39:56.537Z"
   },
   {
    "duration": 22,
    "start_time": "2022-06-28T13:39:56.759Z"
   },
   {
    "duration": 51,
    "start_time": "2022-06-28T13:39:56.783Z"
   },
   {
    "duration": 12,
    "start_time": "2022-06-28T13:39:56.836Z"
   },
   {
    "duration": 26,
    "start_time": "2022-06-28T13:39:56.850Z"
   },
   {
    "duration": 17,
    "start_time": "2022-06-28T13:39:56.879Z"
   },
   {
    "duration": 68,
    "start_time": "2022-06-28T13:39:56.898Z"
   },
   {
    "duration": 17,
    "start_time": "2022-06-28T13:39:56.968Z"
   },
   {
    "duration": 25,
    "start_time": "2022-06-28T13:39:56.987Z"
   },
   {
    "duration": 17,
    "start_time": "2022-06-28T13:39:57.015Z"
   },
   {
    "duration": 42,
    "start_time": "2022-06-28T13:39:57.043Z"
   },
   {
    "duration": 8516,
    "start_time": "2022-06-28T13:39:57.087Z"
   },
   {
    "duration": 34,
    "start_time": "2022-06-28T13:40:05.606Z"
   },
   {
    "duration": 29,
    "start_time": "2022-06-28T13:40:05.641Z"
   },
   {
    "duration": 41,
    "start_time": "2022-06-28T13:40:05.672Z"
   },
   {
    "duration": 53,
    "start_time": "2022-06-28T13:40:05.715Z"
   },
   {
    "duration": 11,
    "start_time": "2022-06-28T13:40:05.770Z"
   },
   {
    "duration": 432,
    "start_time": "2022-06-28T13:40:05.783Z"
   },
   {
    "duration": 5,
    "start_time": "2022-06-28T13:40:06.217Z"
   },
   {
    "duration": 54,
    "start_time": "2022-06-28T13:40:06.225Z"
   },
   {
    "duration": 92,
    "start_time": "2022-06-28T13:40:06.281Z"
   },
   {
    "duration": 87,
    "start_time": "2022-06-28T13:40:06.375Z"
   },
   {
    "duration": 80,
    "start_time": "2022-06-28T13:40:06.464Z"
   },
   {
    "duration": 9,
    "start_time": "2022-06-28T13:40:06.549Z"
   },
   {
    "duration": 100,
    "start_time": "2022-06-28T13:40:06.559Z"
   },
   {
    "duration": 103,
    "start_time": "2022-06-28T13:40:06.661Z"
   },
   {
    "duration": 808,
    "start_time": "2022-06-28T13:40:06.766Z"
   },
   {
    "duration": 730,
    "start_time": "2022-06-28T13:40:07.577Z"
   },
   {
    "duration": 49,
    "start_time": "2022-06-28T13:40:08.309Z"
   },
   {
    "duration": 38,
    "start_time": "2022-06-28T13:40:08.359Z"
   },
   {
    "duration": 101,
    "start_time": "2022-06-28T13:40:08.398Z"
   },
   {
    "duration": 48,
    "start_time": "2022-06-28T13:40:08.501Z"
   },
   {
    "duration": 6,
    "start_time": "2022-06-28T13:40:08.551Z"
   },
   {
    "duration": 91,
    "start_time": "2022-06-28T13:40:08.559Z"
   },
   {
    "duration": 5,
    "start_time": "2022-06-28T13:40:08.653Z"
   },
   {
    "duration": 77,
    "start_time": "2022-06-28T13:40:08.660Z"
   },
   {
    "duration": 23,
    "start_time": "2022-06-28T14:13:08.859Z"
   },
   {
    "duration": 25,
    "start_time": "2022-06-28T14:13:25.958Z"
   },
   {
    "duration": 8,
    "start_time": "2022-06-28T14:13:30.688Z"
   },
   {
    "duration": 67,
    "start_time": "2022-06-28T14:13:39.039Z"
   },
   {
    "duration": 70,
    "start_time": "2022-06-28T14:14:55.612Z"
   },
   {
    "duration": 193,
    "start_time": "2022-06-28T14:15:35.549Z"
   },
   {
    "duration": 210,
    "start_time": "2022-06-28T14:20:01.297Z"
   },
   {
    "duration": 6,
    "start_time": "2022-06-28T14:20:32.805Z"
   },
   {
    "duration": 68,
    "start_time": "2022-06-28T14:20:37.083Z"
   },
   {
    "duration": 62,
    "start_time": "2022-06-28T14:20:50.455Z"
   },
   {
    "duration": 5,
    "start_time": "2022-06-28T14:29:53.211Z"
   },
   {
    "duration": 69,
    "start_time": "2022-06-28T14:29:57.411Z"
   },
   {
    "duration": 272,
    "start_time": "2022-06-28T14:52:39.060Z"
   },
   {
    "duration": 34,
    "start_time": "2022-06-28T14:54:02.834Z"
   },
   {
    "duration": 14,
    "start_time": "2022-06-28T14:58:53.374Z"
   },
   {
    "duration": 27,
    "start_time": "2022-06-28T14:59:03.349Z"
   },
   {
    "duration": 1187,
    "start_time": "2022-06-28T14:59:33.650Z"
   },
   {
    "duration": 901,
    "start_time": "2022-06-28T15:01:35.819Z"
   },
   {
    "duration": 449,
    "start_time": "2022-06-28T15:04:35.449Z"
   },
   {
    "duration": 512,
    "start_time": "2022-06-28T15:05:03.520Z"
   },
   {
    "duration": 1370,
    "start_time": "2022-06-28T15:21:21.208Z"
   },
   {
    "duration": 632,
    "start_time": "2022-06-28T15:21:22.580Z"
   },
   {
    "duration": 23,
    "start_time": "2022-06-28T15:21:23.215Z"
   },
   {
    "duration": 36,
    "start_time": "2022-06-28T15:21:23.243Z"
   },
   {
    "duration": 6,
    "start_time": "2022-06-28T15:21:23.281Z"
   },
   {
    "duration": 38,
    "start_time": "2022-06-28T15:21:23.290Z"
   },
   {
    "duration": 35,
    "start_time": "2022-06-28T15:21:23.332Z"
   },
   {
    "duration": 108,
    "start_time": "2022-06-28T15:21:23.370Z"
   },
   {
    "duration": 50,
    "start_time": "2022-06-28T15:21:23.480Z"
   },
   {
    "duration": 299,
    "start_time": "2022-06-28T15:21:23.533Z"
   },
   {
    "duration": 14,
    "start_time": "2022-06-28T15:21:23.834Z"
   },
   {
    "duration": 23,
    "start_time": "2022-06-28T15:21:23.850Z"
   },
   {
    "duration": 66,
    "start_time": "2022-06-28T15:21:23.875Z"
   },
   {
    "duration": 42,
    "start_time": "2022-06-28T15:21:23.943Z"
   },
   {
    "duration": 74,
    "start_time": "2022-06-28T15:21:23.987Z"
   },
   {
    "duration": 15,
    "start_time": "2022-06-28T15:21:24.063Z"
   },
   {
    "duration": 68,
    "start_time": "2022-06-28T15:21:24.080Z"
   },
   {
    "duration": 13,
    "start_time": "2022-06-28T15:21:24.150Z"
   },
   {
    "duration": 63,
    "start_time": "2022-06-28T15:21:24.166Z"
   },
   {
    "duration": 12,
    "start_time": "2022-06-28T15:21:24.231Z"
   },
   {
    "duration": 17,
    "start_time": "2022-06-28T15:21:24.248Z"
   },
   {
    "duration": 74,
    "start_time": "2022-06-28T15:21:24.267Z"
   },
   {
    "duration": 13,
    "start_time": "2022-06-28T15:21:24.343Z"
   },
   {
    "duration": 76,
    "start_time": "2022-06-28T15:21:24.358Z"
   },
   {
    "duration": 7,
    "start_time": "2022-06-28T15:21:24.437Z"
   },
   {
    "duration": 23,
    "start_time": "2022-06-28T15:21:24.446Z"
   },
   {
    "duration": 50,
    "start_time": "2022-06-28T15:21:24.472Z"
   },
   {
    "duration": 33,
    "start_time": "2022-06-28T15:21:24.527Z"
   },
   {
    "duration": 37,
    "start_time": "2022-06-28T15:21:24.562Z"
   },
   {
    "duration": 38,
    "start_time": "2022-06-28T15:21:24.602Z"
   },
   {
    "duration": 183,
    "start_time": "2022-06-28T15:21:24.643Z"
   },
   {
    "duration": 37,
    "start_time": "2022-06-28T15:21:24.828Z"
   },
   {
    "duration": 660,
    "start_time": "2022-06-28T15:21:24.867Z"
   },
   {
    "duration": 9,
    "start_time": "2022-06-28T15:21:25.528Z"
   },
   {
    "duration": 96,
    "start_time": "2022-06-28T15:21:25.538Z"
   },
   {
    "duration": 51,
    "start_time": "2022-06-28T15:21:25.636Z"
   },
   {
    "duration": 48,
    "start_time": "2022-06-28T15:21:25.689Z"
   },
   {
    "duration": 8,
    "start_time": "2022-06-28T15:21:25.739Z"
   },
   {
    "duration": 46,
    "start_time": "2022-06-28T15:21:25.749Z"
   },
   {
    "duration": 19,
    "start_time": "2022-06-28T15:21:25.797Z"
   },
   {
    "duration": 21,
    "start_time": "2022-06-28T15:21:25.818Z"
   },
   {
    "duration": 38,
    "start_time": "2022-06-28T15:21:25.841Z"
   },
   {
    "duration": 57,
    "start_time": "2022-06-28T15:21:25.881Z"
   },
   {
    "duration": 47,
    "start_time": "2022-06-28T15:21:25.940Z"
   },
   {
    "duration": 210,
    "start_time": "2022-06-28T15:21:25.989Z"
   },
   {
    "duration": 36,
    "start_time": "2022-06-28T15:21:26.200Z"
   },
   {
    "duration": 34,
    "start_time": "2022-06-28T15:21:26.239Z"
   },
   {
    "duration": 10,
    "start_time": "2022-06-28T15:21:26.276Z"
   },
   {
    "duration": 60,
    "start_time": "2022-06-28T15:21:26.288Z"
   },
   {
    "duration": 22,
    "start_time": "2022-06-28T15:21:26.350Z"
   },
   {
    "duration": 30,
    "start_time": "2022-06-28T15:21:26.374Z"
   },
   {
    "duration": 35,
    "start_time": "2022-06-28T15:21:26.406Z"
   },
   {
    "duration": 37,
    "start_time": "2022-06-28T15:21:26.445Z"
   },
   {
    "duration": 8,
    "start_time": "2022-06-28T15:21:26.484Z"
   },
   {
    "duration": 38,
    "start_time": "2022-06-28T15:21:26.494Z"
   },
   {
    "duration": 9144,
    "start_time": "2022-06-28T15:21:26.535Z"
   },
   {
    "duration": 19,
    "start_time": "2022-06-28T15:21:35.681Z"
   },
   {
    "duration": 41,
    "start_time": "2022-06-28T15:21:35.702Z"
   },
   {
    "duration": 53,
    "start_time": "2022-06-28T15:21:35.746Z"
   },
   {
    "duration": 44,
    "start_time": "2022-06-28T15:21:35.801Z"
   },
   {
    "duration": 11,
    "start_time": "2022-06-28T15:21:35.847Z"
   },
   {
    "duration": 441,
    "start_time": "2022-06-28T15:21:35.860Z"
   },
   {
    "duration": 6,
    "start_time": "2022-06-28T15:21:36.303Z"
   },
   {
    "duration": 22,
    "start_time": "2022-06-28T15:21:36.311Z"
   },
   {
    "duration": 41,
    "start_time": "2022-06-28T15:21:36.335Z"
   },
   {
    "duration": 30,
    "start_time": "2022-06-28T15:21:36.427Z"
   },
   {
    "duration": 84,
    "start_time": "2022-06-28T15:21:36.460Z"
   },
   {
    "duration": 10,
    "start_time": "2022-06-28T15:21:36.546Z"
   },
   {
    "duration": 168,
    "start_time": "2022-06-28T15:21:36.558Z"
   },
   {
    "duration": 220,
    "start_time": "2022-06-28T15:21:36.728Z"
   },
   {
    "duration": 201,
    "start_time": "2022-06-28T15:21:36.950Z"
   },
   {
    "duration": 732,
    "start_time": "2022-06-28T15:21:37.153Z"
   },
   {
    "duration": 710,
    "start_time": "2022-06-28T15:21:37.887Z"
   },
   {
    "duration": 34,
    "start_time": "2022-06-28T15:21:38.600Z"
   },
   {
    "duration": 511,
    "start_time": "2022-06-28T15:21:38.636Z"
   },
   {
    "duration": 27,
    "start_time": "2022-06-28T15:21:39.149Z"
   },
   {
    "duration": 57,
    "start_time": "2022-06-28T15:21:39.178Z"
   },
   {
    "duration": 132,
    "start_time": "2022-06-28T15:21:39.237Z"
   },
   {
    "duration": 64,
    "start_time": "2022-06-28T15:21:39.372Z"
   },
   {
    "duration": 6,
    "start_time": "2022-06-28T15:21:39.438Z"
   },
   {
    "duration": 92,
    "start_time": "2022-06-28T15:21:39.446Z"
   },
   {
    "duration": 5,
    "start_time": "2022-06-28T15:21:39.544Z"
   },
   {
    "duration": 95,
    "start_time": "2022-06-28T15:21:39.551Z"
   },
   {
    "duration": 1505,
    "start_time": "2022-06-28T16:11:58.203Z"
   },
   {
    "duration": 1288,
    "start_time": "2022-06-28T16:12:02.219Z"
   },
   {
    "duration": 1261,
    "start_time": "2022-06-28T16:12:03.509Z"
   },
   {
    "duration": 12,
    "start_time": "2022-06-28T16:12:04.772Z"
   },
   {
    "duration": 34,
    "start_time": "2022-06-28T16:12:04.787Z"
   },
   {
    "duration": 7,
    "start_time": "2022-06-28T16:12:04.822Z"
   },
   {
    "duration": 19,
    "start_time": "2022-06-28T16:12:04.831Z"
   },
   {
    "duration": 31,
    "start_time": "2022-06-28T16:12:04.851Z"
   },
   {
    "duration": 62,
    "start_time": "2022-06-28T16:12:04.884Z"
   },
   {
    "duration": 39,
    "start_time": "2022-06-28T16:12:04.953Z"
   },
   {
    "duration": 359,
    "start_time": "2022-06-28T16:12:04.995Z"
   },
   {
    "duration": 23,
    "start_time": "2022-06-28T16:12:05.357Z"
   },
   {
    "duration": 32,
    "start_time": "2022-06-28T16:12:05.381Z"
   },
   {
    "duration": 22,
    "start_time": "2022-06-28T16:12:05.415Z"
   },
   {
    "duration": 53,
    "start_time": "2022-06-28T16:12:05.438Z"
   },
   {
    "duration": 34,
    "start_time": "2022-06-28T16:12:05.493Z"
   },
   {
    "duration": 28,
    "start_time": "2022-06-28T16:12:05.528Z"
   },
   {
    "duration": 46,
    "start_time": "2022-06-28T16:12:05.558Z"
   },
   {
    "duration": 11,
    "start_time": "2022-06-28T16:12:05.606Z"
   },
   {
    "duration": 28,
    "start_time": "2022-06-28T16:12:05.618Z"
   },
   {
    "duration": 16,
    "start_time": "2022-06-28T16:12:05.652Z"
   },
   {
    "duration": 10,
    "start_time": "2022-06-28T16:12:05.669Z"
   },
   {
    "duration": 34,
    "start_time": "2022-06-28T16:12:05.681Z"
   },
   {
    "duration": 11,
    "start_time": "2022-06-28T16:12:05.716Z"
   },
   {
    "duration": 42,
    "start_time": "2022-06-28T16:12:05.728Z"
   },
   {
    "duration": 11,
    "start_time": "2022-06-28T16:12:05.773Z"
   },
   {
    "duration": 6,
    "start_time": "2022-06-28T16:12:05.787Z"
   },
   {
    "duration": 7,
    "start_time": "2022-06-28T16:12:05.795Z"
   },
   {
    "duration": 11,
    "start_time": "2022-06-28T16:12:05.810Z"
   },
   {
    "duration": 8,
    "start_time": "2022-06-28T16:12:05.823Z"
   },
   {
    "duration": 19,
    "start_time": "2022-06-28T16:12:05.855Z"
   },
   {
    "duration": 55,
    "start_time": "2022-06-28T16:12:05.876Z"
   },
   {
    "duration": 38,
    "start_time": "2022-06-28T16:12:05.934Z"
   },
   {
    "duration": 529,
    "start_time": "2022-06-28T16:12:05.974Z"
   },
   {
    "duration": 10,
    "start_time": "2022-06-28T16:12:06.505Z"
   },
   {
    "duration": 82,
    "start_time": "2022-06-28T16:12:06.516Z"
   },
   {
    "duration": 39,
    "start_time": "2022-06-28T16:12:06.600Z"
   },
   {
    "duration": 27,
    "start_time": "2022-06-28T16:12:06.641Z"
   },
   {
    "duration": 10,
    "start_time": "2022-06-28T16:12:06.670Z"
   },
   {
    "duration": 10,
    "start_time": "2022-06-28T16:12:06.682Z"
   },
   {
    "duration": 11,
    "start_time": "2022-06-28T16:12:06.694Z"
   },
   {
    "duration": 13,
    "start_time": "2022-06-28T16:12:06.706Z"
   },
   {
    "duration": 58,
    "start_time": "2022-06-28T16:12:06.721Z"
   },
   {
    "duration": 18,
    "start_time": "2022-06-28T16:12:06.782Z"
   },
   {
    "duration": 54,
    "start_time": "2022-06-28T16:12:06.802Z"
   },
   {
    "duration": 166,
    "start_time": "2022-06-28T16:12:06.858Z"
   },
   {
    "duration": 17,
    "start_time": "2022-06-28T16:12:07.026Z"
   },
   {
    "duration": 20,
    "start_time": "2022-06-28T16:12:07.055Z"
   },
   {
    "duration": 6,
    "start_time": "2022-06-28T16:12:07.077Z"
   },
   {
    "duration": 22,
    "start_time": "2022-06-28T16:12:07.084Z"
   },
   {
    "duration": 10,
    "start_time": "2022-06-28T16:12:07.108Z"
   },
   {
    "duration": 42,
    "start_time": "2022-06-28T16:12:07.120Z"
   },
   {
    "duration": 18,
    "start_time": "2022-06-28T16:12:07.164Z"
   },
   {
    "duration": 15,
    "start_time": "2022-06-28T16:12:07.183Z"
   },
   {
    "duration": 4,
    "start_time": "2022-06-28T16:12:07.200Z"
   },
   {
    "duration": 17,
    "start_time": "2022-06-28T16:12:07.206Z"
   },
   {
    "duration": 7714,
    "start_time": "2022-06-28T16:12:07.225Z"
   },
   {
    "duration": 29,
    "start_time": "2022-06-28T16:12:14.940Z"
   },
   {
    "duration": 19,
    "start_time": "2022-06-28T16:12:14.971Z"
   },
   {
    "duration": 39,
    "start_time": "2022-06-28T16:12:14.992Z"
   },
   {
    "duration": 52,
    "start_time": "2022-06-28T16:12:15.033Z"
   },
   {
    "duration": 10,
    "start_time": "2022-06-28T16:12:15.087Z"
   },
   {
    "duration": 677,
    "start_time": "2022-06-28T16:12:15.099Z"
   },
   {
    "duration": 5,
    "start_time": "2022-06-28T16:12:15.778Z"
   },
   {
    "duration": 11,
    "start_time": "2022-06-28T16:12:15.784Z"
   },
   {
    "duration": 17,
    "start_time": "2022-06-28T16:12:15.796Z"
   },
   {
    "duration": 50,
    "start_time": "2022-06-28T16:12:15.815Z"
   },
   {
    "duration": 35,
    "start_time": "2022-06-28T16:12:15.867Z"
   },
   {
    "duration": 5,
    "start_time": "2022-06-28T16:12:15.904Z"
   },
   {
    "duration": 137,
    "start_time": "2022-06-28T16:12:15.911Z"
   },
   {
    "duration": 188,
    "start_time": "2022-06-28T16:12:16.050Z"
   },
   {
    "duration": 170,
    "start_time": "2022-06-28T16:12:16.239Z"
   },
   {
    "duration": 390,
    "start_time": "2022-06-28T16:12:16.411Z"
   },
   {
    "duration": 396,
    "start_time": "2022-06-28T16:12:16.803Z"
   },
   {
    "duration": 17,
    "start_time": "2022-06-28T16:12:17.201Z"
   },
   {
    "duration": 471,
    "start_time": "2022-06-28T16:12:17.219Z"
   },
   {
    "duration": 22,
    "start_time": "2022-06-28T16:12:17.692Z"
   },
   {
    "duration": 42,
    "start_time": "2022-06-28T16:12:17.716Z"
   },
   {
    "duration": 103,
    "start_time": "2022-06-28T16:12:17.761Z"
   },
   {
    "duration": 26,
    "start_time": "2022-06-28T16:12:17.871Z"
   },
   {
    "duration": 8,
    "start_time": "2022-06-28T16:12:17.899Z"
   },
   {
    "duration": 88,
    "start_time": "2022-06-28T16:12:17.909Z"
   },
   {
    "duration": 4,
    "start_time": "2022-06-28T16:12:18.001Z"
   },
   {
    "duration": 66,
    "start_time": "2022-06-28T16:12:18.007Z"
   },
   {
    "duration": 1202,
    "start_time": "2022-06-28T16:23:28.211Z"
   },
   {
    "duration": 565,
    "start_time": "2022-06-28T16:23:29.415Z"
   },
   {
    "duration": 11,
    "start_time": "2022-06-28T16:23:29.982Z"
   },
   {
    "duration": 24,
    "start_time": "2022-06-28T16:23:29.994Z"
   },
   {
    "duration": 6,
    "start_time": "2022-06-28T16:23:30.020Z"
   },
   {
    "duration": 24,
    "start_time": "2022-06-28T16:23:30.028Z"
   },
   {
    "duration": 27,
    "start_time": "2022-06-28T16:23:30.059Z"
   },
   {
    "duration": 60,
    "start_time": "2022-06-28T16:23:30.087Z"
   },
   {
    "duration": 38,
    "start_time": "2022-06-28T16:23:30.149Z"
   },
   {
    "duration": 294,
    "start_time": "2022-06-28T16:23:30.189Z"
   },
   {
    "duration": 11,
    "start_time": "2022-06-28T16:23:30.485Z"
   },
   {
    "duration": 26,
    "start_time": "2022-06-28T16:23:30.497Z"
   },
   {
    "duration": 42,
    "start_time": "2022-06-28T16:23:30.525Z"
   },
   {
    "duration": 38,
    "start_time": "2022-06-28T16:23:30.570Z"
   },
   {
    "duration": 28,
    "start_time": "2022-06-28T16:23:30.610Z"
   },
   {
    "duration": 21,
    "start_time": "2022-06-28T16:23:30.640Z"
   },
   {
    "duration": 33,
    "start_time": "2022-06-28T16:23:30.665Z"
   },
   {
    "duration": 10,
    "start_time": "2022-06-28T16:23:30.700Z"
   },
   {
    "duration": 36,
    "start_time": "2022-06-28T16:23:30.712Z"
   },
   {
    "duration": 29,
    "start_time": "2022-06-28T16:23:30.750Z"
   },
   {
    "duration": 17,
    "start_time": "2022-06-28T16:23:30.781Z"
   },
   {
    "duration": 36,
    "start_time": "2022-06-28T16:23:30.800Z"
   },
   {
    "duration": 11,
    "start_time": "2022-06-28T16:23:30.837Z"
   },
   {
    "duration": 52,
    "start_time": "2022-06-28T16:23:30.849Z"
   },
   {
    "duration": 9,
    "start_time": "2022-06-28T16:23:30.903Z"
   },
   {
    "duration": 27,
    "start_time": "2022-06-28T16:23:30.914Z"
   },
   {
    "duration": 33,
    "start_time": "2022-06-28T16:23:30.943Z"
   },
   {
    "duration": 31,
    "start_time": "2022-06-28T16:23:30.978Z"
   },
   {
    "duration": 8,
    "start_time": "2022-06-28T16:23:31.011Z"
   },
   {
    "duration": 18,
    "start_time": "2022-06-28T16:23:31.021Z"
   },
   {
    "duration": 95,
    "start_time": "2022-06-28T16:23:31.040Z"
   },
   {
    "duration": 32,
    "start_time": "2022-06-28T16:23:31.136Z"
   },
   {
    "duration": 510,
    "start_time": "2022-06-28T16:23:31.170Z"
   },
   {
    "duration": 8,
    "start_time": "2022-06-28T16:23:31.682Z"
   },
   {
    "duration": 82,
    "start_time": "2022-06-28T16:23:31.692Z"
   },
   {
    "duration": 39,
    "start_time": "2022-06-28T16:23:31.775Z"
   },
   {
    "duration": 14,
    "start_time": "2022-06-28T16:23:31.816Z"
   },
   {
    "duration": 14,
    "start_time": "2022-06-28T16:23:31.855Z"
   },
   {
    "duration": 12,
    "start_time": "2022-06-28T16:23:31.871Z"
   },
   {
    "duration": 12,
    "start_time": "2022-06-28T16:23:31.885Z"
   },
   {
    "duration": 12,
    "start_time": "2022-06-28T16:23:31.901Z"
   },
   {
    "duration": 53,
    "start_time": "2022-06-28T16:23:31.914Z"
   },
   {
    "duration": 19,
    "start_time": "2022-06-28T16:23:31.968Z"
   },
   {
    "duration": 36,
    "start_time": "2022-06-28T16:23:31.989Z"
   },
   {
    "duration": 174,
    "start_time": "2022-06-28T16:23:32.027Z"
   },
   {
    "duration": 16,
    "start_time": "2022-06-28T16:23:32.203Z"
   },
   {
    "duration": 15,
    "start_time": "2022-06-28T16:23:32.220Z"
   },
   {
    "duration": 29,
    "start_time": "2022-06-28T16:23:32.237Z"
   },
   {
    "duration": 20,
    "start_time": "2022-06-28T16:23:32.268Z"
   },
   {
    "duration": 11,
    "start_time": "2022-06-28T16:23:32.290Z"
   },
   {
    "duration": 14,
    "start_time": "2022-06-28T16:23:32.302Z"
   },
   {
    "duration": 13,
    "start_time": "2022-06-28T16:23:32.317Z"
   },
   {
    "duration": 36,
    "start_time": "2022-06-28T16:23:32.332Z"
   },
   {
    "duration": 8,
    "start_time": "2022-06-28T16:23:32.370Z"
   },
   {
    "duration": 10,
    "start_time": "2022-06-28T16:23:32.380Z"
   },
   {
    "duration": 7757,
    "start_time": "2022-06-28T16:23:32.391Z"
   },
   {
    "duration": 23,
    "start_time": "2022-06-28T16:23:40.151Z"
   },
   {
    "duration": 17,
    "start_time": "2022-06-28T16:23:40.176Z"
   },
   {
    "duration": 26,
    "start_time": "2022-06-28T16:23:40.195Z"
   },
   {
    "duration": 57,
    "start_time": "2022-06-28T16:23:40.223Z"
   },
   {
    "duration": 8,
    "start_time": "2022-06-28T16:23:40.281Z"
   },
   {
    "duration": 526,
    "start_time": "2022-06-28T16:23:40.290Z"
   },
   {
    "duration": 4,
    "start_time": "2022-06-28T16:23:40.818Z"
   },
   {
    "duration": 15,
    "start_time": "2022-06-28T16:23:40.823Z"
   },
   {
    "duration": 39,
    "start_time": "2022-06-28T16:23:40.839Z"
   },
   {
    "duration": 82,
    "start_time": "2022-06-28T16:23:40.880Z"
   },
   {
    "duration": 22,
    "start_time": "2022-06-28T16:23:40.963Z"
   },
   {
    "duration": 7,
    "start_time": "2022-06-28T16:23:40.986Z"
   },
   {
    "duration": 106,
    "start_time": "2022-06-28T16:23:40.994Z"
   },
   {
    "duration": 193,
    "start_time": "2022-06-28T16:23:41.102Z"
   },
   {
    "duration": 153,
    "start_time": "2022-06-28T16:23:41.296Z"
   },
   {
    "duration": 554,
    "start_time": "2022-06-28T16:23:41.453Z"
   },
   {
    "duration": 587,
    "start_time": "2022-06-28T16:23:42.009Z"
   },
   {
    "duration": 17,
    "start_time": "2022-06-28T16:23:42.598Z"
   },
   {
    "duration": 441,
    "start_time": "2022-06-28T16:23:42.617Z"
   },
   {
    "duration": 20,
    "start_time": "2022-06-28T16:23:43.064Z"
   },
   {
    "duration": 21,
    "start_time": "2022-06-28T16:23:43.085Z"
   },
   {
    "duration": 74,
    "start_time": "2022-06-28T16:23:43.107Z"
   },
   {
    "duration": 23,
    "start_time": "2022-06-28T16:23:43.183Z"
   },
   {
    "duration": 7,
    "start_time": "2022-06-28T16:23:43.207Z"
   },
   {
    "duration": 62,
    "start_time": "2022-06-28T16:23:43.215Z"
   },
   {
    "duration": 4,
    "start_time": "2022-06-28T16:23:43.279Z"
   },
   {
    "duration": 40,
    "start_time": "2022-06-28T16:23:43.284Z"
   },
   {
    "duration": 173,
    "start_time": "2022-06-28T16:24:57.564Z"
   },
   {
    "duration": 188,
    "start_time": "2022-06-28T16:25:38.896Z"
   },
   {
    "duration": 173,
    "start_time": "2022-06-28T16:27:46.752Z"
   },
   {
    "duration": 148,
    "start_time": "2022-06-28T16:27:51.264Z"
   },
   {
    "duration": 274,
    "start_time": "2022-06-28T16:27:54.935Z"
   },
   {
    "duration": 1316,
    "start_time": "2022-06-30T12:58:48.211Z"
   },
   {
    "duration": 1792,
    "start_time": "2022-06-30T12:58:49.529Z"
   },
   {
    "duration": 10,
    "start_time": "2022-06-30T12:58:51.323Z"
   },
   {
    "duration": 19,
    "start_time": "2022-06-30T12:58:51.335Z"
   },
   {
    "duration": 5,
    "start_time": "2022-06-30T12:58:51.355Z"
   },
   {
    "duration": 11,
    "start_time": "2022-06-30T12:58:51.361Z"
   },
   {
    "duration": 19,
    "start_time": "2022-06-30T12:58:51.373Z"
   },
   {
    "duration": 76,
    "start_time": "2022-06-30T12:58:51.394Z"
   },
   {
    "duration": 32,
    "start_time": "2022-06-30T12:58:51.472Z"
   },
   {
    "duration": 274,
    "start_time": "2022-06-30T12:58:51.506Z"
   },
   {
    "duration": 11,
    "start_time": "2022-06-30T12:58:51.782Z"
   },
   {
    "duration": 16,
    "start_time": "2022-06-30T12:58:51.794Z"
   },
   {
    "duration": 20,
    "start_time": "2022-06-30T12:58:51.811Z"
   },
   {
    "duration": 34,
    "start_time": "2022-06-30T12:58:51.853Z"
   },
   {
    "duration": 31,
    "start_time": "2022-06-30T12:58:51.889Z"
   },
   {
    "duration": 32,
    "start_time": "2022-06-30T12:58:51.921Z"
   },
   {
    "duration": 28,
    "start_time": "2022-06-30T12:58:51.955Z"
   },
   {
    "duration": 10,
    "start_time": "2022-06-30T12:58:51.984Z"
   },
   {
    "duration": 24,
    "start_time": "2022-06-30T12:58:51.995Z"
   },
   {
    "duration": 7,
    "start_time": "2022-06-30T12:58:52.020Z"
   },
   {
    "duration": 6,
    "start_time": "2022-06-30T12:58:52.053Z"
   },
   {
    "duration": 33,
    "start_time": "2022-06-30T12:58:52.060Z"
   },
   {
    "duration": 11,
    "start_time": "2022-06-30T12:58:52.095Z"
   },
   {
    "duration": 51,
    "start_time": "2022-06-30T12:58:52.108Z"
   },
   {
    "duration": 5,
    "start_time": "2022-06-30T12:58:52.160Z"
   },
   {
    "duration": 7,
    "start_time": "2022-06-30T12:58:52.166Z"
   },
   {
    "duration": 6,
    "start_time": "2022-06-30T12:58:52.175Z"
   },
   {
    "duration": 13,
    "start_time": "2022-06-30T12:58:52.185Z"
   },
   {
    "duration": 9,
    "start_time": "2022-06-30T12:58:52.200Z"
   },
   {
    "duration": 9,
    "start_time": "2022-06-30T12:58:52.211Z"
   },
   {
    "duration": 58,
    "start_time": "2022-06-30T12:58:52.252Z"
   },
   {
    "duration": 28,
    "start_time": "2022-06-30T12:58:52.312Z"
   },
   {
    "duration": 472,
    "start_time": "2022-06-30T12:58:52.353Z"
   },
   {
    "duration": 6,
    "start_time": "2022-06-30T12:58:52.827Z"
   },
   {
    "duration": 70,
    "start_time": "2022-06-30T12:58:52.835Z"
   },
   {
    "duration": 47,
    "start_time": "2022-06-30T12:58:52.906Z"
   },
   {
    "duration": 15,
    "start_time": "2022-06-30T12:58:52.955Z"
   },
   {
    "duration": 7,
    "start_time": "2022-06-30T12:58:52.972Z"
   },
   {
    "duration": 9,
    "start_time": "2022-06-30T12:58:52.980Z"
   },
   {
    "duration": 13,
    "start_time": "2022-06-30T12:58:52.991Z"
   },
   {
    "duration": 50,
    "start_time": "2022-06-30T12:58:53.005Z"
   },
   {
    "duration": 28,
    "start_time": "2022-06-30T12:58:53.057Z"
   },
   {
    "duration": 17,
    "start_time": "2022-06-30T12:58:53.087Z"
   },
   {
    "duration": 55,
    "start_time": "2022-06-30T12:58:53.106Z"
   },
   {
    "duration": 152,
    "start_time": "2022-06-30T12:58:53.162Z"
   },
   {
    "duration": 16,
    "start_time": "2022-06-30T12:58:53.316Z"
   },
   {
    "duration": 26,
    "start_time": "2022-06-30T12:58:53.334Z"
   },
   {
    "duration": 7,
    "start_time": "2022-06-30T12:58:53.362Z"
   },
   {
    "duration": 15,
    "start_time": "2022-06-30T12:58:53.370Z"
   },
   {
    "duration": 10,
    "start_time": "2022-06-30T12:58:53.387Z"
   },
   {
    "duration": 13,
    "start_time": "2022-06-30T12:58:53.399Z"
   },
   {
    "duration": 42,
    "start_time": "2022-06-30T12:58:53.413Z"
   },
   {
    "duration": 16,
    "start_time": "2022-06-30T12:58:53.457Z"
   },
   {
    "duration": 7,
    "start_time": "2022-06-30T12:58:53.474Z"
   },
   {
    "duration": 11,
    "start_time": "2022-06-30T12:58:53.483Z"
   },
   {
    "duration": 6905,
    "start_time": "2022-06-30T12:58:53.496Z"
   },
   {
    "duration": 15,
    "start_time": "2022-06-30T12:59:00.403Z"
   },
   {
    "duration": 37,
    "start_time": "2022-06-30T12:59:00.420Z"
   },
   {
    "duration": 37,
    "start_time": "2022-06-30T12:59:00.459Z"
   },
   {
    "duration": 28,
    "start_time": "2022-06-30T12:59:00.498Z"
   },
   {
    "duration": 9,
    "start_time": "2022-06-30T12:59:00.528Z"
   },
   {
    "duration": 385,
    "start_time": "2022-06-30T12:59:00.539Z"
   },
   {
    "duration": 4,
    "start_time": "2022-06-30T12:59:00.926Z"
   },
   {
    "duration": 57,
    "start_time": "2022-06-30T12:59:00.931Z"
   },
   {
    "duration": 69,
    "start_time": "2022-06-30T12:59:00.990Z"
   },
   {
    "duration": 24,
    "start_time": "2022-06-30T12:59:01.060Z"
   },
   {
    "duration": 41,
    "start_time": "2022-06-30T12:59:01.086Z"
   },
   {
    "duration": 26,
    "start_time": "2022-06-30T12:59:01.129Z"
   },
   {
    "duration": 59,
    "start_time": "2022-06-30T12:59:01.157Z"
   },
   {
    "duration": 177,
    "start_time": "2022-06-30T12:59:01.217Z"
   },
   {
    "duration": 234,
    "start_time": "2022-06-30T12:59:01.396Z"
   },
   {
    "duration": 71,
    "start_time": "2022-06-30T12:59:01.632Z"
   },
   {
    "duration": 514,
    "start_time": "2022-06-30T12:59:01.705Z"
   },
   {
    "duration": 513,
    "start_time": "2022-06-30T12:59:02.221Z"
   },
   {
    "duration": 30,
    "start_time": "2022-06-30T12:59:02.735Z"
   },
   {
    "duration": 397,
    "start_time": "2022-06-30T12:59:02.766Z"
   },
   {
    "duration": 20,
    "start_time": "2022-06-30T12:59:03.164Z"
   },
   {
    "duration": 25,
    "start_time": "2022-06-30T12:59:03.186Z"
   },
   {
    "duration": 78,
    "start_time": "2022-06-30T12:59:03.213Z"
   },
   {
    "duration": 23,
    "start_time": "2022-06-30T12:59:03.292Z"
   },
   {
    "duration": 6,
    "start_time": "2022-06-30T12:59:03.317Z"
   },
   {
    "duration": 58,
    "start_time": "2022-06-30T12:59:03.327Z"
   },
   {
    "duration": 4,
    "start_time": "2022-06-30T12:59:03.387Z"
   },
   {
    "duration": 49,
    "start_time": "2022-06-30T12:59:03.392Z"
   }
  ],
  "kernelspec": {
   "display_name": "Python 3 (ipykernel)",
   "language": "python",
   "name": "python3"
  },
  "language_info": {
   "codemirror_mode": {
    "name": "ipython",
    "version": 3
   },
   "file_extension": ".py",
   "mimetype": "text/x-python",
   "name": "python",
   "nbconvert_exporter": "python",
   "pygments_lexer": "ipython3",
   "version": "3.9.7"
  },
  "toc": {
   "base_numbering": 1,
   "nav_menu": {},
   "number_sections": true,
   "sideBar": true,
   "skip_h1_title": true,
   "title_cell": "Table of Contents",
   "title_sidebar": "Contents",
   "toc_cell": true,
   "toc_position": {
    "height": "calc(100% - 180px)",
    "left": "10px",
    "top": "150px",
    "width": "286.225px"
   },
   "toc_section_display": true,
   "toc_window_display": true
  }
 },
 "nbformat": 4,
 "nbformat_minor": 2
}
